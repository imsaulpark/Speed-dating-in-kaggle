{
 "cells": [
  {
   "cell_type": "markdown",
   "metadata": {},
   "source": [
    "# Data Preprocessing"
   ]
  },
  {
   "cell_type": "code",
   "execution_count": 1,
   "metadata": {},
   "outputs": [
    {
     "data": {
      "text/plain": [
       "(8378, 195)"
      ]
     },
     "execution_count": 1,
     "metadata": {},
     "output_type": "execute_result"
    }
   ],
   "source": [
    "import pandas as pd\n",
    "import numpy as np\n",
    "import matplotlib.pyplot as plt\n",
    "import seaborn as sns\n",
    "\n",
    "\n",
    "df_data = pd.read_csv(\"../data/Speed Dating Data.csv\")\n",
    "df_data.shape"
   ]
  },
  {
   "cell_type": "code",
   "execution_count": 2,
   "metadata": {},
   "outputs": [
    {
     "name": "stdout",
     "output_type": "stream",
     "text": [
      "missing rate : 0.0185008355216042\n"
     ]
    }
   ],
   "source": [
    "# select features\n",
    "cols = ['iid', 'pid', 'match','gender','dec', 'age',\n",
    "        'attr1_1', 'sinc1_1', 'fun1_1', 'intel1_1', 'amb1_1',\n",
    "        'attr3_1', 'sinc3_1', 'fun3_1', 'intel3_1', 'amb3_1']\n",
    "\n",
    "# drop missing values.\n",
    "row_full = df_data.shape[0]\n",
    "df_selected = df_data.loc[:, cols]\n",
    "df_selected.dropna(inplace=True)\n",
    "row_drop = df_selected.shape[0]\n",
    "\n",
    "miss_rate = (row_full - row_drop) / row_full\n",
    "print(\"missing rate :\", miss_rate)"
   ]
  },
  {
   "cell_type": "code",
   "execution_count": 3,
   "metadata": {},
   "outputs": [
    {
     "name": "stdout",
     "output_type": "stream",
     "text": [
      "dataframe is been making...\n",
      "100 200 300 400 500 600 700 800 900 1000 1100 1200 1300 1400 1500 1600 1700 1800 1900 2000 2100 2200 2300 2400 2500 2600 2700 2800 2900 3000 3100 3200 3300 3400 3500 3600 3700 3800 3900 4000 4100 4200 4300 4400 4500 4600 4700 4800 4900 5000 5100 5200 5300 5400 5500 5600 5700 5800 5900 6000 6100 6200 6300 6400 6500 6600 6700 6800 6900 7000 7100 7200 7300 7400 7500 7600 7700 7800 7900 8000 \n",
      "making success.\n",
      "\n",
      "df_match shape :  (8078, 28)\n"
     ]
    },
    {
     "data": {
      "text/html": [
       "<div>\n",
       "<style scoped>\n",
       "    .dataframe tbody tr th:only-of-type {\n",
       "        vertical-align: middle;\n",
       "    }\n",
       "\n",
       "    .dataframe tbody tr th {\n",
       "        vertical-align: top;\n",
       "    }\n",
       "\n",
       "    .dataframe thead th {\n",
       "        text-align: right;\n",
       "    }\n",
       "</style>\n",
       "<table border=\"1\" class=\"dataframe\">\n",
       "  <thead>\n",
       "    <tr style=\"text-align: right;\">\n",
       "      <th></th>\n",
       "      <th>iid</th>\n",
       "      <th>pid</th>\n",
       "      <th>match</th>\n",
       "      <th>gender</th>\n",
       "      <th>dec</th>\n",
       "      <th>age</th>\n",
       "      <th>attr1_1</th>\n",
       "      <th>sinc1_1</th>\n",
       "      <th>fun1_1</th>\n",
       "      <th>intel1_1</th>\n",
       "      <th>...</th>\n",
       "      <th>attr1_1_o</th>\n",
       "      <th>sinc1_1_o</th>\n",
       "      <th>fun1_1_o</th>\n",
       "      <th>intel1_1_o</th>\n",
       "      <th>amb1_1_o</th>\n",
       "      <th>attr3_1_o</th>\n",
       "      <th>sinc3_1_o</th>\n",
       "      <th>fun3_1_o</th>\n",
       "      <th>intel3_1_o</th>\n",
       "      <th>amb3_1_o</th>\n",
       "    </tr>\n",
       "  </thead>\n",
       "  <tbody>\n",
       "    <tr>\n",
       "      <th>0</th>\n",
       "      <td>11.0</td>\n",
       "      <td>1.0</td>\n",
       "      <td>0.0</td>\n",
       "      <td>1.0</td>\n",
       "      <td>0.0</td>\n",
       "      <td>27.0</td>\n",
       "      <td>35.0</td>\n",
       "      <td>20.0</td>\n",
       "      <td>20.0</td>\n",
       "      <td>20.0</td>\n",
       "      <td>...</td>\n",
       "      <td>15.0</td>\n",
       "      <td>20.0</td>\n",
       "      <td>15.0</td>\n",
       "      <td>20.0</td>\n",
       "      <td>15.0</td>\n",
       "      <td>6.0</td>\n",
       "      <td>8.0</td>\n",
       "      <td>8.0</td>\n",
       "      <td>8.0</td>\n",
       "      <td>7.0</td>\n",
       "    </tr>\n",
       "    <tr>\n",
       "      <th>1</th>\n",
       "      <td>11.0</td>\n",
       "      <td>2.0</td>\n",
       "      <td>0.0</td>\n",
       "      <td>1.0</td>\n",
       "      <td>0.0</td>\n",
       "      <td>27.0</td>\n",
       "      <td>35.0</td>\n",
       "      <td>20.0</td>\n",
       "      <td>20.0</td>\n",
       "      <td>20.0</td>\n",
       "      <td>...</td>\n",
       "      <td>45.0</td>\n",
       "      <td>5.0</td>\n",
       "      <td>20.0</td>\n",
       "      <td>25.0</td>\n",
       "      <td>0.0</td>\n",
       "      <td>7.0</td>\n",
       "      <td>5.0</td>\n",
       "      <td>10.0</td>\n",
       "      <td>8.0</td>\n",
       "      <td>3.0</td>\n",
       "    </tr>\n",
       "    <tr>\n",
       "      <th>2</th>\n",
       "      <td>11.0</td>\n",
       "      <td>3.0</td>\n",
       "      <td>0.0</td>\n",
       "      <td>1.0</td>\n",
       "      <td>0.0</td>\n",
       "      <td>27.0</td>\n",
       "      <td>35.0</td>\n",
       "      <td>20.0</td>\n",
       "      <td>20.0</td>\n",
       "      <td>20.0</td>\n",
       "      <td>...</td>\n",
       "      <td>35.0</td>\n",
       "      <td>10.0</td>\n",
       "      <td>10.0</td>\n",
       "      <td>35.0</td>\n",
       "      <td>10.0</td>\n",
       "      <td>8.0</td>\n",
       "      <td>9.0</td>\n",
       "      <td>8.0</td>\n",
       "      <td>9.0</td>\n",
       "      <td>8.0</td>\n",
       "    </tr>\n",
       "    <tr>\n",
       "      <th>3</th>\n",
       "      <td>11.0</td>\n",
       "      <td>4.0</td>\n",
       "      <td>0.0</td>\n",
       "      <td>1.0</td>\n",
       "      <td>0.0</td>\n",
       "      <td>27.0</td>\n",
       "      <td>35.0</td>\n",
       "      <td>20.0</td>\n",
       "      <td>20.0</td>\n",
       "      <td>20.0</td>\n",
       "      <td>...</td>\n",
       "      <td>20.0</td>\n",
       "      <td>20.0</td>\n",
       "      <td>20.0</td>\n",
       "      <td>20.0</td>\n",
       "      <td>10.0</td>\n",
       "      <td>7.0</td>\n",
       "      <td>8.0</td>\n",
       "      <td>9.0</td>\n",
       "      <td>7.0</td>\n",
       "      <td>8.0</td>\n",
       "    </tr>\n",
       "    <tr>\n",
       "      <th>4</th>\n",
       "      <td>11.0</td>\n",
       "      <td>5.0</td>\n",
       "      <td>0.0</td>\n",
       "      <td>1.0</td>\n",
       "      <td>0.0</td>\n",
       "      <td>27.0</td>\n",
       "      <td>35.0</td>\n",
       "      <td>20.0</td>\n",
       "      <td>20.0</td>\n",
       "      <td>20.0</td>\n",
       "      <td>...</td>\n",
       "      <td>20.0</td>\n",
       "      <td>5.0</td>\n",
       "      <td>25.0</td>\n",
       "      <td>25.0</td>\n",
       "      <td>10.0</td>\n",
       "      <td>6.0</td>\n",
       "      <td>3.0</td>\n",
       "      <td>6.0</td>\n",
       "      <td>10.0</td>\n",
       "      <td>8.0</td>\n",
       "    </tr>\n",
       "  </tbody>\n",
       "</table>\n",
       "<p>5 rows × 28 columns</p>\n",
       "</div>"
      ],
      "text/plain": [
       "    iid  pid  match  gender  dec   age  attr1_1  sinc1_1  fun1_1  intel1_1  \\\n",
       "0  11.0  1.0    0.0     1.0  0.0  27.0     35.0     20.0    20.0      20.0   \n",
       "1  11.0  2.0    0.0     1.0  0.0  27.0     35.0     20.0    20.0      20.0   \n",
       "2  11.0  3.0    0.0     1.0  0.0  27.0     35.0     20.0    20.0      20.0   \n",
       "3  11.0  4.0    0.0     1.0  0.0  27.0     35.0     20.0    20.0      20.0   \n",
       "4  11.0  5.0    0.0     1.0  0.0  27.0     35.0     20.0    20.0      20.0   \n",
       "\n",
       "     ...     attr1_1_o  sinc1_1_o  fun1_1_o  intel1_1_o  amb1_1_o  attr3_1_o  \\\n",
       "0    ...          15.0       20.0      15.0        20.0      15.0        6.0   \n",
       "1    ...          45.0        5.0      20.0        25.0       0.0        7.0   \n",
       "2    ...          35.0       10.0      10.0        35.0      10.0        8.0   \n",
       "3    ...          20.0       20.0      20.0        20.0      10.0        7.0   \n",
       "4    ...          20.0        5.0      25.0        25.0      10.0        6.0   \n",
       "\n",
       "   sinc3_1_o  fun3_1_o  intel3_1_o  amb3_1_o  \n",
       "0        8.0       8.0         8.0       7.0  \n",
       "1        5.0      10.0         8.0       3.0  \n",
       "2        9.0       8.0         9.0       8.0  \n",
       "3        8.0       9.0         7.0       8.0  \n",
       "4        3.0       6.0        10.0       8.0  \n",
       "\n",
       "[5 rows x 28 columns]"
      ]
     },
     "execution_count": 3,
     "metadata": {},
     "output_type": "execute_result"
    }
   ],
   "source": [
    "# Separate dataframe into male and female.\n",
    "df_male = df_selected.loc[ df_selected['gender'] == 1 ]\n",
    "df_female = df_selected.loc[ df_selected['gender'] == 0 ]\n",
    "\n",
    "# Then, Let's make dropped duplicates dataframe of male.\n",
    "df_male_drop = df_male.drop_duplicates(subset=['iid'])\n",
    "df_female_drop = df_female.drop_duplicates(subset=['iid'])\n",
    "\n",
    "# Let's make dataframe for matching. (empty yet)\n",
    "df_match = pd.DataFrame( data = None, columns = cols + \n",
    "                        ['dec_o', 'age_o', \n",
    "                         'attr1_1_o', 'sinc1_1_o', 'fun1_1_o', 'intel1_1_o',  'amb1_1_o', \n",
    "                         'attr3_1_o','sinc3_1_o','fun3_1_o', 'intel3_1_o','amb3_1_o'] )\n",
    "index = 0\n",
    "\n",
    "print(\"dataframe is been making...\")\n",
    "# Let's fill each rows of dataframe for matching.\n",
    "for m_index, m_row in df_male.iterrows() :\n",
    "    \n",
    "    # Find pid row in female_drop dataframe.\n",
    "    pid = m_row['pid']\n",
    "    f_row = df_female_drop.loc[ df_female_drop['iid'] == pid ]\n",
    "    \n",
    "    if f_row.empty :\n",
    "        continue\n",
    "    \n",
    "    f_row = f_row.iloc[0]\n",
    "    \n",
    "    # Extract values from each row of dataframe.\n",
    "    values = list(m_row.values) + list(f_row['dec':'amb3_1'].values)\n",
    "    \n",
    "    # Fill a row of match dataframe\n",
    "    df_match.loc[index] = values\n",
    "    index += 1\n",
    "    \n",
    "    # Print current progress at each 100 row.\n",
    "    if index % 100 == 0 :\n",
    "        print(index, end = \" \")\n",
    "\n",
    "# Let's fill each rows of dataframe for matching.\n",
    "for fm_index, fm_row in df_female.iterrows() :\n",
    "    \n",
    "    # Find pid row in male_drop dataframe.\n",
    "    pid = fm_row['pid']\n",
    "    m_row = df_male_drop.loc[ df_male_drop['iid'] == pid ]\n",
    "    \n",
    "    if m_row.empty :\n",
    "        continue\n",
    "    \n",
    "    m_row = m_row.iloc[0]\n",
    "    \n",
    "    # Extract values from each row of dataframes.\n",
    "    values = list(fm_row.values) + list(m_row['dec':'amb3_1'].values)\n",
    "    \n",
    "    \n",
    "    # Fill a row of match dataframe\n",
    "    df_match.loc[index] = values\n",
    "    index += 1\n",
    "    \n",
    "    # Print current progress at each 100 row.\n",
    "    if index % 100 == 0 :\n",
    "        print(index, end = \" \")\n",
    "\n",
    "print() \n",
    "print(\"making success.\\n\")            \n",
    "print(\"df_match shape : \", df_match.shape)\n",
    "df_match.head()"
   ]
  },
  {
   "cell_type": "markdown",
   "metadata": {},
   "source": [
    "# Learning with basic separation"
   ]
  },
  {
   "cell_type": "markdown",
   "metadata": {},
   "source": [
    "### Separation and select features."
   ]
  },
  {
   "cell_type": "code",
   "execution_count": 6,
   "metadata": {},
   "outputs": [],
   "source": [
    "X = ['attr3_1', 'sinc3_1', 'intel3_1', 'fun3_1', 'amb3_1',\n",
    "   'attr1_1_o', 'sinc1_1_o', 'fun1_1_o', 'intel1_1_o',  'amb1_1_o',\n",
    "   'age','age_o'\n",
    "  ]\n",
    "Y = ['match']"
   ]
  },
  {
   "cell_type": "code",
   "execution_count": 7,
   "metadata": {},
   "outputs": [
    {
     "name": "stdout",
     "output_type": "stream",
     "text": [
      "train shape :  (6058, 12)\n",
      "test shape :  (2020, 12)\n"
     ]
    }
   ],
   "source": [
    "from sklearn.model_selection import train_test_split\n",
    "from sklearn import metrics\n",
    "\n",
    "train, test = train_test_split(df_match, test_size = 0.25, random_state = 0)\n",
    "\n",
    "train_X = train[X]\n",
    "train_Y = train[Y]\n",
    "\n",
    "test_X = test[X]\n",
    "test_Y = test[Y]\n",
    " \n",
    "features_one = train_X.values\n",
    "target = train_Y.values\n",
    "\n",
    "print(\"train shape : \", train_X.shape)\n",
    "print(\"test shape : \", test_X.shape)"
   ]
  },
  {
   "cell_type": "markdown",
   "metadata": {},
   "source": [
    "### 1. Decision Tree"
   ]
  },
  {
   "cell_type": "code",
   "execution_count": 9,
   "metadata": {},
   "outputs": [
    {
     "name": "stdout",
     "output_type": "stream",
     "text": [
      "The accuracy of the Decision Tree is 0.7361386138613861\n",
      "AUC in ROC curve is 0.5513403592413693\n"
     ]
    },
    {
     "data": {
      "image/png": "[encoded data removed]",
      "text/plain": [
       "<matplotlib.figure.Figure at 0x16029209470>"
      ]
     },
     "metadata": {},
     "output_type": "display_data"
    }
   ],
   "source": [
    "from sklearn.tree import DecisionTreeClassifier\n",
    "\n",
    "clf = DecisionTreeClassifier()\n",
    "clf.fit( features_one, target )\n",
    "dt_prediction = clf.predict(test_X)\n",
    "\n",
    "accuracy = metrics.accuracy_score(dt_prediction, test_Y)\n",
    "print('The accuracy of the Decision Tree is', accuracy)\n",
    "\n",
    "# print AUC\n",
    "auc = metrics.roc_auc_score(test_Y, dt_prediction)\n",
    "print(\"AUC in ROC curve is\", auc)\n",
    "\n",
    "fig, axs = plt.subplots(ncols = 2)\n",
    "fig.set_size_inches(w = 20, h = 5)\n",
    "\n",
    "# # draw distribution graph\n",
    "axs[0].set_title(\"distribtion on dec_o\")\n",
    "sns.distplot(dt_prediction, kde = False, label=\"prediction\", color='red', ax=axs[0])\n",
    "sns.distplot(test_Y, kde = False, label=\"actual value\", color='blue', ax=axs[0],)\n",
    "axs[0].legend()\n",
    "\n",
    "# draw ROC curve\n",
    "fpr, tpr, threshold = metrics.roc_curve(test_Y, dt_prediction)\n",
    "plt.plot(fpr, tpr)\n",
    "plt.title(\"ROC curve\")\n",
    "plt.show()"
   ]
  },
  {
   "cell_type": "markdown",
   "metadata": {},
   "source": [
    "### 2. Random Forest"
   ]
  },
  {
   "cell_type": "code",
   "execution_count": 10,
   "metadata": {},
   "outputs": [
    {
     "name": "stderr",
     "output_type": "stream",
     "text": [
      "C:\\Users\\Jeon\\Anaconda3\\lib\\site-packages\\ipykernel_launcher.py:4: DataConversionWarning: A column-vector y was passed when a 1d array was expected. Please change the shape of y to (n_samples,), for example using ravel().\n",
      "  after removing the cwd from sys.path.\n"
     ]
    },
    {
     "name": "stdout",
     "output_type": "stream",
     "text": [
      "The accuracy of the Decision Tree is 0.8168316831683168\n",
      "AUC in ROC curve is 0.5149370247231109\n"
     ]
    },
    {
     "data": {
      "image/png": "[encoded data removed]",
      "text/plain": [
       "<matplotlib.figure.Figure at 0x16029697630>"
      ]
     },
     "metadata": {},
     "output_type": "display_data"
    }
   ],
   "source": [
    "from sklearn.ensemble import RandomForestClassifier\n",
    "\n",
    "clf = RandomForestClassifier()\n",
    "clf.fit(features_one, target)\n",
    "dt_prediction = clf.predict(test_X)\n",
    "\n",
    "accuracy = metrics.accuracy_score(dt_prediction, test_Y)\n",
    "print('The accuracy of the Decision Tree is', accuracy)\n",
    "\n",
    "# print AUC\n",
    "auc = metrics.roc_auc_score(test_Y, dt_prediction)\n",
    "print(\"AUC in ROC curve is\", auc)\n",
    "\n",
    "fig, axs = plt.subplots(ncols = 2)\n",
    "fig.set_size_inches(w = 20, h = 5)\n",
    "\n",
    "# # draw distribution graph\n",
    "axs[0].set_title(\"distribtion on dec_o\")\n",
    "sns.distplot(dt_prediction, kde = False, label=\"prediction\", color='red', ax=axs[0])\n",
    "sns.distplot(test_Y, kde = False, label=\"actual value\", color='blue', ax=axs[0],)\n",
    "axs[0].legend()\n",
    "\n",
    "# draw ROC curve\n",
    "fpr, tpr, threshold = metrics.roc_curve(test_Y, dt_prediction)\n",
    "plt.plot(fpr, tpr)\n",
    "plt.title(\"ROC curve\")\n",
    "plt.show()"
   ]
  },
  {
   "cell_type": "markdown",
   "metadata": {},
   "source": [
    "### 3. SVM - linear"
   ]
  },
  {
   "cell_type": "code",
   "execution_count": null,
   "metadata": {},
   "outputs": [
    {
     "name": "stderr",
     "output_type": "stream",
     "text": [
      "C:\\Users\\Jeon\\Anaconda3\\lib\\site-packages\\sklearn\\utils\\validation.py:578: DataConversionWarning: A column-vector y was passed when a 1d array was expected. Please change the shape of y to (n_samples, ), for example using ravel().\n",
      "  y = column_or_1d(y, warn=True)\n"
     ]
    }
   ],
   "source": [
    "from sklearn import svm\n",
    "\n",
    "svc = svm.SVC( kernel='linear' )\n",
    "svc.fit( features_one, target )\n",
    "prediction = svc.predict( test_X )\n",
    "\n",
    "accuracy = svc.score( test_X, test_Y )\n",
    "print('The accuracy of the SVM_linear is', accuracy)\n",
    "\n",
    "# print AUC\n",
    "auc = metrics.roc_auc_score(test_Y, prediction)\n",
    "print(\"AUC in ROC curve is\", auc)\n",
    "\n",
    "fig, axs = plt.subplots(ncols = 2)\n",
    "fig.set_size_inches(w = 20, h = 5)\n",
    "\n",
    "# # draw distribution graph\n",
    "axs[0].set_title(\"distribtion on dec_o\")\n",
    "sns.distplot(prediction, kde = False, label=\"prediction\", color='red', ax=axs[0])\n",
    "sns.distplot(test_Y, kde = False, label=\"actual value\", color='blue', ax=axs[0],)\n",
    "axs[0].legend()\n",
    "\n",
    "# draw ROC curve\n",
    "fpr, tpr, threshold = metrics.roc_curve(test_Y, prediction)\n",
    "plt.plot(fpr, tpr)\n",
    "plt.title(\"ROC curve\")\n",
    "plt.show()"
   ]
  },
  {
   "cell_type": "markdown",
   "metadata": {},
   "source": [
    "### 4. SVM - rbf"
   ]
  },
  {
   "cell_type": "code",
   "execution_count": null,
   "metadata": {},
   "outputs": [],
   "source": [
    "from sklearn import svm\n",
    "\n",
    "svc_r = svm.SVC( kernel='rbf' )\n",
    "svc_r.fit( features_one, target )\n",
    "prediction = svc_r.predict( test_X )\n",
    "\n",
    "accuracy = svc_r.score(test_X, test_Y)\n",
    "print('The accuracy of the SVM_rbf is', accuracy)\n",
    "\n",
    "# print AUC\n",
    "auc = metrics.roc_auc_score(test_Y, prediction)\n",
    "print(\"AUC in ROC curve is\", auc)\n",
    "\n",
    "fig, axs = plt.subplots(ncols = 2)\n",
    "fig.set_size_inches(w = 20, h = 5)\n",
    "\n",
    "# # draw distribution graph\n",
    "axs[0].set_title(\"distribtion on dec_o\")\n",
    "sns.distplot(prediction, kde = False, label=\"prediction\", color='red', ax=axs[0])\n",
    "sns.distplot(test_Y, kde = False, label=\"actual value\", color='blue', ax=axs[0],)\n",
    "axs[0].legend()\n",
    "\n",
    "# draw ROC curve\n",
    "fpr, tpr, threshold = metrics.roc_curve(test_Y, prediction)\n",
    "plt.plot(fpr, tpr)\n",
    "plt.title(\"ROC curve\")\n",
    "plt.show()"
   ]
  },
  {
   "cell_type": "markdown",
   "metadata": {},
   "source": [
    "### 5. SVR"
   ]
  },
  {
   "cell_type": "code",
   "execution_count": 24,
   "metadata": {},
   "outputs": [
    {
     "name": "stdout",
     "output_type": "stream",
     "text": [
      "The accuracy of the SVR is -0.055135781760242475\n"
     ]
    },
    {
     "data": {
      "text/plain": [
       "<function matplotlib.pyplot.show>"
      ]
     },
     "execution_count": 24,
     "metadata": {},
     "output_type": "execute_result"
    },
    {
     "data": {
      "image/png": "[encoded data removed]",
      "text/plain": [
       "<matplotlib.figure.Figure at 0x1fb82a3c588>"
      ]
     },
     "metadata": {},
     "output_type": "display_data"
    }
   ],
   "source": [
    "from sklearn import svm\n",
    "import seaborn as sb\n",
    "\n",
    "clf = svm.SVR()\n",
    "clf.fit(features_one, target)\n",
    "prediction = clf.predict(test_X)\n",
    "\n",
    "accuracy = clf.score(test_X, test_Y)\n",
    "print('The accuracy of the SVR is', accuracy)\n",
    "\n",
    "# comparison visualzaition\n",
    "sns.distplot(prediction, hist= True, kde=False, label=\"prediction\", color='red')\n",
    "sns.distplot(test_Y, hist= True, kde=False, label=\"actual value\", color='blue')\n",
    "plt.show"
   ]
  },
  {
   "cell_type": "markdown",
   "metadata": {},
   "source": [
    "### 6. KNN"
   ]
  },
  {
   "cell_type": "code",
   "execution_count": 25,
   "metadata": {},
   "outputs": [
    {
     "name": "stdout",
     "output_type": "stream",
     "text": [
      "The accuracy of the KNN is 0.8166666666666667\n",
      "(1020,)\n"
     ]
    },
    {
     "data": {
      "image/png": "[encoded data removed]",
      "text/plain": [
       "<matplotlib.figure.Figure at 0x1fb828c5630>"
      ]
     },
     "metadata": {},
     "output_type": "display_data"
    }
   ],
   "source": [
    "from sklearn import neighbors\n",
    "\n",
    "knn = neighbors.KNeighborsClassifier()\n",
    "knn.fit(features_one, target)\n",
    "prediction = knn.predict(test_X)\n",
    "\n",
    "accuracy = knn.score(test_X, test_Y)\n",
    "print('The accuracy of the KNN is', accuracy)\n",
    "\n",
    "# comparison visualzaition\n",
    "sns.distplot(prediction, kde = False, color = 'red', label='prediction')\n",
    "sns.distplot(test_Y, kde = False, color = 'blue', label='actual value')\n",
    "plt.show()"
   ]
  },
  {
   "cell_type": "markdown",
   "metadata": {},
   "source": [
    "### 7. Grid Search"
   ]
  },
  {
   "cell_type": "code",
   "execution_count": 26,
   "metadata": {},
   "outputs": [
    {
     "name": "stderr",
     "output_type": "stream",
     "text": [
      "C:\\Users\\Jeon\\Anaconda3\\lib\\site-packages\\sklearn\\cross_validation.py:41: DeprecationWarning: This module was deprecated in version 0.18 in favor of the model_selection module into which all the refactored classes and functions are moved. Also note that the interface of the new CV iterators are different from that of this module. This module will be removed in 0.20.\n",
      "  \"This module will be removed in 0.20.\", DeprecationWarning)\n",
      "C:\\Users\\Jeon\\Anaconda3\\lib\\site-packages\\sklearn\\grid_search.py:42: DeprecationWarning: This module was deprecated in version 0.18 in favor of the model_selection module into which all the refactored classes and functions are moved. This module will be removed in 0.20.\n",
      "  DeprecationWarning)\n"
     ]
    },
    {
     "name": "stdout",
     "output_type": "stream",
     "text": [
      "The accuracy of the Grid-search is 0.8333333333333334\n",
      "(1020,)\n"
     ]
    },
    {
     "data": {
      "image/png": "[encoded data removed]",
      "text/plain": [
       "<matplotlib.figure.Figure at 0x1fb82c90c50>"
      ]
     },
     "metadata": {},
     "output_type": "display_data"
    }
   ],
   "source": [
    "from sklearn import svm, grid_search\n",
    "\n",
    "gammas = np.logspace(-6,-1,10)\n",
    "svc_g = svm.SVC()\n",
    "clf = grid_search.GridSearchCV( estimator=svc_g, param_grid=dict(gamma = gammas), n_jobs=-1 )\n",
    "clf.fit(features_one, target)\n",
    "prediction = clf.predict(test_X)\n",
    "\n",
    "accuracy = clf.score(test_X, test_Y)\n",
    "print('The accuracy of the Grid-search is', accuracy)\n",
    "\n",
    "# comparison visualzaition\n",
    "sns.distplot(prediction, kde = False, color = 'red', label='prediction')\n",
    "sns.distplot(test_Y, kde = False, color = 'blue', label='actual value')\n",
    "plt.show()"
   ]
  },
  {
   "cell_type": "markdown",
   "metadata": {},
   "source": [
    "# Learning with KFold"
   ]
  },
  {
   "cell_type": "code",
   "execution_count": 8,
   "metadata": {},
   "outputs": [],
   "source": [
    "from sklearn.model_selection import KFold\n",
    "from sklearn.model_selection import cross_val_score\n",
    "from sklearn.utils import shuffle\n",
    "\n",
    "kf = KFold(n_splits=4, random_state=1)\n",
    "\n",
    "new_data = shuffle(new_data)\n",
    "# new_data.head()\n",
    "\n",
    "train_1, test_1 = train_test_split(new_data, test_size=0.2,random_state=0)\n",
    "\n",
    "data_X=train_1[X]\n",
    "data_Y=train_1[Y]\n",
    "    \n",
    "test_X=test_1[X]\n",
    "test_Y=test_1[Y]"
   ]
  },
  {
   "cell_type": "markdown",
   "metadata": {},
   "source": [
    "### 1. Decision Tree"
   ]
  },
  {
   "cell_type": "code",
   "execution_count": 27,
   "metadata": {},
   "outputs": [
    {
     "ename": "NameError",
     "evalue": "name 'kf' is not defined",
     "output_type": "error",
     "traceback": [
      "\u001b[1;31m---------------------------------------------------------------------------\u001b[0m",
      "\u001b[1;31mNameError\u001b[0m                                 Traceback (most recent call last)",
      "\u001b[1;32m<ipython-input-27-732d6827339e>\u001b[0m in \u001b[0;36m<module>\u001b[1;34m()\u001b[0m\n\u001b[0;32m      1\u001b[0m \u001b[0mmodel\u001b[0m\u001b[1;33m=\u001b[0m\u001b[0mDecisionTreeClassifier\u001b[0m\u001b[1;33m(\u001b[0m\u001b[1;33m)\u001b[0m\u001b[1;33m\u001b[0m\u001b[0m\n\u001b[0;32m      2\u001b[0m \u001b[1;33m\u001b[0m\u001b[0m\n\u001b[1;32m----> 3\u001b[1;33m \u001b[1;32mfor\u001b[0m \u001b[0mi\u001b[0m\u001b[1;33m,\u001b[0m \u001b[1;33m(\u001b[0m\u001b[0mtrain\u001b[0m\u001b[1;33m,\u001b[0m \u001b[0mtest\u001b[0m\u001b[1;33m)\u001b[0m \u001b[1;32min\u001b[0m \u001b[0menumerate\u001b[0m\u001b[1;33m(\u001b[0m\u001b[0mkf\u001b[0m\u001b[1;33m.\u001b[0m\u001b[0msplit\u001b[0m\u001b[1;33m(\u001b[0m\u001b[0mtrain_1\u001b[0m\u001b[1;33m)\u001b[0m\u001b[1;33m)\u001b[0m\u001b[1;33m:\u001b[0m\u001b[1;33m\u001b[0m\u001b[0m\n\u001b[0m\u001b[0;32m      4\u001b[0m     \u001b[1;31m#print(test)\u001b[0m\u001b[1;33m\u001b[0m\u001b[1;33m\u001b[0m\u001b[0m\n\u001b[0;32m      5\u001b[0m     \u001b[0mtrain_data_X\u001b[0m \u001b[1;33m=\u001b[0m \u001b[0mnp\u001b[0m\u001b[1;33m.\u001b[0m\u001b[0marray\u001b[0m\u001b[1;33m(\u001b[0m\u001b[0mdata_X\u001b[0m\u001b[1;33m)\u001b[0m\u001b[1;33m[\u001b[0m\u001b[0mtrain\u001b[0m\u001b[1;33m]\u001b[0m\u001b[1;33m\u001b[0m\u001b[0m\n",
      "\u001b[1;31mNameError\u001b[0m: name 'kf' is not defined"
     ]
    }
   ],
   "source": [
    "model=DecisionTreeClassifier()\n",
    "\n",
    "for i, (train, test) in enumerate(kf.split(train_1)):\n",
    "    train_data_X = np.array(data_X)[train]\n",
    "    train_data_Y = np.array(data_Y)[train]\n",
    "    test_data_X = np.array(data_X)[test]\n",
    "    test_data_Y = np.array(data_Y)[test]\n",
    "    model.fit(train_data_X, train_data_Y)\n",
    "    \n",
    "prediction = model.predict(test_X)\n",
    "\n",
    "accuracy = metrics.accuracy_score(prediction, test_Y)\n",
    "print('The accuracy of the Decision Tree is', accuracy)\n",
    "model.predict(test_X)\n",
    "\n",
    "# comparison visualzaition\n",
    "sns.distplot(prediction, kde=False, label=\"prediction\", color='red')\n",
    "sns.distplot(test_Y, kde=False, label=\"actual value\", color='blue')\n",
    "plt.show"
   ]
  },
  {
   "cell_type": "markdown",
   "metadata": {},
   "source": [
    "### 2. SVM - linear"
   ]
  },
  {
   "cell_type": "code",
   "execution_count": 39,
   "metadata": {},
   "outputs": [
    {
     "name": "stdout",
     "output_type": "stream",
     "text": [
      "0.8419117647058824\n"
     ]
    },
    {
     "data": {
      "text/plain": [
       "array([0., 0., 0., 0., 0., 0., 0., 0., 0., 0., 0., 0., 0., 0., 0., 0., 0.,\n",
       "       0., 0., 0., 0., 0., 0., 0., 0., 0., 0., 0., 0., 0., 0., 0., 0., 0.,\n",
       "       0., 0., 0., 0., 0., 0., 0., 0., 0., 0., 0., 0., 0., 0., 0., 0., 0.,\n",
       "       0., 0., 0., 0., 0., 0., 0., 0., 0., 0., 0., 0., 0., 0., 0., 0., 0.,\n",
       "       0., 0., 0., 0., 0., 0., 0., 0., 0., 0., 0., 0., 0., 0., 0., 0., 0.,\n",
       "       0., 0., 0., 0., 0., 0., 0., 0., 0., 0., 0., 0., 0., 0., 0., 0., 0.,\n",
       "       0., 0., 0., 0., 0., 0., 0., 0., 0., 0., 0., 0., 0., 0., 0., 0., 0.,\n",
       "       0., 0., 0., 0., 0., 0., 0., 0., 0., 0., 0., 0., 0., 0., 0., 0., 0.,\n",
       "       0., 0., 0., 0., 0., 0., 0., 0., 0., 0., 0., 0., 0., 0., 0., 0., 0.,\n",
       "       0., 0., 0., 0., 0., 0., 0., 0., 0., 0., 0., 0., 0., 0., 0., 0., 0.,\n",
       "       0., 0., 0., 0., 0., 0., 0., 0., 0., 0., 0., 0., 0., 0., 0., 0., 0.,\n",
       "       0., 0., 0., 0., 0., 0., 0., 0., 0., 0., 0., 0., 0., 0., 0., 0., 0.,\n",
       "       0., 0., 0., 0., 0., 0., 0., 0., 0., 0., 0., 0., 0., 0., 0., 0., 0.,\n",
       "       0., 0., 0., 0., 0., 0., 0., 0., 0., 0., 0., 0., 0., 0., 0., 0., 0.,\n",
       "       0., 0., 0., 0., 0., 0., 0., 0., 0., 0., 0., 0., 0., 0., 0., 0., 0.,\n",
       "       0., 0., 0., 0., 0., 0., 0., 0., 0., 0., 0., 0., 0., 0., 0., 0., 0.,\n",
       "       0., 0., 0., 0., 0., 0., 0., 0., 0., 0., 0., 0., 0., 0., 0., 0., 0.,\n",
       "       0., 0., 0., 0., 0., 0., 0., 0., 0., 0., 0., 0., 0., 0., 0., 0., 0.,\n",
       "       0., 0., 0., 0., 0., 0., 0., 0., 0., 0., 0., 0., 0., 0., 0., 0., 0.,\n",
       "       0., 0., 0., 0., 0., 0., 0., 0., 0., 0., 0., 0., 0., 0., 0., 0., 0.,\n",
       "       0., 0., 0., 0., 0., 0., 0., 0., 0., 0., 0., 0., 0., 0., 0., 0., 0.,\n",
       "       0., 0., 0., 0., 0., 0., 0., 0., 0., 0., 0., 0., 0., 0., 0., 0., 0.,\n",
       "       0., 0., 0., 0., 0., 0., 0., 0., 0., 0., 0., 0., 0., 0., 0., 0., 0.,\n",
       "       0., 0., 0., 0., 0., 0., 0., 0., 0., 0., 0., 0., 0., 0., 0., 0., 0.,\n",
       "       0., 0., 0., 0., 0., 0., 0., 0., 0., 0., 0., 0., 0., 0., 0., 0., 0.,\n",
       "       0., 0., 0., 0., 0., 0., 0., 0., 0., 0., 0., 0., 0., 0., 0., 0., 0.,\n",
       "       0., 0., 0., 0., 0., 0., 0., 0., 0., 0., 0., 0., 0., 0., 0., 0., 0.,\n",
       "       0., 0., 0., 0., 0., 0., 0., 0., 0., 0., 0., 0., 0., 0., 0., 0., 0.,\n",
       "       0., 0., 0., 0., 0., 0., 0., 0., 0., 0., 0., 0., 0., 0., 0., 0., 0.,\n",
       "       0., 0., 0., 0., 0., 0., 0., 0., 0., 0., 0., 0., 0., 0., 0., 0., 0.,\n",
       "       0., 0., 0., 0., 0., 0., 0., 0., 0., 0., 0., 0., 0., 0., 0., 0., 0.,\n",
       "       0., 0., 0., 0., 0., 0., 0., 0., 0., 0., 0., 0., 0., 0., 0., 0., 0.,\n",
       "       0., 0., 0., 0., 0., 0., 0., 0., 0., 0., 0., 0., 0., 0., 0., 0., 0.,\n",
       "       0., 0., 0., 0., 0., 0., 0., 0., 0., 0., 0., 0., 0., 0., 0., 0., 0.,\n",
       "       0., 0., 0., 0., 0., 0., 0., 0., 0., 0., 0., 0., 0., 0., 0., 0., 0.,\n",
       "       0., 0., 0., 0., 0., 0., 0., 0., 0., 0., 0., 0., 0., 0., 0., 0., 0.,\n",
       "       0., 0., 0., 0., 0., 0., 0., 0., 0., 0., 0., 0., 0., 0., 0., 0., 0.,\n",
       "       0., 0., 0., 0., 0., 0., 0., 0., 0., 0., 0., 0., 0., 0., 0., 0., 0.,\n",
       "       0., 0., 0., 0., 0., 0., 0., 0., 0., 0., 0., 0., 0., 0., 0., 0., 0.,\n",
       "       0., 0., 0., 0., 0., 0., 0., 0., 0., 0., 0., 0., 0., 0., 0., 0., 0.,\n",
       "       0., 0., 0., 0., 0., 0., 0., 0., 0., 0., 0., 0., 0., 0., 0., 0., 0.,\n",
       "       0., 0., 0., 0., 0., 0., 0., 0., 0., 0., 0., 0., 0., 0., 0., 0., 0.,\n",
       "       0., 0., 0., 0., 0., 0., 0., 0., 0., 0., 0., 0., 0., 0., 0., 0., 0.,\n",
       "       0., 0., 0., 0., 0., 0., 0., 0., 0., 0., 0., 0., 0., 0., 0., 0., 0.,\n",
       "       0., 0., 0., 0., 0., 0., 0., 0., 0., 0., 0., 0., 0., 0., 0., 0., 0.,\n",
       "       0., 0., 0., 0., 0., 0., 0., 0., 0., 0., 0., 0., 0., 0., 0., 0., 0.,\n",
       "       0., 0., 0., 0., 0., 0., 0., 0., 0., 0., 0., 0., 0., 0., 0., 0., 0.,\n",
       "       0., 0., 0., 0., 0., 0., 0., 0., 0., 0., 0., 0., 0., 0., 0., 0., 0.])"
      ]
     },
     "execution_count": 39,
     "metadata": {},
     "output_type": "execute_result"
    }
   ],
   "source": [
    "from sklearn.svm import LinearSVC\n",
    "svc = LinearSVC(random_state=0)\n",
    "\n",
    "for i, (train, test) in enumerate(kf.split(train_1)):\n",
    "#     print(test)\n",
    "    train_data_X = np.array(data_X)[train]\n",
    "#     print(train_data_X)\n",
    "    train_data_Y = np.array(data_Y)[train].ravel()\n",
    "    test_data_X = np.array(data_X)[test]\n",
    "    test_data_Y = np.array(data_Y)[test].ravel()\n",
    "    svc.fit(train_data_X, train_data_Y)\n",
    "\n",
    "accuracy = svc.score(test_X, test_Y)\n",
    "print(accuracy)\n",
    "svc.predict(test_X)"
   ]
  },
  {
   "cell_type": "markdown",
   "metadata": {},
   "source": [
    "### 3. SVM - rbf"
   ]
  },
  {
   "cell_type": "code",
   "execution_count": 17,
   "metadata": {},
   "outputs": [
    {
     "name": "stdout",
     "output_type": "stream",
     "text": [
      "0.8480392156862745\n"
     ]
    },
    {
     "data": {
      "text/plain": [
       "array([0., 0., 0., 0., 0., 0., 0., 0., 0., 0., 0., 0., 0., 0., 0., 0., 0.,\n",
       "       0., 0., 0., 0., 0., 0., 0., 0., 0., 0., 0., 0., 0., 0., 0., 0., 0.,\n",
       "       0., 0., 0., 0., 0., 0., 0., 0., 0., 0., 0., 0., 0., 0., 0., 0., 0.,\n",
       "       0., 0., 0., 0., 0., 0., 0., 0., 0., 0., 0., 0., 0., 0., 0., 0., 0.,\n",
       "       0., 0., 0., 0., 0., 0., 0., 0., 0., 0., 0., 0., 0., 0., 0., 0., 0.,\n",
       "       0., 0., 0., 0., 0., 0., 0., 0., 0., 0., 0., 0., 0., 0., 0., 0., 0.,\n",
       "       0., 0., 0., 0., 0., 0., 0., 0., 0., 0., 0., 0., 0., 0., 0., 0., 0.,\n",
       "       0., 0., 0., 0., 0., 0., 0., 0., 0., 0., 0., 0., 0., 0., 0., 0., 0.,\n",
       "       0., 0., 0., 0., 0., 0., 0., 0., 0., 0., 0., 0., 0., 0., 0., 0., 0.,\n",
       "       0., 0., 0., 0., 0., 0., 0., 0., 0., 0., 0., 0., 0., 0., 0., 0., 0.,\n",
       "       0., 0., 0., 0., 0., 0., 0., 0., 0., 0., 0., 0., 0., 0., 0., 0., 0.,\n",
       "       0., 0., 0., 0., 0., 0., 0., 0., 0., 0., 0., 0., 0., 0., 0., 0., 0.,\n",
       "       0., 0., 0., 0., 0., 0., 0., 0., 0., 0., 0., 0., 0., 0., 0., 0., 0.,\n",
       "       0., 0., 0., 0., 0., 0., 0., 0., 0., 0., 0., 0., 0., 0., 0., 0., 0.,\n",
       "       0., 0., 0., 0., 0., 0., 0., 0., 0., 0., 0., 0., 0., 0., 0., 0., 0.,\n",
       "       0., 0., 0., 0., 0., 0., 0., 0., 0., 0., 0., 0., 0., 0., 0., 0., 0.,\n",
       "       0., 0., 0., 0., 0., 0., 0., 0., 0., 0., 0., 0., 0., 0., 0., 0., 0.,\n",
       "       0., 0., 0., 0., 0., 0., 0., 0., 0., 0., 0., 0., 0., 0., 0., 0., 0.,\n",
       "       0., 0., 0., 0., 0., 0., 0., 0., 0., 0., 0., 0., 0., 0., 0., 0., 0.,\n",
       "       0., 0., 0., 0., 0., 0., 0., 0., 0., 0., 0., 0., 0., 0., 0., 0., 0.,\n",
       "       0., 0., 0., 0., 0., 0., 0., 0., 0., 0., 0., 0., 0., 0., 0., 0., 0.,\n",
       "       0., 0., 0., 0., 0., 0., 0., 0., 0., 0., 0., 0., 0., 0., 0., 0., 0.,\n",
       "       0., 0., 0., 0., 0., 0., 0., 0., 0., 0., 0., 0., 0., 0., 0., 0., 0.,\n",
       "       0., 0., 0., 0., 0., 0., 0., 0., 0., 0., 0., 0., 0., 0., 0., 0., 0.,\n",
       "       0., 0., 0., 0., 0., 0., 0., 0., 0., 0., 0., 0., 0., 0., 0., 0., 0.,\n",
       "       0., 0., 0., 1., 0., 0., 0., 0., 0., 0., 0., 0., 0., 0., 0., 0., 0.,\n",
       "       0., 0., 0., 0., 0., 0., 0., 0., 0., 0., 0., 0., 0., 0., 0., 0., 0.,\n",
       "       0., 0., 0., 0., 0., 0., 0., 0., 0., 0., 0., 0., 0., 0., 0., 0., 0.,\n",
       "       0., 0., 0., 0., 0., 0., 0., 0., 0., 0., 0., 0., 0., 0., 0., 0., 0.,\n",
       "       0., 0., 0., 0., 0., 0., 0., 0., 0., 0., 0., 0., 0., 0., 0., 0., 0.,\n",
       "       0., 0., 0., 0., 0., 0., 0., 0., 0., 0., 0., 0., 0., 0., 0., 0., 1.,\n",
       "       0., 0., 0., 0., 0., 0., 0., 0., 0., 0., 0., 0., 0., 0., 0., 0., 0.,\n",
       "       0., 0., 0., 0., 0., 0., 0., 0., 0., 0., 0., 0., 0., 0., 0., 0., 0.,\n",
       "       0., 0., 0., 0., 0., 0., 0., 0., 0., 0., 0., 0., 0., 0., 0., 0., 0.,\n",
       "       0., 0., 0., 0., 0., 0., 0., 0., 0., 0., 0., 0., 0., 0., 0., 0., 0.,\n",
       "       0., 0., 0., 0., 0., 0., 0., 0., 0., 0., 0., 0., 0., 0., 0., 0., 0.,\n",
       "       0., 0., 0., 0., 0., 0., 0., 0., 0., 0., 0., 0., 0., 0., 0., 0., 0.,\n",
       "       0., 0., 0., 0., 0., 0., 0., 0., 0., 0., 0., 0., 0., 0., 0., 0., 0.,\n",
       "       0., 0., 0., 0., 0., 0., 0., 0., 0., 0., 0., 0., 0., 0., 0., 0., 0.,\n",
       "       0., 0., 0., 0., 0., 0., 0., 0., 0., 0., 0., 0., 0., 0., 0., 0., 0.,\n",
       "       0., 0., 0., 0., 0., 0., 0., 0., 0., 0., 0., 0., 0., 0., 0., 0., 0.,\n",
       "       0., 0., 0., 0., 0., 0., 0., 0., 0., 0., 0., 0., 0., 0., 0., 0., 0.,\n",
       "       0., 0., 0., 0., 0., 0., 0., 0., 0., 0., 0., 0., 0., 0., 0., 0., 0.,\n",
       "       0., 0., 0., 0., 0., 0., 0., 0., 0., 0., 0., 0., 0., 0., 0., 0., 0.,\n",
       "       0., 0., 0., 0., 0., 0., 0., 0., 0., 0., 0., 0., 0., 0., 0., 0., 0.,\n",
       "       0., 0., 0., 0., 0., 0., 0., 0., 0., 0., 0., 0., 0., 0., 0., 0., 0.,\n",
       "       0., 0., 0., 0., 0., 0., 0., 0., 0., 0., 0., 0., 0., 0., 0., 0., 0.,\n",
       "       0., 0., 0., 0., 0., 0., 0., 0., 0., 0., 0., 0., 0., 0., 0., 0., 0.])"
      ]
     },
     "execution_count": 17,
     "metadata": {},
     "output_type": "execute_result"
    }
   ],
   "source": [
    "from sklearn import svm\n",
    "svc_r = svm.SVC(kernel='rbf')\n",
    "\n",
    "for i, (train, test) in enumerate(kf.split(train_1)):\n",
    "    #print(test)\n",
    "    train_data_X = np.array(data_X)[train]\n",
    "    #print(train_data_X)\n",
    "    train_data_Y = np.array(data_Y)[train].ravel()\n",
    "    test_data_X = np.array(data_X)[test]\n",
    "    test_data_Y = np.array(data_Y)[test].ravel()\n",
    "    svc_r.fit(train_data_X, train_data_Y)\n",
    "\n",
    "accuracy = svc_r.score(test_X, test_Y)\n",
    "print(accuracy)\n",
    "\n",
    "svc_r.predict(test_X)"
   ]
  },
  {
   "cell_type": "markdown",
   "metadata": {},
   "source": [
    "### 4. KNN"
   ]
  },
  {
   "cell_type": "code",
   "execution_count": 35,
   "metadata": {},
   "outputs": [
    {
     "name": "stdout",
     "output_type": "stream",
     "text": [
      "The accuracy of the KNN is 0.8308823529411765\n"
     ]
    },
    {
     "data": {
      "text/plain": [
       "array([0., 0., 0., 0., 0., 0., 0., 0., 0., 0., 0., 0., 0., 0., 0., 0., 0.,\n",
       "       0., 0., 0., 0., 0., 0., 0., 0., 0., 0., 0., 0., 0., 0., 0., 0., 0.,\n",
       "       0., 0., 0., 0., 0., 0., 0., 0., 0., 0., 0., 0., 0., 0., 0., 0., 0.,\n",
       "       0., 0., 0., 0., 1., 0., 0., 0., 0., 0., 0., 0., 0., 0., 0., 0., 0.,\n",
       "       0., 0., 0., 0., 0., 0., 0., 0., 0., 0., 0., 0., 0., 0., 0., 0., 0.,\n",
       "       0., 0., 0., 0., 0., 0., 0., 0., 0., 0., 0., 0., 0., 0., 0., 0., 0.,\n",
       "       0., 0., 0., 0., 0., 0., 0., 1., 0., 0., 0., 0., 0., 0., 0., 0., 0.,\n",
       "       0., 0., 0., 0., 0., 0., 1., 0., 0., 0., 0., 0., 0., 0., 0., 0., 1.,\n",
       "       0., 0., 0., 0., 0., 0., 0., 0., 0., 0., 0., 0., 1., 0., 0., 0., 0.,\n",
       "       0., 0., 0., 0., 0., 0., 0., 0., 0., 0., 0., 0., 0., 0., 0., 0., 0.,\n",
       "       0., 0., 0., 0., 0., 0., 0., 0., 0., 0., 0., 0., 0., 0., 0., 0., 0.,\n",
       "       0., 1., 0., 0., 0., 0., 0., 0., 0., 0., 0., 0., 0., 0., 0., 0., 0.,\n",
       "       0., 0., 0., 0., 0., 0., 0., 0., 0., 0., 0., 0., 0., 0., 0., 0., 0.,\n",
       "       0., 0., 0., 0., 0., 0., 0., 0., 0., 0., 0., 0., 0., 0., 0., 0., 0.,\n",
       "       1., 0., 0., 0., 0., 0., 1., 0., 0., 1., 0., 0., 0., 0., 0., 0., 0.,\n",
       "       0., 0., 0., 0., 0., 0., 0., 0., 1., 0., 0., 0., 0., 0., 0., 0., 0.,\n",
       "       1., 0., 0., 0., 0., 0., 0., 0., 0., 0., 0., 0., 0., 0., 0., 0., 0.,\n",
       "       0., 0., 0., 1., 0., 0., 0., 0., 0., 0., 0., 0., 0., 0., 0., 0., 0.,\n",
       "       0., 0., 0., 1., 0., 0., 1., 0., 0., 0., 0., 0., 0., 1., 0., 0., 0.,\n",
       "       0., 0., 0., 0., 0., 1., 0., 0., 0., 0., 0., 0., 0., 0., 0., 0., 0.,\n",
       "       0., 0., 0., 1., 0., 0., 0., 0., 0., 0., 0., 0., 0., 0., 0., 0., 0.,\n",
       "       0., 1., 0., 0., 0., 0., 0., 0., 0., 0., 0., 0., 0., 0., 0., 0., 0.,\n",
       "       0., 0., 0., 0., 0., 0., 0., 0., 0., 0., 0., 0., 0., 0., 0., 0., 0.,\n",
       "       0., 0., 0., 0., 0., 0., 0., 0., 0., 0., 0., 0., 0., 0., 0., 0., 0.,\n",
       "       0., 0., 0., 0., 0., 0., 0., 0., 0., 0., 0., 0., 0., 0., 0., 0., 0.,\n",
       "       0., 0., 0., 0., 0., 0., 0., 0., 0., 0., 0., 0., 0., 0., 0., 0., 0.,\n",
       "       0., 0., 0., 0., 0., 0., 0., 0., 0., 0., 0., 0., 0., 0., 0., 0., 0.,\n",
       "       0., 0., 0., 0., 0., 0., 0., 0., 0., 0., 0., 0., 1., 0., 0., 0., 0.,\n",
       "       0., 0., 0., 0., 0., 0., 0., 0., 0., 0., 0., 0., 0., 0., 0., 0., 0.,\n",
       "       0., 0., 0., 0., 0., 0., 0., 0., 0., 0., 0., 0., 0., 0., 0., 0., 0.,\n",
       "       0., 0., 0., 0., 0., 0., 0., 0., 0., 0., 0., 0., 0., 0., 0., 0., 0.,\n",
       "       0., 0., 0., 0., 0., 0., 0., 0., 0., 0., 0., 0., 0., 0., 0., 1., 0.,\n",
       "       0., 0., 0., 0., 0., 0., 0., 0., 0., 0., 0., 0., 0., 0., 0., 0., 0.,\n",
       "       0., 0., 0., 0., 0., 0., 0., 0., 0., 0., 0., 0., 0., 0., 0., 0., 0.,\n",
       "       0., 0., 0., 0., 0., 0., 0., 0., 0., 0., 0., 0., 1., 0., 0., 0., 0.,\n",
       "       0., 0., 0., 0., 0., 0., 0., 0., 0., 0., 0., 0., 0., 0., 0., 0., 0.,\n",
       "       0., 0., 0., 0., 0., 0., 0., 0., 0., 0., 0., 0., 0., 0., 0., 0., 0.,\n",
       "       0., 0., 0., 0., 0., 0., 0., 0., 0., 0., 0., 0., 0., 0., 0., 0., 0.,\n",
       "       0., 0., 0., 0., 0., 0., 0., 0., 0., 0., 0., 0., 0., 0., 0., 0., 0.,\n",
       "       0., 0., 0., 0., 0., 0., 0., 0., 0., 0., 0., 0., 0., 1., 0., 0., 0.,\n",
       "       0., 0., 0., 0., 0., 0., 0., 0., 0., 0., 0., 0., 1., 0., 0., 0., 0.,\n",
       "       0., 0., 0., 0., 0., 0., 0., 0., 0., 0., 1., 0., 0., 0., 0., 0., 0.,\n",
       "       0., 0., 0., 0., 0., 0., 0., 0., 0., 0., 0., 0., 0., 0., 0., 0., 0.,\n",
       "       0., 1., 0., 0., 0., 0., 0., 0., 0., 0., 0., 0., 0., 0., 0., 0., 0.,\n",
       "       0., 0., 0., 0., 0., 0., 0., 0., 0., 0., 0., 0., 0., 0., 0., 0., 0.,\n",
       "       0., 0., 0., 0., 0., 0., 0., 0., 0., 0., 0., 0., 0., 0., 0., 0., 0.,\n",
       "       0., 0., 0., 0., 0., 0., 0., 0., 0., 0., 0., 0., 0., 0., 0., 0., 0.,\n",
       "       0., 0., 0., 0., 0., 0., 0., 0., 0., 0., 0., 0., 0., 0., 0., 0., 0.])"
      ]
     },
     "execution_count": 35,
     "metadata": {},
     "output_type": "execute_result"
    }
   ],
   "source": [
    "from sklearn import neighbors\n",
    "\n",
    "knn = neighbors.KNeighborsClassifier()\n",
    "\n",
    "for i, (train, test) in enumerate(kf.split(train_1)):\n",
    "    #print(test)\n",
    "    train_data_X = np.array(data_X)[train]\n",
    "    #print(train_data_X)\n",
    "    train_data_Y = np.array(data_Y)[train].ravel()\n",
    "    test_data_X = np.array(data_X)[test]\n",
    "    test_data_Y = np.array(data_Y)[test]\n",
    "    knn.fit(train_data_X, train_data_Y)\n",
    "\n",
    "accuracy = knn.score(test_X, test_Y)\n",
    "\n",
    "print('The accuracy of the KNN is',accuracy)\n",
    "\n",
    "knn.predict(test_X)"
   ]
  },
  {
   "cell_type": "markdown",
   "metadata": {},
   "source": [
    "### 5. Random Forest"
   ]
  },
  {
   "cell_type": "code",
   "execution_count": 20,
   "metadata": {},
   "outputs": [
    {
     "name": "stdout",
     "output_type": "stream",
     "text": [
      "0.8272058823529411\n"
     ]
    },
    {
     "data": {
      "text/plain": [
       "array([0., 0., 0., 0., 0., 0., 0., 0., 1., 0., 0., 0., 0., 0., 0., 0., 0.,\n",
       "       0., 0., 0., 0., 0., 0., 0., 0., 0., 0., 0., 0., 0., 0., 0., 0., 0.,\n",
       "       1., 0., 0., 0., 0., 0., 0., 0., 0., 0., 0., 1., 0., 0., 0., 0., 0.,\n",
       "       1., 0., 0., 0., 0., 0., 0., 0., 0., 0., 1., 0., 0., 0., 0., 0., 0.,\n",
       "       0., 0., 0., 0., 0., 0., 0., 0., 0., 0., 0., 0., 0., 0., 0., 0., 0.,\n",
       "       0., 0., 0., 0., 0., 0., 0., 0., 0., 0., 0., 0., 0., 0., 0., 1., 0.,\n",
       "       0., 0., 0., 0., 0., 0., 0., 0., 0., 0., 0., 1., 0., 0., 0., 0., 0.,\n",
       "       0., 0., 0., 0., 0., 1., 0., 0., 0., 0., 0., 0., 0., 0., 0., 0., 0.,\n",
       "       0., 0., 0., 0., 0., 0., 1., 0., 0., 0., 0., 0., 0., 0., 0., 0., 0.,\n",
       "       0., 0., 1., 0., 0., 0., 0., 0., 0., 0., 0., 0., 0., 0., 0., 0., 0.,\n",
       "       0., 0., 0., 0., 0., 0., 0., 0., 0., 0., 0., 0., 0., 0., 0., 0., 0.,\n",
       "       0., 0., 0., 0., 0., 0., 0., 0., 0., 0., 0., 0., 0., 0., 0., 0., 0.,\n",
       "       0., 0., 0., 1., 0., 0., 1., 0., 0., 0., 0., 0., 0., 0., 0., 0., 0.,\n",
       "       0., 0., 0., 0., 0., 0., 0., 0., 0., 0., 0., 0., 0., 0., 0., 0., 0.,\n",
       "       0., 0., 0., 0., 0., 0., 0., 0., 0., 0., 0., 0., 0., 0., 0., 0., 0.,\n",
       "       0., 0., 0., 0., 0., 0., 0., 0., 0., 0., 0., 0., 0., 0., 0., 0., 0.,\n",
       "       0., 0., 0., 0., 0., 0., 0., 0., 0., 0., 0., 0., 0., 0., 0., 0., 0.,\n",
       "       0., 0., 0., 0., 0., 0., 0., 0., 0., 0., 0., 0., 0., 0., 0., 0., 0.,\n",
       "       0., 0., 0., 0., 0., 0., 0., 0., 0., 1., 0., 0., 0., 0., 0., 0., 0.,\n",
       "       0., 0., 0., 0., 0., 0., 0., 0., 0., 0., 0., 0., 0., 0., 0., 1., 0.,\n",
       "       0., 0., 1., 0., 0., 0., 0., 1., 0., 0., 0., 0., 0., 0., 0., 0., 0.,\n",
       "       0., 0., 0., 0., 0., 0., 0., 0., 0., 0., 1., 0., 0., 0., 0., 0., 0.,\n",
       "       0., 0., 0., 0., 0., 0., 0., 0., 0., 0., 0., 0., 0., 0., 0., 0., 0.,\n",
       "       0., 0., 0., 0., 0., 0., 1., 0., 0., 0., 0., 0., 0., 0., 0., 0., 0.,\n",
       "       0., 0., 0., 0., 0., 0., 0., 0., 0., 0., 0., 0., 0., 0., 0., 0., 0.,\n",
       "       0., 0., 0., 1., 0., 0., 1., 0., 0., 0., 0., 0., 1., 0., 0., 0., 0.,\n",
       "       0., 0., 0., 0., 0., 0., 0., 0., 0., 1., 0., 0., 0., 0., 0., 0., 1.,\n",
       "       0., 0., 0., 0., 0., 0., 0., 0., 0., 0., 0., 0., 0., 0., 0., 0., 0.,\n",
       "       0., 0., 0., 0., 0., 0., 0., 1., 0., 0., 0., 0., 0., 0., 0., 0., 0.,\n",
       "       0., 0., 0., 0., 0., 0., 0., 0., 0., 1., 0., 0., 0., 0., 0., 0., 0.,\n",
       "       0., 0., 0., 0., 0., 0., 0., 0., 0., 0., 1., 0., 0., 0., 0., 0., 1.,\n",
       "       0., 0., 0., 0., 0., 0., 0., 0., 0., 0., 1., 0., 0., 0., 0., 0., 0.,\n",
       "       0., 0., 0., 0., 0., 0., 0., 0., 0., 0., 0., 0., 0., 0., 0., 0., 0.,\n",
       "       0., 0., 0., 0., 0., 0., 0., 0., 0., 0., 0., 0., 0., 0., 0., 0., 0.,\n",
       "       0., 0., 0., 0., 0., 0., 0., 0., 0., 0., 0., 0., 0., 0., 0., 0., 1.,\n",
       "       0., 0., 0., 0., 0., 0., 0., 0., 0., 0., 0., 0., 0., 0., 0., 0., 1.,\n",
       "       0., 0., 0., 0., 0., 0., 0., 0., 0., 0., 0., 0., 0., 0., 0., 1., 0.,\n",
       "       0., 0., 0., 0., 0., 0., 0., 0., 0., 0., 0., 0., 0., 0., 0., 0., 0.,\n",
       "       0., 0., 0., 0., 0., 0., 0., 0., 0., 0., 0., 0., 0., 0., 0., 0., 0.,\n",
       "       0., 0., 0., 0., 0., 0., 0., 0., 0., 0., 0., 0., 0., 0., 0., 0., 0.,\n",
       "       0., 0., 0., 0., 0., 0., 0., 0., 0., 0., 0., 0., 0., 0., 0., 0., 0.,\n",
       "       0., 0., 0., 0., 0., 0., 0., 0., 0., 0., 0., 0., 0., 0., 0., 0., 0.,\n",
       "       0., 0., 0., 0., 0., 0., 0., 0., 0., 0., 0., 0., 0., 0., 0., 0., 0.,\n",
       "       0., 1., 0., 0., 0., 0., 0., 0., 0., 0., 0., 0., 0., 0., 0., 0., 0.,\n",
       "       0., 0., 0., 0., 0., 1., 0., 1., 0., 0., 0., 0., 0., 0., 0., 0., 0.,\n",
       "       0., 0., 0., 0., 0., 0., 0., 0., 0., 0., 0., 0., 0., 0., 0., 0., 0.,\n",
       "       1., 0., 0., 0., 0., 0., 0., 0., 0., 1., 0., 0., 0., 0., 0., 0., 0.,\n",
       "       0., 0., 0., 0., 0., 0., 0., 0., 0., 0., 0., 0., 0., 0., 0., 0., 1.])"
      ]
     },
     "execution_count": 20,
     "metadata": {},
     "output_type": "execute_result"
    }
   ],
   "source": [
    "from sklearn.ensemble import RandomForestClassifier\n",
    "\n",
    "clf = RandomForestClassifier()\n",
    "\n",
    "for i, (train, test) in enumerate(kf.split(train_1)):\n",
    "    #print(test)\n",
    "    train_data_X = np.array(data_X)[train]\n",
    "    #print(train_data_X)\n",
    "    train_data_Y = np.array(data_Y)[train].ravel()\n",
    "    test_data_X = np.array(data_X)[test]\n",
    "    test_data_Y = np.array(data_Y)[test]\n",
    "    clf.fit(train_data_X, train_data_Y)\n",
    "    \n",
    "accuracy = clf.score(test_X, test_Y)\n",
    "print(clf.score(test_X, test_Y))\n",
    "\n",
    "clf.predict(test_X)"
   ]
  },
  {
   "cell_type": "markdown",
   "metadata": {},
   "source": [
    "# Preprocessing fill with mean"
   ]
  },
  {
   "cell_type": "code",
   "execution_count": 16,
   "metadata": {},
   "outputs": [
    {
     "data": {
      "text/plain": [
       "iid           0\n",
       "pid           0\n",
       "match         0\n",
       "gender        0\n",
       "attr3_1       0\n",
       "sinc3_1       0\n",
       "fun3_1        0\n",
       "intel3_1      0\n",
       "amb3_1        0\n",
       "attr3_1_o     0\n",
       "sinc3_1_o     0\n",
       "fun3_1_o      0\n",
       "intel3_1_o    0\n",
       "amb3_1_o      0\n",
       "dtype: int64"
      ]
     },
     "execution_count": 16,
     "metadata": {},
     "output_type": "execute_result"
    }
   ],
   "source": [
    "df_match.isnull().sum()"
   ]
  },
  {
   "cell_type": "code",
   "execution_count": 4,
   "metadata": {},
   "outputs": [
    {
     "data": {
      "text/plain": [
       "iid           0\n",
       "pid           0\n",
       "match         0\n",
       "gender        0\n",
       "attr3_1       0\n",
       "sinc3_1       0\n",
       "fun3_1        0\n",
       "intel3_1      0\n",
       "amb3_1        0\n",
       "attr3_1_o     0\n",
       "sinc3_1_o     0\n",
       "fun3_1_o      0\n",
       "intel3_1_o    0\n",
       "amb3_1_o      0\n",
       "dtype: int64"
      ]
     },
     "execution_count": 4,
     "metadata": {},
     "output_type": "execute_result"
    }
   ],
   "source": [
    "df_fill = df_match\n",
    "df_fill['attr3_1'].fillna(df_fill['attr3_1'].mean(), inplace = True)\n",
    "df_fill['sinc3_1'].fillna(df_fill['sinc3_1'].mean(), inplace = True)\n",
    "df_fill['fun3_1'].fillna(df_fill['fun3_1'].mean(), inplace = True)\n",
    "df_fill['intel3_1'].fillna(df_fill['intel3_1'].mean(), inplace = True)\n",
    "df_fill['amb3_1'].fillna(df_fill['amb3_1'].mean(), inplace = True)\n",
    "df_fill['attr3_1_o'].fillna(df_fill['attr3_1_o'].mean(), inplace = True)\n",
    "df_fill['sinc3_1_o'].fillna(df_fill['sinc3_1_o'].mean(), inplace = True)\n",
    "df_fill['fun3_1_o'].fillna(df_fill['fun3_1_o'].mean(), inplace = True)\n",
    "df_fill['intel3_1_o'].fillna(df_fill['intel3_1_o'].mean(), inplace = True)\n",
    "df_fill['amb3_1_o'].fillna(df_fill['amb3_1_o'].mean(), inplace = True)\n",
    "df_fill.isnull().sum()"
   ]
  },
  {
   "cell_type": "code",
   "execution_count": 13,
   "metadata": {},
   "outputs": [
    {
     "name": "stdout",
     "output_type": "stream",
     "text": [
      "0.7335722819593787\n"
     ]
    }
   ],
   "source": [
    "kf = KFold(n_splits=4, random_state=1)\n",
    "\n",
    "model=DecisionTreeClassifier()\n",
    "\n",
    "df_fill = shuffle(df_fill)\n",
    "\n",
    "train_1, test_1 = train_test_split(df_fill, test_size=0.2,random_state=0)\n",
    "\n",
    "data_X=train_1[X]\n",
    "data_Y=train_1[Y]\n",
    "    \n",
    "test_X=test_1[X]\n",
    "test_Y=test_1[Y]\n",
    "\n",
    "for i, (train, test) in enumerate(kf.split(train_1)):\n",
    "    #print(test)\n",
    "    train_data_X = np.array(data_X)[train]\n",
    "    #print(train_data_X)\n",
    "    train_data_Y = np.array(data_Y)[train]\n",
    "    test_data_X = np.array(data_X)[test]\n",
    "    test_data_Y = np.array(data_Y)[test]\n",
    "    model.fit(train_data_X, train_data_Y)\n",
    "    \n",
    "prediction = model.predict(test_X)\n",
    "print(metrics.accuracy_score(prediction, test_Y))"
   ]
  },
  {
   "cell_type": "code",
   "execution_count": 14,
   "metadata": {},
   "outputs": [
    {
     "name": "stdout",
     "output_type": "stream",
     "text": [
      "0.8267622461170848\n"
     ]
    }
   ],
   "source": [
    "from sklearn import svm\n",
    "svc_r = svm.SVC(kernel='linear')\n",
    "\n",
    "for i, (train, test) in enumerate(kf.split(train_1)):\n",
    "    #print(test)\n",
    "    train_data_X = np.array(data_X)[train]\n",
    "    #print(train_data_X)\n",
    "    train_data_Y = np.array(data_Y)[train].ravel()\n",
    "    test_data_X = np.array(data_X)[test]\n",
    "    test_data_Y = np.array(data_Y)[test].ravel()\n",
    "    svc_r.fit(train_data_X, train_data_Y)\n",
    "\n",
    "accuracy = svc_r.score(test_X, test_Y)\n",
    "print(svc_r.score(test_X, test_Y))"
   ]
  },
  {
   "cell_type": "code",
   "execution_count": 15,
   "metadata": {},
   "outputs": [
    {
     "name": "stdout",
     "output_type": "stream",
     "text": [
      "0.8255675029868578\n"
     ]
    }
   ],
   "source": [
    "from sklearn import svm\n",
    "svc_r = svm.SVC(kernel='rbf')\n",
    "\n",
    "for i, (train, test) in enumerate(kf.split(train_1)):\n",
    "    #print(test)\n",
    "    train_data_X = np.array(data_X)[train]\n",
    "    #print(train_data_X)\n",
    "    train_data_Y = np.array(data_Y)[train].ravel()\n",
    "    test_data_X = np.array(data_X)[test]\n",
    "    test_data_Y = np.array(data_Y)[test].ravel()\n",
    "    svc_r.fit(train_data_X, train_data_Y)\n",
    "\n",
    "accuracy = svc_r.score(test_X, test_Y)\n",
    "print(svc_r.score(test_X, test_Y))"
   ]
  },
  {
   "cell_type": "markdown",
   "metadata": {},
   "source": [
    "# Preprocessing with 최빈값"
   ]
  },
  {
   "cell_type": "code",
   "execution_count": 4,
   "metadata": {},
   "outputs": [
    {
     "data": {
      "text/plain": [
       "<matplotlib.axes._subplots.AxesSubplot at 0x17412274dd8>"
      ]
     },
     "execution_count": 4,
     "metadata": {},
     "output_type": "execute_result"
    },
    {
     "data": {
      "image/png": "[encoded data removed]",
      "text/plain": [
       "<Figure size 1440x2160 with 10 Axes>"
      ]
     },
     "metadata": {},
     "output_type": "display_data"
    }
   ],
   "source": [
    "f, ax = plt.subplots(5, 2, figsize=(20,30))\n",
    "sns.countplot('attr3_1',data=df_match, ax=ax[0,0])\n",
    "sns.countplot('sinc3_1',data=df_match, ax=ax[0,1])\n",
    "sns.countplot('intel3_1',data=df_match, ax=ax[1,0])\n",
    "sns.countplot('fun3_1',data=df_match, ax=ax[1,1])\n",
    "sns.countplot('amb3_1',data=df_match, ax=ax[2,0])\n",
    "sns.countplot('attr3_1_o',data=df_match, ax=ax[2,1])\n",
    "sns.countplot('sinc3_1_o',data=df_match, ax=ax[3,0])\n",
    "sns.countplot('fun3_1_o',data=df_match, ax=ax[3,1])\n",
    "sns.countplot('intel3_1_o',data=df_match, ax=ax[4,0])\n",
    "sns.countplot('amb3_1_o',data=df_match, ax=ax[4,1])"
   ]
  },
  {
   "cell_type": "code",
   "execution_count": null,
   "metadata": {},
   "outputs": [],
   "source": [
    "f, ax = plt.subplots(5, 2, figsize=(20,30))\n",
    "sns.countplot('attr3_1',data=df_match, ax=ax[0,0])\n",
    "sns.countplot('sinc3_1',data=df_match, ax=ax[0,1])\n",
    "sns.countplot('intel3_1',data=df_match, ax=ax[1,0])\n",
    "sns.countplot('fun3_1',data=df_match, ax=ax[1,1])\n",
    "sns.countplot('amb3_1',data=df_match, ax=ax[2,0])\n",
    "sns.countplot('attr3_1_o',data=df_match, ax=ax[2,1])\n",
    "sns.countplot('sinc3_1_o',data=df_match, ax=ax[3,0])\n",
    "sns.countplot('fun3_1_o',data=df_match, ax=ax[3,1])\n",
    "sns.countplot('intel3_1_o',data=df_match, ax=ax[4,0])\n",
    "sns.countplot('amb3_1_o',data=df_match, ax=ax[4,1])"
   ]
  },
  {
   "cell_type": "code",
   "execution_count": 39,
   "metadata": {},
   "outputs": [
    {
     "data": {
      "text/plain": [
       "iid            0\n",
       "pid            0\n",
       "match          0\n",
       "gender         0\n",
       "attr3_1        0\n",
       "sinc3_1       67\n",
       "fun3_1        67\n",
       "intel3_1      67\n",
       "amb3_1        67\n",
       "attr3_1_o     38\n",
       "sinc3_1_o     38\n",
       "fun3_1_o      38\n",
       "intel3_1_o    38\n",
       "amb3_1_o      38\n",
       "dtype: int64"
      ]
     },
     "execution_count": 39,
     "metadata": {},
     "output_type": "execute_result"
    }
   ],
   "source": [
    "df_most = df_match\n",
    "df_most.isnull().sum()"
   ]
  },
  {
   "cell_type": "code",
   "execution_count": 42,
   "metadata": {},
   "outputs": [
    {
     "data": {
      "text/plain": [
       "iid           0\n",
       "pid           0\n",
       "match         0\n",
       "gender        0\n",
       "attr3_1       0\n",
       "sinc3_1       0\n",
       "fun3_1        0\n",
       "intel3_1      0\n",
       "amb3_1        0\n",
       "attr3_1_o     0\n",
       "sinc3_1_o     0\n",
       "fun3_1_o      0\n",
       "intel3_1_o    0\n",
       "amb3_1_o      0\n",
       "dtype: int64"
      ]
     },
     "execution_count": 42,
     "metadata": {},
     "output_type": "execute_result"
    }
   ],
   "source": [
    "df_most['attr3_1'].fillna(7, inplace = True)\n",
    "df_most['sinc3_1'].fillna(9, inplace = True)\n",
    "df_most['intel3_1'].fillna(8, inplace = True)\n",
    "df_most['fun3_1'].fillna(8, inplace = True)\n",
    "df_most['amb3_1'].fillna(8, inplace = True)\n",
    "df_most['attr3_1_o'].fillna(7, inplace = True)\n",
    "df_most['sinc3_1_o'].fillna(8, inplace = True)\n",
    "df_most['intel3_1_o'].fillna(8, inplace = True)\n",
    "df_most['fun3_1_o'].fillna(9, inplace = True)\n",
    "df_most['amb3_1_o'].fillna(8, inplace = True)\n",
    "\n",
    "df_most.isnull().sum()"
   ]
  },
  {
   "cell_type": "code",
   "execution_count": 68,
   "metadata": {},
   "outputs": [
    {
     "name": "stdout",
     "output_type": "stream",
     "text": [
      "0.7144563918757467\n"
     ]
    }
   ],
   "source": [
    "kf = KFold(n_splits=4, random_state=1)\n",
    "\n",
    "model=DecisionTreeClassifier()\n",
    "\n",
    "df_most = shuffle(df_most)\n",
    "\n",
    "train_1, test_1 = train_test_split(df_most, test_size=0.2,random_state=0)\n",
    "\n",
    "data_X=train_1[X]\n",
    "data_Y=train_1[Y]\n",
    "    \n",
    "test_X=test_1[X]\n",
    "test_Y=test_1[Y]\n",
    "\n",
    "for i, (train, test) in enumerate(kf.split(train_1)):\n",
    "    #print(test)\n",
    "    train_data_X = np.array(data_X)[train]\n",
    "    #print(train_data_X)\n",
    "    train_data_Y = np.array(data_Y)[train]\n",
    "    test_data_X = np.array(data_X)[test]\n",
    "    test_data_Y = np.array(data_Y)[test]\n",
    "    model.fit(train_data_X, train_data_Y)\n",
    "    \n",
    "prediction = model.predict(test_X)\n",
    "print(metrics.accuracy_score(prediction, test_Y))"
   ]
  },
  {
   "cell_type": "code",
   "execution_count": 71,
   "metadata": {},
   "outputs": [
    {
     "name": "stdout",
     "output_type": "stream",
     "text": [
      "0.8279569892473119\n"
     ]
    }
   ],
   "source": [
    "from sklearn import svm\n",
    "svc_r = svm.SVC(kernel='rbf')\n",
    "\n",
    "for i, (train, test) in enumerate(kf.split(train_1)):\n",
    "    #print(test)\n",
    "    train_data_X = np.array(data_X)[train]\n",
    "    #print(train_data_X)\n",
    "    train_data_Y = np.array(data_Y)[train].ravel()\n",
    "    test_data_X = np.array(data_X)[test]\n",
    "    test_data_Y = np.array(data_Y)[test].ravel()\n",
    "    svc_r.fit(train_data_X, train_data_Y)\n",
    "\n",
    "accuracy = svc_r.score(test_X, test_Y)\n",
    "print(svc_r.score(test_X, test_Y))"
   ]
  },
  {
   "cell_type": "markdown",
   "metadata": {},
   "source": [
    "### Ridge"
   ]
  },
  {
   "cell_type": "code",
   "execution_count": 1,
   "metadata": {},
   "outputs": [
    {
     "ename": "NameError",
     "evalue": "name 'kf' is not defined",
     "output_type": "error",
     "traceback": [
      "\u001b[1;31m---------------------------------------------------------------------------\u001b[0m",
      "\u001b[1;31mNameError\u001b[0m                                 Traceback (most recent call last)",
      "\u001b[1;32m<ipython-input-1-1d7a48fdf3e0>\u001b[0m in \u001b[0;36m<module>\u001b[1;34m()\u001b[0m\n\u001b[0;32m      2\u001b[0m \u001b[0mreg\u001b[0m \u001b[1;33m=\u001b[0m \u001b[0mlinear_model\u001b[0m\u001b[1;33m.\u001b[0m\u001b[0mRidge\u001b[0m\u001b[1;33m(\u001b[0m\u001b[0malpha\u001b[0m \u001b[1;33m=\u001b[0m \u001b[1;36m10\u001b[0m\u001b[1;33m)\u001b[0m\u001b[1;33m\u001b[0m\u001b[0m\n\u001b[0;32m      3\u001b[0m \u001b[1;33m\u001b[0m\u001b[0m\n\u001b[1;32m----> 4\u001b[1;33m \u001b[1;32mfor\u001b[0m \u001b[0mi\u001b[0m\u001b[1;33m,\u001b[0m \u001b[1;33m(\u001b[0m\u001b[0mtrain\u001b[0m\u001b[1;33m,\u001b[0m \u001b[0mtest\u001b[0m\u001b[1;33m)\u001b[0m \u001b[1;32min\u001b[0m \u001b[0menumerate\u001b[0m\u001b[1;33m(\u001b[0m\u001b[0mkf\u001b[0m\u001b[1;33m.\u001b[0m\u001b[0msplit\u001b[0m\u001b[1;33m(\u001b[0m\u001b[0mtrain_1\u001b[0m\u001b[1;33m)\u001b[0m\u001b[1;33m)\u001b[0m\u001b[1;33m:\u001b[0m\u001b[1;33m\u001b[0m\u001b[0m\n\u001b[0m\u001b[0;32m      5\u001b[0m     \u001b[1;31m#print(test)\u001b[0m\u001b[1;33m\u001b[0m\u001b[1;33m\u001b[0m\u001b[0m\n\u001b[0;32m      6\u001b[0m     \u001b[0mtrain_data_X\u001b[0m \u001b[1;33m=\u001b[0m \u001b[0mnp\u001b[0m\u001b[1;33m.\u001b[0m\u001b[0marray\u001b[0m\u001b[1;33m(\u001b[0m\u001b[0mdata_X\u001b[0m\u001b[1;33m)\u001b[0m\u001b[1;33m[\u001b[0m\u001b[0mtrain\u001b[0m\u001b[1;33m]\u001b[0m\u001b[1;33m\u001b[0m\u001b[0m\n",
      "\u001b[1;31mNameError\u001b[0m: name 'kf' is not defined"
     ]
    }
   ],
   "source": [
    "from sklearn import linear_model\n",
    "reg = linear_model.Ridge(alpha = 10)\n",
    "\n",
    "for i, (train, test) in enumerate(kf.split(train_1)):\n",
    "    #print(test)\n",
    "    train_data_X = np.array(data_X)[train]\n",
    "    #print(train_data_X)\n",
    "    train_data_Y = np.array(data_Y)[train].ravel()\n",
    "    test_data_X = np.array(data_X)[test]\n",
    "    test_data_Y = np.array(data_Y)[test].ravel()\n",
    "    reg.fit(train_data_X, train_data_Y)\n",
    "\n",
    "# reg.predict(test_X)\n",
    "\n",
    "reg.score(test_X, test_Y)\n",
    "print(np(reg.coef_!=0).sum())"
   ]
  },
  {
   "cell_type": "code",
   "execution_count": 25,
   "metadata": {},
   "outputs": [
    {
     "data": {
      "text/plain": [
       "10.0"
      ]
     },
     "execution_count": 25,
     "metadata": {},
     "output_type": "execute_result"
    }
   ],
   "source": [
    "reg_c = linear_model.RidgeCV(alphas=[0.1,1.0,10.0])\n",
    "\n",
    "for i, (train, test) in enumerate(kf.split(train_1)):\n",
    "    #print(test)\n",
    "    train_data_X = np.array(data_X)[train]\n",
    "    #print(train_data_X)\n",
    "    train_data_Y = np.array(data_Y)[train].ravel()\n",
    "    test_data_X = np.array(data_X)[test]\n",
    "    test_data_Y = np.array(data_Y)[test].ravel()\n",
    "    reg_c.fit(train_data_X, train_data_Y)\n",
    "    \n",
    "reg_c.alpha_"
   ]
  },
  {
   "cell_type": "code",
   "execution_count": null,
   "metadata": {},
   "outputs": [],
   "source": []
  }
 ],
 "metadata": {
  "kernelspec": {
   "display_name": "Python 3",
   "language": "python",
   "name": "python3"
  },
  "language_info": {
   "codemirror_mode": {
    "name": "ipython",
    "version": 3
   },
   "file_extension": ".py",
   "mimetype": "text/x-python",
   "name": "python",
   "nbconvert_exporter": "python",
   "pygments_lexer": "ipython3",
   "version": "3.6.4"
  }
 },
 "nbformat": 4,
 "nbformat_minor": 2
}
