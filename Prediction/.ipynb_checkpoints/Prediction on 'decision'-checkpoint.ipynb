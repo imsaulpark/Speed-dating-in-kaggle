{
 "cells": [
  {
   "cell_type": "markdown",
   "metadata": {},
   "source": [
    "# Data Preprocessing"
   ]
  },
  {
   "cell_type": "code",
   "execution_count": 161,
   "metadata": {},
   "outputs": [
    {
     "data": {
      "text/plain": [
       "array(['iid', 'id', 'gender', 'idg', 'condtn', 'wave', 'round',\n",
       "       'position', 'positin1', 'order', 'partner', 'pid', 'match',\n",
       "       'int_corr', 'samerace', 'age_o', 'race_o', 'pf_o_att', 'pf_o_sin',\n",
       "       'pf_o_int', 'pf_o_fun', 'pf_o_amb', 'pf_o_sha', 'dec_o', 'attr_o',\n",
       "       'sinc_o', 'intel_o', 'fun_o', 'amb_o', 'shar_o', 'like_o',\n",
       "       'prob_o', 'met_o', 'age', 'field', 'field_cd', 'undergra',\n",
       "       'mn_sat', 'tuition', 'race', 'imprace', 'imprelig', 'from',\n",
       "       'zipcode', 'income', 'goal', 'date', 'go_out', 'career',\n",
       "       'career_c', 'sports', 'tvsports', 'exercise', 'dining', 'museums',\n",
       "       'art', 'hiking', 'gaming', 'clubbing', 'reading', 'tv', 'theater',\n",
       "       'movies', 'concerts', 'music', 'shopping', 'yoga', 'exphappy',\n",
       "       'expnum', 'attr1_1', 'sinc1_1', 'intel1_1', 'fun1_1', 'amb1_1',\n",
       "       'shar1_1', 'attr4_1', 'sinc4_1', 'intel4_1', 'fun4_1', 'amb4_1',\n",
       "       'shar4_1', 'attr2_1', 'sinc2_1', 'intel2_1', 'fun2_1', 'amb2_1',\n",
       "       'shar2_1', 'attr3_1', 'sinc3_1', 'fun3_1', 'intel3_1', 'amb3_1',\n",
       "       'attr5_1', 'sinc5_1', 'intel5_1', 'fun5_1', 'amb5_1', 'dec',\n",
       "       'attr', 'sinc', 'intel', 'fun', 'amb', 'shar', 'like', 'prob',\n",
       "       'met', 'match_es', 'attr1_s', 'sinc1_s', 'intel1_s', 'fun1_s',\n",
       "       'amb1_s', 'shar1_s', 'attr3_s', 'sinc3_s', 'intel3_s', 'fun3_s',\n",
       "       'amb3_s', 'satis_2', 'length', 'numdat_2', 'attr7_2', 'sinc7_2',\n",
       "       'intel7_2', 'fun7_2', 'amb7_2', 'shar7_2', 'attr1_2', 'sinc1_2',\n",
       "       'intel1_2', 'fun1_2', 'amb1_2', 'shar1_2', 'attr4_2', 'sinc4_2',\n",
       "       'intel4_2', 'fun4_2', 'amb4_2', 'shar4_2', 'attr2_2', 'sinc2_2',\n",
       "       'intel2_2', 'fun2_2', 'amb2_2', 'shar2_2', 'attr3_2', 'sinc3_2',\n",
       "       'intel3_2', 'fun3_2', 'amb3_2', 'attr5_2', 'sinc5_2', 'intel5_2',\n",
       "       'fun5_2', 'amb5_2', 'you_call', 'them_cal', 'date_3', 'numdat_3',\n",
       "       'num_in_3', 'attr1_3', 'sinc1_3', 'intel1_3', 'fun1_3', 'amb1_3',\n",
       "       'shar1_3', 'attr7_3', 'sinc7_3', 'intel7_3', 'fun7_3', 'amb7_3',\n",
       "       'shar7_3', 'attr4_3', 'sinc4_3', 'intel4_3', 'fun4_3', 'amb4_3',\n",
       "       'shar4_3', 'attr2_3', 'sinc2_3', 'intel2_3', 'fun2_3', 'amb2_3',\n",
       "       'shar2_3', 'attr3_3', 'sinc3_3', 'intel3_3', 'fun3_3', 'amb3_3',\n",
       "       'attr5_3', 'sinc5_3', 'intel5_3', 'fun5_3', 'amb5_3'], dtype=object)"
      ]
     },
     "execution_count": 161,
     "metadata": {},
     "output_type": "execute_result"
    }
   ],
   "source": [
    "import pandas as pd\n",
    "import numpy as np\n",
    "import matplotlib.pyplot as plt\n",
    "import seaborn as sns\n",
    "\n",
    "df_data = pd.read_csv(\"data/Speed Dating Data.csv\")\n",
    "df_data.shape\n",
    "df_data.columns.values"
   ]
  },
  {
   "cell_type": "code",
   "execution_count": 162,
   "metadata": {},
   "outputs": [
    {
     "name": "stdout",
     "output_type": "stream",
     "text": [
      "(8378, 17)\n"
     ]
    },
    {
     "data": {
      "text/html": [
       "<div>\n",
       "<style scoped>\n",
       "    .dataframe tbody tr th:only-of-type {\n",
       "        vertical-align: middle;\n",
       "    }\n",
       "\n",
       "    .dataframe tbody tr th {\n",
       "        vertical-align: top;\n",
       "    }\n",
       "\n",
       "    .dataframe thead th {\n",
       "        text-align: right;\n",
       "    }\n",
       "</style>\n",
       "<table border=\"1\" class=\"dataframe\">\n",
       "  <thead>\n",
       "    <tr style=\"text-align: right;\">\n",
       "      <th></th>\n",
       "      <th>iid</th>\n",
       "      <th>pid</th>\n",
       "      <th>match</th>\n",
       "      <th>gender</th>\n",
       "      <th>dec</th>\n",
       "      <th>attr1_1</th>\n",
       "      <th>sinc1_1</th>\n",
       "      <th>fun1_1</th>\n",
       "      <th>intel1_1</th>\n",
       "      <th>amb1_1</th>\n",
       "      <th>shar1_1</th>\n",
       "      <th>pf_o_att</th>\n",
       "      <th>pf_o_sin</th>\n",
       "      <th>pf_o_int</th>\n",
       "      <th>pf_o_fun</th>\n",
       "      <th>pf_o_amb</th>\n",
       "      <th>pf_o_sha</th>\n",
       "    </tr>\n",
       "  </thead>\n",
       "  <tbody>\n",
       "    <tr>\n",
       "      <th>0</th>\n",
       "      <td>1</td>\n",
       "      <td>11.0</td>\n",
       "      <td>0</td>\n",
       "      <td>0</td>\n",
       "      <td>1</td>\n",
       "      <td>15.0</td>\n",
       "      <td>20.0</td>\n",
       "      <td>15.0</td>\n",
       "      <td>20.0</td>\n",
       "      <td>15.0</td>\n",
       "      <td>15.0</td>\n",
       "      <td>35.0</td>\n",
       "      <td>20.0</td>\n",
       "      <td>20.0</td>\n",
       "      <td>20.0</td>\n",
       "      <td>0.0</td>\n",
       "      <td>5.0</td>\n",
       "    </tr>\n",
       "    <tr>\n",
       "      <th>1</th>\n",
       "      <td>1</td>\n",
       "      <td>12.0</td>\n",
       "      <td>0</td>\n",
       "      <td>0</td>\n",
       "      <td>1</td>\n",
       "      <td>15.0</td>\n",
       "      <td>20.0</td>\n",
       "      <td>15.0</td>\n",
       "      <td>20.0</td>\n",
       "      <td>15.0</td>\n",
       "      <td>15.0</td>\n",
       "      <td>60.0</td>\n",
       "      <td>0.0</td>\n",
       "      <td>0.0</td>\n",
       "      <td>40.0</td>\n",
       "      <td>0.0</td>\n",
       "      <td>0.0</td>\n",
       "    </tr>\n",
       "    <tr>\n",
       "      <th>2</th>\n",
       "      <td>1</td>\n",
       "      <td>13.0</td>\n",
       "      <td>1</td>\n",
       "      <td>0</td>\n",
       "      <td>1</td>\n",
       "      <td>15.0</td>\n",
       "      <td>20.0</td>\n",
       "      <td>15.0</td>\n",
       "      <td>20.0</td>\n",
       "      <td>15.0</td>\n",
       "      <td>15.0</td>\n",
       "      <td>19.0</td>\n",
       "      <td>18.0</td>\n",
       "      <td>19.0</td>\n",
       "      <td>18.0</td>\n",
       "      <td>14.0</td>\n",
       "      <td>12.0</td>\n",
       "    </tr>\n",
       "    <tr>\n",
       "      <th>3</th>\n",
       "      <td>1</td>\n",
       "      <td>14.0</td>\n",
       "      <td>1</td>\n",
       "      <td>0</td>\n",
       "      <td>1</td>\n",
       "      <td>15.0</td>\n",
       "      <td>20.0</td>\n",
       "      <td>15.0</td>\n",
       "      <td>20.0</td>\n",
       "      <td>15.0</td>\n",
       "      <td>15.0</td>\n",
       "      <td>30.0</td>\n",
       "      <td>5.0</td>\n",
       "      <td>15.0</td>\n",
       "      <td>40.0</td>\n",
       "      <td>5.0</td>\n",
       "      <td>5.0</td>\n",
       "    </tr>\n",
       "    <tr>\n",
       "      <th>4</th>\n",
       "      <td>1</td>\n",
       "      <td>15.0</td>\n",
       "      <td>1</td>\n",
       "      <td>0</td>\n",
       "      <td>1</td>\n",
       "      <td>15.0</td>\n",
       "      <td>20.0</td>\n",
       "      <td>15.0</td>\n",
       "      <td>20.0</td>\n",
       "      <td>15.0</td>\n",
       "      <td>15.0</td>\n",
       "      <td>30.0</td>\n",
       "      <td>10.0</td>\n",
       "      <td>20.0</td>\n",
       "      <td>10.0</td>\n",
       "      <td>10.0</td>\n",
       "      <td>20.0</td>\n",
       "    </tr>\n",
       "  </tbody>\n",
       "</table>\n",
       "</div>"
      ],
      "text/plain": [
       "   iid   pid  match  gender  dec  attr1_1  sinc1_1  fun1_1  intel1_1  amb1_1  \\\n",
       "0    1  11.0      0       0    1     15.0     20.0    15.0      20.0    15.0   \n",
       "1    1  12.0      0       0    1     15.0     20.0    15.0      20.0    15.0   \n",
       "2    1  13.0      1       0    1     15.0     20.0    15.0      20.0    15.0   \n",
       "3    1  14.0      1       0    1     15.0     20.0    15.0      20.0    15.0   \n",
       "4    1  15.0      1       0    1     15.0     20.0    15.0      20.0    15.0   \n",
       "\n",
       "   shar1_1  pf_o_att  pf_o_sin  pf_o_int  pf_o_fun  pf_o_amb  pf_o_sha  \n",
       "0     15.0      35.0      20.0      20.0      20.0       0.0       5.0  \n",
       "1     15.0      60.0       0.0       0.0      40.0       0.0       0.0  \n",
       "2     15.0      19.0      18.0      19.0      18.0      14.0      12.0  \n",
       "3     15.0      30.0       5.0      15.0      40.0       5.0       5.0  \n",
       "4     15.0      30.0      10.0      20.0      10.0      10.0      20.0  "
      ]
     },
     "execution_count": 162,
     "metadata": {},
     "output_type": "execute_result"
    }
   ],
   "source": [
    "cols = ['iid', 'pid', 'match','gender', 'dec',\n",
    "        'attr1_1', 'sinc1_1', 'fun1_1', 'intel1_1', 'amb1_1', 'shar1_1',\n",
    "#         'attr3_1', 'sinc3_1', 'fun3_1', 'intel3_1', 'amb3_1',\n",
    "        'pf_o_att', 'pf_o_sin', 'pf_o_int', 'pf_o_fun', 'pf_o_amb', 'pf_o_sha',\n",
    "#         'age', 'race', 'field_cd', 'date', 'go_out'\n",
    "       ]\n",
    "\n",
    "df_selected = df_data.loc[:, cols]\n",
    "\n",
    "print( df_selected.shape )\n",
    "df_selected.head()"
   ]
  },
  {
   "cell_type": "code",
   "execution_count": 163,
   "metadata": {},
   "outputs": [
    {
     "name": "stdout",
     "output_type": "stream",
     "text": [
      "missing_rate :  0.029601336834566724\n"
     ]
    }
   ],
   "source": [
    "count_row = df_selected.shape[0]\n",
    "\n",
    "# drop missing data.\n",
    "df_selected.dropna( inplace = True )\n",
    "df_selected.shape\n",
    "\n",
    "count_row_drop = df_selected.shape[0]\n",
    "\n",
    "# calculate missing rate.\n",
    "miss_rate = (count_row - count_row_drop) / count_row\n",
    "print(\"missing_rate : \", miss_rate)"
   ]
  },
  {
   "cell_type": "code",
   "execution_count": 164,
   "metadata": {},
   "outputs": [
    {
     "data": {
      "text/plain": [
       "<matplotlib.axes._subplots.AxesSubplot at 0x2f0637a9550>"
      ]
     },
     "execution_count": 164,
     "metadata": {},
     "output_type": "execute_result"
    },
    {
     "data": {
      "image/png": "[encoded data removed]",
      "text/plain": [
       "<matplotlib.figure.Figure at 0x2f0631b2eb8>"
      ]
     },
     "metadata": {},
     "output_type": "display_data"
    }
   ],
   "source": [
    "# Let's see distrbution of dec.\n",
    "sns.countplot(df_selected['dec'])"
   ]
  },
  {
   "cell_type": "markdown",
   "metadata": {},
   "source": [
    "# Learning with basic separation"
   ]
  },
  {
   "cell_type": "markdown",
   "metadata": {},
   "source": [
    "### Separation and select features."
   ]
  },
  {
   "cell_type": "code",
   "execution_count": 168,
   "metadata": {},
   "outputs": [
    {
     "name": "stdout",
     "output_type": "stream",
     "text": [
      "train shape :  (6097, 11)\n",
      "test shape :  (2033, 11)\n"
     ]
    }
   ],
   "source": [
    "from sklearn.tree import DecisionTreeClassifier\n",
    "from sklearn.model_selection import train_test_split\n",
    "from sklearn import metrics\n",
    "\n",
    "# Separate dataframe into train and test.\n",
    "train, test = train_test_split( df_selected, test_size = 0.25, random_state = 0 )\n",
    "X = ['attr1_1', 'sinc1_1', 'fun1_1', 'intel1_1', 'amb1_1',\n",
    "#      'attr3_1', 'sinc3_1', 'fun3_1', 'intel3_1', 'amb3_1',\n",
    "     'pf_o_att', 'pf_o_sin', 'pf_o_int', 'pf_o_fun', 'pf_o_amb', 'pf_o_sha',\n",
    "#      'age', 'race', 'field_cd', 'date', 'go_out'\n",
    "    ]\n",
    "Y = ['dec']\n",
    "\n",
    "train_X = train[X]\n",
    "train_Y = train[Y]\n",
    "\n",
    "test_X = test[X]\n",
    "test_Y = test[Y]\n",
    "\n",
    "print(\"train shape : \", train_X.shape)\n",
    "print(\"test shape : \", test_X.shape)\n",
    "\n",
    "features_one = train_X.values\n",
    "target = train_Y.values.ravel()"
   ]
  },
  {
   "cell_type": "markdown",
   "metadata": {},
   "source": [
    "### 1. Decision Tree"
   ]
  },
  {
   "cell_type": "code",
   "execution_count": 173,
   "metadata": {},
   "outputs": [
    {
     "name": "stdout",
     "output_type": "stream",
     "text": [
      "The accuracy of the Decision Tree is 0.5784554845056566\n"
     ]
    },
    {
     "data": {
      "text/plain": [
       "<matplotlib.axes._subplots.AxesSubplot at 0x2f0638c72e8>"
      ]
     },
     "execution_count": 173,
     "metadata": {},
     "output_type": "execute_result"
    },
    {
     "data": {
      "image/png": "[encoded data removed]",
      "text/plain": [
       "<matplotlib.figure.Figure at 0x2f0638d3c88>"
      ]
     },
     "metadata": {},
     "output_type": "display_data"
    }
   ],
   "source": [
    "tree_model = DecisionTreeClassifier()\n",
    "tree_model.fit( train_X, train_Y )\n",
    "dt_prediction = tree_model.predict( test_X )\n",
    "\n",
    "accuracy = metrics.accuracy_score(dt_prediction, test_Y)\n",
    "print('The accuracy of the Decision Tree is', accuracy)\n",
    "\n",
    "# comparison visualzaition\n",
    "sns.distplot(dt_prediction, kde = False, label=\"prediction\", color='red')\n",
    "sns.distplot(test_Y, kde = False, label=\"actual value\", color='blue')"
   ]
  },
  {
   "cell_type": "markdown",
   "metadata": {},
   "source": [
    "### 2. Random Forest"
   ]
  },
  {
   "cell_type": "code",
   "execution_count": 174,
   "metadata": {},
   "outputs": [
    {
     "name": "stdout",
     "output_type": "stream",
     "text": [
      "The accuracy of the Random Forest is 0.6246925725528775\n",
      "[0 0 1 ... 0 0 0]\n"
     ]
    },
    {
     "data": {
      "text/plain": [
       "<function matplotlib.pyplot.show>"
      ]
     },
     "execution_count": 174,
     "metadata": {},
     "output_type": "execute_result"
    },
    {
     "data": {
      "image/png": "[encoded data removed]",
      "text/plain": [
       "<matplotlib.figure.Figure at 0x2f05ac8c1d0>"
      ]
     },
     "metadata": {},
     "output_type": "display_data"
    }
   ],
   "source": [
    "from sklearn.ensemble import RandomForestClassifier\n",
    "\n",
    "rf = RandomForestClassifier()\n",
    "rf.fit( train_X, target )\n",
    "rf_prediction = rf.predict(test_X)\n",
    "\n",
    "accuracy = rf.score(test_X, test_Y)\n",
    "print(\"The accuracy of the Random Forest is\", accuracy)\n",
    "print( rf_prediction ) \n",
    "\n",
    "# comparison visualzaition\n",
    "sns.distplot(rf_prediction, kde = False, label=\"prediction\", color='red')\n",
    "sns.distplot(test_Y, kde = False, label=\"actual value\", color='blue')\n",
    "plt.show"
   ]
  },
  {
   "cell_type": "markdown",
   "metadata": {},
   "source": [
    "### 3. SVM - linear"
   ]
  },
  {
   "cell_type": "code",
   "execution_count": 160,
   "metadata": {},
   "outputs": [
    {
     "name": "stdout",
     "output_type": "stream",
     "text": [
      "The accuracy of the SVM_linear is 0.578895945285784\n"
     ]
    },
    {
     "data": {
      "text/plain": [
       "<function matplotlib.pyplot.show>"
      ]
     },
     "execution_count": 160,
     "metadata": {},
     "output_type": "execute_result"
    },
    {
     "data": {
      "image/png": "[encoded data removed]",
      "text/plain": [
       "<matplotlib.figure.Figure at 0x2f061276550>"
      ]
     },
     "metadata": {},
     "output_type": "display_data"
    }
   ],
   "source": [
    "from sklearn import svm\n",
    "\n",
    "svc = svm.SVC( kernel='linear' )\n",
    "svc.fit( features_one, target )\n",
    "prediction = svc.predict( test_X )\n",
    "\n",
    "accuracy = svc.score( test_X, test_Y )\n",
    "print('The accuracy of the SVM_linear is', accuracy)\n",
    "\n",
    "# comparison visualzaition\n",
    "sns.distplot(prediction, kde=False, label=\"prediction\", color='red')\n",
    "sns.distplot(test_Y, kde=False, label=\"actual value\", color='blue')\n",
    "plt.show"
   ]
  },
  {
   "cell_type": "markdown",
   "metadata": {},
   "source": [
    "### 4. SVM - rbf"
   ]
  },
  {
   "cell_type": "code",
   "execution_count": 175,
   "metadata": {},
   "outputs": [
    {
     "name": "stdout",
     "output_type": "stream",
     "text": [
      "The accuracy of the SVM_rbf is 0.5784554845056566\n"
     ]
    },
    {
     "data": {
      "text/plain": [
       "<function matplotlib.pyplot.show>"
      ]
     },
     "execution_count": 175,
     "metadata": {},
     "output_type": "execute_result"
    },
    {
     "data": {
      "image/png": "[encoded data removed]",
      "text/plain": [
       "<matplotlib.figure.Figure at 0x2f0636fc400>"
      ]
     },
     "metadata": {},
     "output_type": "display_data"
    }
   ],
   "source": [
    "from sklearn import svm\n",
    "\n",
    "svc_r = svm.SVC( kernel='rbf' )\n",
    "svc_r.fit( features_one, target )\n",
    "prediction = svc_r.predict( test_X )\n",
    "\n",
    "accuracy = svc_r.score(test_X, test_Y)\n",
    "print('The accuracy of the SVM_rbf is', accuracy)\n",
    "\n",
    "# comparison visualzaition\n",
    "sns.distplot(prediction, hist = True, kde = False, label=\"prediction\", color='red')\n",
    "sns.distplot(test_Y, hist = True, kde = False, label=\"actual value\", color='blue')"
   ]
  },
  {
   "cell_type": "markdown",
   "metadata": {},
   "source": [
    "### 5.SVR"
   ]
  },
  {
   "cell_type": "code",
   "execution_count": 176,
   "metadata": {},
   "outputs": [
    {
     "name": "stdout",
     "output_type": "stream",
     "text": [
      "The accuracy of the SVR is -0.0009266143838264629\n"
     ]
    },
    {
     "data": {
      "image/png": "[encoded data removed]",
      "text/plain": [
       "<matplotlib.figure.Figure at 0x2f064b04e10>"
      ]
     },
     "metadata": {},
     "output_type": "display_data"
    }
   ],
   "source": [
    "from sklearn import svm\n",
    "import seaborn as sb\n",
    "\n",
    "clf = svm.SVR()\n",
    "clf.fit(features_one, target)\n",
    "prediction = clf.predict(test_X)\n",
    "\n",
    "accuracy = clf.score(test_X, test_Y)\n",
    "print('The accuracy of the SVR is', accuracy)\n",
    "\n",
    "# comparison visualzaition\n",
    "sns.distplot(prediction, kde = False, color = 'red', label='prediction')\n",
    "sns.distplot(test_Y, kde = False, color = 'blue', label='actual value')"
   ]
  },
  {
   "cell_type": "markdown",
   "metadata": {},
   "source": [
    "### 6. KNN"
   ]
  },
  {
   "cell_type": "code",
   "execution_count": 177,
   "metadata": {},
   "outputs": [
    {
     "name": "stdout",
     "output_type": "stream",
     "text": [
      "The accuracy of the KNN is 0.6133792424987703\n"
     ]
    },
    {
     "data": {
      "image/png": "[encoded data removed]",
      "text/plain": [
       "<matplotlib.figure.Figure at 0x2f0636b9ac8>"
      ]
     },
     "metadata": {},
     "output_type": "display_data"
    }
   ],
   "source": [
    "from sklearn import neighbors\n",
    "\n",
    "knn = neighbors.KNeighborsClassifier()\n",
    "knn.fit(features_one, target)\n",
    "prediction = knn.predict(test_X)\n",
    "\n",
    "accuracy = knn.score(test_X, test_Y)\n",
    "print('The accuracy of the KNN is', accuracy)\n",
    "\n",
    "# comparison visualzaition\n",
    "sns.distplot(prediction, kde = False, color = 'red', label='prediction')\n",
    "sns.distplot(test_Y, kde = False, color = 'blue', label='actual value')"
   ]
  },
  {
   "cell_type": "markdown",
   "metadata": {},
   "source": [
    "### 7. Grid Search"
   ]
  },
  {
   "cell_type": "code",
   "execution_count": 178,
   "metadata": {},
   "outputs": [
    {
     "name": "stdout",
     "output_type": "stream",
     "text": [
      "The accuracy of the Grid-search is 0.5966551893753075\n"
     ]
    },
    {
     "data": {
      "image/png": "[encoded data removed]",
      "text/plain": [
       "<matplotlib.figure.Figure at 0x2f06377ef98>"
      ]
     },
     "metadata": {},
     "output_type": "display_data"
    }
   ],
   "source": [
    "from sklearn import svm, grid_search\n",
    "\n",
    "gammas = np.logspace(-6,-1,10)\n",
    "svc_g = svm.SVC()\n",
    "clf = grid_search.GridSearchCV( estimator=svc_g, param_grid=dict(gamma = gammas), n_jobs=-1 )\n",
    "clf.fit(features_one, target)\n",
    "prediction = clf.predict(test_X)\n",
    "\n",
    "accuracy = clf.score(test_X, test_Y)\n",
    "print('The accuracy of the Grid-search is', accuracy)\n",
    "\n",
    "# comparison visualzaition\n",
    "sns.distplot(prediction, kde = False, color = 'red', label='prediction')\n",
    "sns.distplot(test_Y, kde = False, color = 'blue', label='actual value')"
   ]
  },
  {
   "cell_type": "markdown",
   "metadata": {},
   "source": [
    "### 8.Ridge"
   ]
  },
  {
   "cell_type": "code",
   "execution_count": 180,
   "metadata": {},
   "outputs": [
    {
     "name": "stdout",
     "output_type": "stream",
     "text": [
      "The accuracy of the Ridge is 0.016189680269335316\n"
     ]
    },
    {
     "data": {
      "text/plain": [
       "<matplotlib.axes._subplots.AxesSubplot at 0x2f0637056d8>"
      ]
     },
     "execution_count": 180,
     "metadata": {},
     "output_type": "execute_result"
    },
    {
     "data": {
      "image/png": "[encoded data removed]",
      "text/plain": [
       "<matplotlib.figure.Figure at 0x2f0637270b8>"
      ]
     },
     "metadata": {},
     "output_type": "display_data"
    }
   ],
   "source": [
    "from sklearn.linear_model import Ridge\n",
    "\n",
    "reg = Ridge(alpha=1.0)\n",
    "reg.fit(train_X, train_Y)\n",
    "prediction = reg.predict(test_X)\n",
    "\n",
    "accuracy = reg.score(test_X, test_Y)\n",
    "reg.score()\n",
    "print('The accuracy of the Ridge is', accuracy)\n",
    "\n",
    "# comparison visualzaition\n",
    "fig, axs = plt.subplots(ncols = 2)\n",
    "fig.set_size_inches(w = 20, h = 5)\n",
    "\n",
    "sns.distplot(prediction, kde = False, color = 'red', label='prediction', ax=axs[0])\n",
    "sns.distplot(test_Y, kde = False, color = 'blue', label='actual value', ax=axs[0])\n",
    "\n",
    "coef_index = list(range(reg.coef_[0].size))\n",
    "sns.barplot(x = coef_index, y = reg.coef_[0], ax=axs[1])"
   ]
  },
  {
   "cell_type": "markdown",
   "metadata": {},
   "source": [
    "### 9. Lasso"
   ]
  },
  {
   "cell_type": "code",
   "execution_count": 182,
   "metadata": {},
   "outputs": [
    {
     "name": "stdout",
     "output_type": "stream",
     "text": [
      "The accuracy of the Ridge is 0.01619079764016451\n"
     ]
    },
    {
     "data": {
      "text/plain": [
       "<matplotlib.axes._subplots.AxesSubplot at 0x2f04dbf3e80>"
      ]
     },
     "execution_count": 182,
     "metadata": {},
     "output_type": "execute_result"
    },
    {
     "data": {
      "image/png": "[encoded data removed]",
      "text/plain": [
       "<matplotlib.figure.Figure at 0x2f04da62208>"
      ]
     },
     "metadata": {},
     "output_type": "display_data"
    }
   ],
   "source": [
    "from sklearn.linear_model import Lasso\n",
    "\n",
    "reg = Lasso(alpha=0.001)\n",
    "reg.fit(train_X, train_Y)\n",
    "prediction = reg.predict(test_X)\n",
    "\n",
    "accuracy = reg.score(test_X, test_Y)\n",
    "print('The accuracy of the Ridge is', accuracy)\n",
    "\n",
    "# comparison visualzaition\n",
    "fig, axs = plt.subplots(ncols = 2)\n",
    "fig.set_size_inches(w = 20, h = 5)\n",
    "\n",
    "sns.distplot(prediction, kde = False, color = 'red', label='prediction', ax=axs[0])\n",
    "sns.distplot(test_Y, kde = False, color = 'blue', label='actual value', ax=axs[0])\n",
    "\n",
    "coef_index = list(range(reg.coef_.size))\n",
    "sns.barplot(x = coef_index, y = list(reg.coef_), ax=axs[1])\n"
   ]
  }
 ],
 "metadata": {
  "kernelspec": {
   "display_name": "Python 3",
   "language": "python",
   "name": "python3"
  },
  "language_info": {
   "codemirror_mode": {
    "name": "ipython",
    "version": 3
   },
   "file_extension": ".py",
   "mimetype": "text/x-python",
   "name": "python",
   "nbconvert_exporter": "python",
   "pygments_lexer": "ipython3",
   "version": "3.6.4"
  }
 },
 "nbformat": 4,
 "nbformat_minor": 2
}
