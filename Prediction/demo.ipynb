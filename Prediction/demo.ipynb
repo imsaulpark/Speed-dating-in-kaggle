{
 "cells": [
  {
   "cell_type": "markdown",
   "metadata": {},
   "source": [
    "# Data import"
   ]
  },
  {
   "cell_type": "code",
   "execution_count": 3,
   "metadata": {},
   "outputs": [
    {
     "data": {
      "text/plain": [
       "(8378, 195)"
      ]
     },
     "execution_count": 3,
     "metadata": {},
     "output_type": "execute_result"
    }
   ],
   "source": [
    "import pandas as pd\n",
    "import numpy as np\n",
    "import matplotlib.pyplot as plt\n",
    "import seaborn as sns\n",
    "\n",
    "df_data = pd.read_csv(\"../data/Speed Dating Data.csv\")\n",
    "df_data.shape"
   ]
  },
  {
   "cell_type": "markdown",
   "metadata": {},
   "source": [
    "# Data preprocessing"
   ]
  },
  {
   "cell_type": "markdown",
   "metadata": {},
   "source": [
    "## Make dataframe"
   ]
  },
  {
   "cell_type": "code",
   "execution_count": 4,
   "metadata": {},
   "outputs": [
    {
     "name": "stdout",
     "output_type": "stream",
     "text": [
      "making...\n",
      "100 200 300 400 500 600 700 800 900 1000 1100 1200 1300 1400 1500 1600 1700 1800 1900 2000 2100 2200 2300 2400 2500 2600 2700 2800 2900 3000 3100 3200 3300 3400 3500 3600 3700 3800 3900 4000 4100 4200 4300 4400 4500 4600 4700 4800 4900 5000 5100 5200 5300 5400 5500 5600 5700 5800 5900 6000 6100 6200 6300 6400 6500 6600 6700 6800 6900 7000 7100 7200 7300 7400 7500 7600 7700 7800 7900 8000 \n",
      "making success.\n",
      "\n",
      "df_match shape :  (8096, 18)\n"
     ]
    },
    {
     "data": {
      "text/html": [
       "<div>\n",
       "<style scoped>\n",
       "    .dataframe tbody tr th:only-of-type {\n",
       "        vertical-align: middle;\n",
       "    }\n",
       "\n",
       "    .dataframe tbody tr th {\n",
       "        vertical-align: top;\n",
       "    }\n",
       "\n",
       "    .dataframe thead th {\n",
       "        text-align: right;\n",
       "    }\n",
       "</style>\n",
       "<table border=\"1\" class=\"dataframe\">\n",
       "  <thead>\n",
       "    <tr style=\"text-align: right;\">\n",
       "      <th></th>\n",
       "      <th>iid</th>\n",
       "      <th>pid</th>\n",
       "      <th>match</th>\n",
       "      <th>gender</th>\n",
       "      <th>dec</th>\n",
       "      <th>age</th>\n",
       "      <th>attr3_1</th>\n",
       "      <th>sinc3_1</th>\n",
       "      <th>fun3_1</th>\n",
       "      <th>intel3_1</th>\n",
       "      <th>amb3_1</th>\n",
       "      <th>dec_o</th>\n",
       "      <th>age_o</th>\n",
       "      <th>attr3_1_o</th>\n",
       "      <th>sinc3_1_o</th>\n",
       "      <th>fun3_1_o</th>\n",
       "      <th>intel3_1_o</th>\n",
       "      <th>amb3_1_o</th>\n",
       "    </tr>\n",
       "  </thead>\n",
       "  <tbody>\n",
       "    <tr>\n",
       "      <th>0</th>\n",
       "      <td>11.0</td>\n",
       "      <td>1.0</td>\n",
       "      <td>0.0</td>\n",
       "      <td>1.0</td>\n",
       "      <td>0.0</td>\n",
       "      <td>27.0</td>\n",
       "      <td>8.0</td>\n",
       "      <td>9.0</td>\n",
       "      <td>7.0</td>\n",
       "      <td>8.0</td>\n",
       "      <td>5.0</td>\n",
       "      <td>1.0</td>\n",
       "      <td>21.0</td>\n",
       "      <td>6.0</td>\n",
       "      <td>8.0</td>\n",
       "      <td>8.0</td>\n",
       "      <td>8.0</td>\n",
       "      <td>7.0</td>\n",
       "    </tr>\n",
       "    <tr>\n",
       "      <th>1</th>\n",
       "      <td>11.0</td>\n",
       "      <td>2.0</td>\n",
       "      <td>0.0</td>\n",
       "      <td>1.0</td>\n",
       "      <td>0.0</td>\n",
       "      <td>27.0</td>\n",
       "      <td>8.0</td>\n",
       "      <td>9.0</td>\n",
       "      <td>7.0</td>\n",
       "      <td>8.0</td>\n",
       "      <td>5.0</td>\n",
       "      <td>0.0</td>\n",
       "      <td>24.0</td>\n",
       "      <td>7.0</td>\n",
       "      <td>5.0</td>\n",
       "      <td>10.0</td>\n",
       "      <td>8.0</td>\n",
       "      <td>3.0</td>\n",
       "    </tr>\n",
       "    <tr>\n",
       "      <th>2</th>\n",
       "      <td>11.0</td>\n",
       "      <td>3.0</td>\n",
       "      <td>0.0</td>\n",
       "      <td>1.0</td>\n",
       "      <td>0.0</td>\n",
       "      <td>27.0</td>\n",
       "      <td>8.0</td>\n",
       "      <td>9.0</td>\n",
       "      <td>7.0</td>\n",
       "      <td>8.0</td>\n",
       "      <td>5.0</td>\n",
       "      <td>0.0</td>\n",
       "      <td>25.0</td>\n",
       "      <td>8.0</td>\n",
       "      <td>9.0</td>\n",
       "      <td>8.0</td>\n",
       "      <td>9.0</td>\n",
       "      <td>8.0</td>\n",
       "    </tr>\n",
       "    <tr>\n",
       "      <th>3</th>\n",
       "      <td>11.0</td>\n",
       "      <td>4.0</td>\n",
       "      <td>0.0</td>\n",
       "      <td>1.0</td>\n",
       "      <td>0.0</td>\n",
       "      <td>27.0</td>\n",
       "      <td>8.0</td>\n",
       "      <td>9.0</td>\n",
       "      <td>7.0</td>\n",
       "      <td>8.0</td>\n",
       "      <td>5.0</td>\n",
       "      <td>0.0</td>\n",
       "      <td>23.0</td>\n",
       "      <td>7.0</td>\n",
       "      <td>8.0</td>\n",
       "      <td>9.0</td>\n",
       "      <td>7.0</td>\n",
       "      <td>8.0</td>\n",
       "    </tr>\n",
       "    <tr>\n",
       "      <th>4</th>\n",
       "      <td>11.0</td>\n",
       "      <td>5.0</td>\n",
       "      <td>0.0</td>\n",
       "      <td>1.0</td>\n",
       "      <td>0.0</td>\n",
       "      <td>27.0</td>\n",
       "      <td>8.0</td>\n",
       "      <td>9.0</td>\n",
       "      <td>7.0</td>\n",
       "      <td>8.0</td>\n",
       "      <td>5.0</td>\n",
       "      <td>0.0</td>\n",
       "      <td>21.0</td>\n",
       "      <td>6.0</td>\n",
       "      <td>3.0</td>\n",
       "      <td>6.0</td>\n",
       "      <td>10.0</td>\n",
       "      <td>8.0</td>\n",
       "    </tr>\n",
       "  </tbody>\n",
       "</table>\n",
       "</div>"
      ],
      "text/plain": [
       "    iid  pid  match  gender  dec   age  attr3_1  sinc3_1  fun3_1  intel3_1  \\\n",
       "0  11.0  1.0    0.0     1.0  0.0  27.0      8.0      9.0     7.0       8.0   \n",
       "1  11.0  2.0    0.0     1.0  0.0  27.0      8.0      9.0     7.0       8.0   \n",
       "2  11.0  3.0    0.0     1.0  0.0  27.0      8.0      9.0     7.0       8.0   \n",
       "3  11.0  4.0    0.0     1.0  0.0  27.0      8.0      9.0     7.0       8.0   \n",
       "4  11.0  5.0    0.0     1.0  0.0  27.0      8.0      9.0     7.0       8.0   \n",
       "\n",
       "   amb3_1  dec_o  age_o  attr3_1_o  sinc3_1_o  fun3_1_o  intel3_1_o  amb3_1_o  \n",
       "0     5.0    1.0   21.0        6.0        8.0       8.0         8.0       7.0  \n",
       "1     5.0    0.0   24.0        7.0        5.0      10.0         8.0       3.0  \n",
       "2     5.0    0.0   25.0        8.0        9.0       8.0         9.0       8.0  \n",
       "3     5.0    0.0   23.0        7.0        8.0       9.0         7.0       8.0  \n",
       "4     5.0    0.0   21.0        6.0        3.0       6.0        10.0       8.0  "
      ]
     },
     "execution_count": 4,
     "metadata": {},
     "output_type": "execute_result"
    }
   ],
   "source": [
    "cols = ['iid', 'pid', 'match','gender','dec', 'age',\n",
    "        'attr3_1', 'sinc3_1', 'fun3_1', 'intel3_1', 'amb3_1']\n",
    "\n",
    "df_selected = df_data.loc[:, cols]\n",
    "df_selected.dropna(inplace=True)\n",
    "\n",
    "# Separate dataframe into male and female.\n",
    "df_male = df_selected.loc[ df_selected['gender'] == 1 ]\n",
    "df_female = df_selected.loc[ df_selected['gender'] == 0 ]\n",
    "\n",
    "# Then, Let's make dropped duplicates dataframe of male.\n",
    "df_male_drop = df_male.drop_duplicates(subset=['iid'])\n",
    "df_female_drop = df_female.drop_duplicates(subset=['iid'])\n",
    "\n",
    "# Let's make dataframe for matching. (empty yet)\n",
    "df_match = pd.DataFrame( data = None, columns = cols + ['dec_o', 'age_o', 'attr3_1_o', 'sinc3_1_o', 'fun3_1_o', 'intel3_1_o',  'amb3_1_o'] )\n",
    "index = 0\n",
    "\n",
    "print(\"making...\")\n",
    "# Let's fill each rows of dataframe for matching.\n",
    "for m_index, m_row in df_male.iterrows() :\n",
    "    \n",
    "    # Find pid row in female_drop dataframe.\n",
    "    pid = m_row['pid']\n",
    "    f_row = df_female_drop.loc[ df_female_drop['iid'] == pid ]\n",
    "    \n",
    "    if f_row.empty :\n",
    "        continue\n",
    "    \n",
    "    f_row = f_row.iloc[0]\n",
    "    \n",
    "    # Extract values from each row of dataframes.\n",
    "    values = list(m_row.values) + list(f_row['dec':'amb3_1'].values)\n",
    "    \n",
    "    # Fill a row of match dataframe\n",
    "    df_match.loc[index] = values\n",
    "    index += 1\n",
    "    \n",
    "    # Print current progress at each 100 row.\n",
    "    if index % 100 == 0 :\n",
    "        print(index, end = \" \")\n",
    "\n",
    "# Let's fill each rows of dataframe for matching.\n",
    "for fm_index, fm_row in df_female.iterrows() :\n",
    "    \n",
    "    # Find pid row in female_drop dataframe.\n",
    "    pid = fm_row['pid']\n",
    "    m_row = df_male_drop.loc[ df_male_drop['iid'] == pid ]\n",
    "    \n",
    "    if m_row.empty :\n",
    "        continue\n",
    "    \n",
    "    m_row = m_row.iloc[0]\n",
    "    \n",
    "    # Extract values from each row of dataframes.\n",
    "    values = list(fm_row.values) + list(m_row['dec':'amb3_1'].values)\n",
    "    \n",
    "    # Fill a row of match dataframe\n",
    "    df_match.loc[index] = values\n",
    "    index += 1\n",
    "    \n",
    "    # Print current progress at each 100 row.\n",
    "    if index % 100 == 0 :\n",
    "        print(index, end = \" \")\n",
    "\n",
    "print() \n",
    "print(\"making success.\\n\")            \n",
    "print(\"df_match shape : \", df_match.shape)\n",
    "df_match.head()"
   ]
  },
  {
   "cell_type": "markdown",
   "metadata": {},
   "source": [
    "# Separation and learning"
   ]
  },
  {
   "cell_type": "markdown",
   "metadata": {},
   "source": [
    "## Features selection"
   ]
  },
  {
   "cell_type": "code",
   "execution_count": 6,
   "metadata": {},
   "outputs": [],
   "source": [
    "X = ['attr3_1', 'sinc3_1', 'intel3_1', 'fun3_1', 'amb3_1',\n",
    "   'attr3_1_o', 'sinc3_1_o', 'fun3_1_o', 'intel3_1_o',  'amb3_1_o',\n",
    "   'age','age_o'\n",
    "  ]\n",
    "Y = ['dec_o']"
   ]
  },
  {
   "cell_type": "markdown",
   "metadata": {},
   "source": [
    "## Data separation"
   ]
  },
  {
   "cell_type": "code",
   "execution_count": 7,
   "metadata": {},
   "outputs": [
    {
     "name": "stdout",
     "output_type": "stream",
     "text": [
      "train shape :  (6072, 12)\n",
      "test shape :  (2024, 12)\n"
     ]
    }
   ],
   "source": [
    "from sklearn.model_selection import train_test_split\n",
    "from sklearn import metrics\n",
    "from sklearn.metrics import confusion_matrix\n",
    "\n",
    "train, test = train_test_split(df_match, test_size=0.25,random_state=0)\n",
    "\n",
    "train_X = train[X]\n",
    "train_Y = train[Y]\n",
    "\n",
    "test_X = test[X]\n",
    "test_Y = test[Y]\n",
    " \n",
    "features_one = train_X.values\n",
    "target = train_Y.values\n",
    "\n",
    "print(\"train shape : \", train_X.shape)\n",
    "print(\"test shape : \", test_X.shape)"
   ]
  },
  {
   "cell_type": "markdown",
   "metadata": {},
   "source": [
    "## Learning"
   ]
  },
  {
   "cell_type": "markdown",
   "metadata": {},
   "source": [
    "### Decision Tree"
   ]
  },
  {
   "cell_type": "code",
   "execution_count": 8,
   "metadata": {},
   "outputs": [
    {
     "name": "stdout",
     "output_type": "stream",
     "text": [
      "The accuracy of the Decision Tree is 0.982707509881423\n",
      "AUC in ROC curve is 0.9811492723317069\n"
     ]
    },
    {
     "data": {
      "image/png": "[encoded data removed]",
      "text/plain": [
       "<matplotlib.figure.Figure at 0x204100f0438>"
      ]
     },
     "metadata": {},
     "output_type": "display_data"
    }
   ],
   "source": [
    "from sklearn.tree import DecisionTreeClassifier\n",
    "\n",
    "clf = DecisionTreeClassifier()\n",
    "clf.fit(features_one, target)\n",
    "dt_prediction = clf.predict(test_X)\n",
    "\n",
    "accuracy = metrics.accuracy_score(dt_prediction, test_Y)\n",
    "print('The accuracy of the Decision Tree is', accuracy)\n",
    "\n",
    "# print AUC\n",
    "auc = metrics.roc_auc_score(test_Y, dt_prediction)\n",
    "print(\"AUC in ROC curve is\", auc)\n",
    "\n",
    "fig, axs = plt.subplots(ncols = 2)\n",
    "fig.set_size_inches(w = 20, h = 5)\n",
    "\n",
    "# # draw distribution graph\n",
    "axs[0].set_title(\"distribtion on dec_o\")\n",
    "sns.distplot(dt_prediction, kde = False, label=\"prediction\", color='red', ax=axs[0])\n",
    "sns.distplot(test_Y, kde = False, label=\"actual value\", color='blue', ax=axs[0],)\n",
    "axs[0].legend()\n",
    "\n",
    "# draw ROC curve\n",
    "fpr, tpr, threshold = metrics.roc_curve(test_Y, dt_prediction)\n",
    "plt.plot(fpr, tpr)\n",
    "plt.title(\"ROC curve\")\n",
    "plt.show() "
   ]
  },
  {
   "cell_type": "markdown",
   "metadata": {},
   "source": [
    "# Demo Test"
   ]
  },
  {
   "cell_type": "markdown",
   "metadata": {},
   "source": [
    "Let's make dataframe for demo and test."
   ]
  },
  {
   "cell_type": "markdown",
   "metadata": {},
   "source": [
    "### data import"
   ]
  },
  {
   "cell_type": "code",
   "execution_count": 5,
   "metadata": {
    "scrolled": true
   },
   "outputs": [
    {
     "name": "stdout",
     "output_type": "stream",
     "text": [
      "(15, 22)\n"
     ]
    },
    {
     "data": {
      "text/html": [
       "<div>\n",
       "<style scoped>\n",
       "    .dataframe tbody tr th:only-of-type {\n",
       "        vertical-align: middle;\n",
       "    }\n",
       "\n",
       "    .dataframe tbody tr th {\n",
       "        vertical-align: top;\n",
       "    }\n",
       "\n",
       "    .dataframe thead th {\n",
       "        text-align: right;\n",
       "    }\n",
       "</style>\n",
       "<table border=\"1\" class=\"dataframe\">\n",
       "  <thead>\n",
       "    <tr style=\"text-align: right;\">\n",
       "      <th></th>\n",
       "      <th>?TIMESTAMP</th>\n",
       "      <th>name</th>\n",
       "      <th>sex</th>\n",
       "      <th>age</th>\n",
       "      <th>How frequently do you go on dates?</th>\n",
       "      <th>How often do you go out (not necessarily on dates)?</th>\n",
       "      <th>Attractive1</th>\n",
       "      <th>Sincere1</th>\n",
       "      <th>Intelligent1</th>\n",
       "      <th>Fun1</th>\n",
       "      <th>...</th>\n",
       "      <th>Attractive5</th>\n",
       "      <th>Sincere5</th>\n",
       "      <th>Intelligent5</th>\n",
       "      <th>Fun5</th>\n",
       "      <th>Ambitious5</th>\n",
       "      <th>Attractive3</th>\n",
       "      <th>Sincere3</th>\n",
       "      <th>Intelligent3</th>\n",
       "      <th>Fun3</th>\n",
       "      <th>Ambitious3</th>\n",
       "    </tr>\n",
       "  </thead>\n",
       "  <tbody>\n",
       "    <tr>\n",
       "      <th>0</th>\n",
       "      <td>2018-07-18 2:59</td>\n",
       "      <td>한규수</td>\n",
       "      <td>남자</td>\n",
       "      <td>26</td>\n",
       "      <td>6</td>\n",
       "      <td>1</td>\n",
       "      <td>8</td>\n",
       "      <td>9</td>\n",
       "      <td>8</td>\n",
       "      <td>6</td>\n",
       "      <td>...</td>\n",
       "      <td>8</td>\n",
       "      <td>9</td>\n",
       "      <td>8</td>\n",
       "      <td>6</td>\n",
       "      <td>7</td>\n",
       "      <td>8</td>\n",
       "      <td>7</td>\n",
       "      <td>7</td>\n",
       "      <td>6</td>\n",
       "      <td>8</td>\n",
       "    </tr>\n",
       "    <tr>\n",
       "      <th>1</th>\n",
       "      <td>2018-07-18 3:01</td>\n",
       "      <td>홍진</td>\n",
       "      <td>여자</td>\n",
       "      <td>22</td>\n",
       "      <td>1</td>\n",
       "      <td>1</td>\n",
       "      <td>10</td>\n",
       "      <td>7</td>\n",
       "      <td>3</td>\n",
       "      <td>10</td>\n",
       "      <td>...</td>\n",
       "      <td>8</td>\n",
       "      <td>4</td>\n",
       "      <td>9</td>\n",
       "      <td>7</td>\n",
       "      <td>6</td>\n",
       "      <td>9</td>\n",
       "      <td>5</td>\n",
       "      <td>9</td>\n",
       "      <td>8</td>\n",
       "      <td>7</td>\n",
       "    </tr>\n",
       "    <tr>\n",
       "      <th>2</th>\n",
       "      <td>2018-07-18 3:02</td>\n",
       "      <td>심지선</td>\n",
       "      <td>여자</td>\n",
       "      <td>24</td>\n",
       "      <td>7</td>\n",
       "      <td>2</td>\n",
       "      <td>7</td>\n",
       "      <td>8</td>\n",
       "      <td>5</td>\n",
       "      <td>9</td>\n",
       "      <td>...</td>\n",
       "      <td>5</td>\n",
       "      <td>6</td>\n",
       "      <td>5</td>\n",
       "      <td>4</td>\n",
       "      <td>3</td>\n",
       "      <td>6</td>\n",
       "      <td>8</td>\n",
       "      <td>5</td>\n",
       "      <td>5</td>\n",
       "      <td>6</td>\n",
       "    </tr>\n",
       "    <tr>\n",
       "      <th>3</th>\n",
       "      <td>2018-07-18 3:04</td>\n",
       "      <td>권도경</td>\n",
       "      <td>여자</td>\n",
       "      <td>23</td>\n",
       "      <td>1</td>\n",
       "      <td>3</td>\n",
       "      <td>3</td>\n",
       "      <td>4</td>\n",
       "      <td>1</td>\n",
       "      <td>9</td>\n",
       "      <td>...</td>\n",
       "      <td>5</td>\n",
       "      <td>1</td>\n",
       "      <td>1</td>\n",
       "      <td>7</td>\n",
       "      <td>2</td>\n",
       "      <td>5</td>\n",
       "      <td>10</td>\n",
       "      <td>5</td>\n",
       "      <td>10</td>\n",
       "      <td>1</td>\n",
       "    </tr>\n",
       "    <tr>\n",
       "      <th>4</th>\n",
       "      <td>2018-07-18 3:10</td>\n",
       "      <td>박승우</td>\n",
       "      <td>남자</td>\n",
       "      <td>26</td>\n",
       "      <td>2</td>\n",
       "      <td>1</td>\n",
       "      <td>7</td>\n",
       "      <td>8</td>\n",
       "      <td>6</td>\n",
       "      <td>6</td>\n",
       "      <td>...</td>\n",
       "      <td>6</td>\n",
       "      <td>7</td>\n",
       "      <td>7</td>\n",
       "      <td>7</td>\n",
       "      <td>7</td>\n",
       "      <td>7</td>\n",
       "      <td>9</td>\n",
       "      <td>7</td>\n",
       "      <td>7</td>\n",
       "      <td>6</td>\n",
       "    </tr>\n",
       "  </tbody>\n",
       "</table>\n",
       "<p>5 rows × 22 columns</p>\n",
       "</div>"
      ],
      "text/plain": [
       "        ?TIMESTAMP name sex  age  How frequently do you go on dates?   \\\n",
       "0  2018-07-18 2:59  한규수  남자   26                                    6   \n",
       "1  2018-07-18 3:01   홍진  여자   22                                    1   \n",
       "2  2018-07-18 3:02  심지선  여자   24                                    7   \n",
       "3  2018-07-18 3:04  권도경  여자   23                                    1   \n",
       "4  2018-07-18 3:10  박승우  남자   26                                    2   \n",
       "\n",
       "   How often do you go out (not necessarily on dates)?  Attractive1  Sincere1  \\\n",
       "0                                                  1              8         9   \n",
       "1                                                  1             10         7   \n",
       "2                                                  2              7         8   \n",
       "3                                                  3              3         4   \n",
       "4                                                  1              7         8   \n",
       "\n",
       "   Intelligent1  Fun1     ...      Attractive5  Sincere5  Intelligent5  Fun5  \\\n",
       "0             8     6     ...                8         9             8     6   \n",
       "1             3    10     ...                8         4             9     7   \n",
       "2             5     9     ...                5         6             5     4   \n",
       "3             1     9     ...                5         1             1     7   \n",
       "4             6     6     ...                6         7             7     7   \n",
       "\n",
       "   Ambitious5  Attractive3  Sincere3  Intelligent3  Fun3  Ambitious3  \n",
       "0           7            8         7             7     6           8  \n",
       "1           6            9         5             9     8           7  \n",
       "2           3            6         8             5     5           6  \n",
       "3           2            5        10             5    10           1  \n",
       "4           7            7         9             7     7           6  \n",
       "\n",
       "[5 rows x 22 columns]"
      ]
     },
     "execution_count": 5,
     "metadata": {},
     "output_type": "execute_result"
    }
   ],
   "source": [
    "df_demo = pd.read_csv(\"../data/Speed Dating Survey.csv\")\n",
    "print(df_demo.shape)\n",
    "df_demo.head()"
   ]
  },
  {
   "cell_type": "code",
   "execution_count": 9,
   "metadata": {},
   "outputs": [
    {
     "data": {
      "text/plain": [
       "array(['?TIMESTAMP', 'name', 'sex', 'age',\n",
       "       'How frequently do you go on dates? ',\n",
       "       'How often do you go out (not necessarily on dates)?',\n",
       "       'Attractive1', 'Sincere1', 'Intelligent1', 'Fun1', 'Ambitious1',\n",
       "       'Shared1', 'Attractive5', 'Sincere5', 'Intelligent5', 'Fun5',\n",
       "       'Ambitious5', 'Attractive3', 'Sincere3', 'Intelligent3', 'Fun3',\n",
       "       'Ambitious3'], dtype=object)"
      ]
     },
     "execution_count": 9,
     "metadata": {},
     "output_type": "execute_result"
    }
   ],
   "source": [
    "df_demo.columns.values"
   ]
  },
  {
   "cell_type": "markdown",
   "metadata": {},
   "source": [
    "### data preprocessing"
   ]
  },
  {
   "cell_type": "code",
   "execution_count": 13,
   "metadata": {},
   "outputs": [
    {
     "data": {
      "text/plain": [
       "array(['?TIMESTAMP', 'name', 'sex', 'age', 'date', 'go_out', 'attr1_1',\n",
       "       'sinc1_1', 'intel1_1', 'fun1_1', 'amb1_1', 'shar1_1', 'attr5_1',\n",
       "       'sinc5_1', 'intel5_1', 'fun5_1', 'amb5_1', 'attr3_1', 'sinc3_1',\n",
       "       'intel3_1', 'fun3_1', 'amb3_1'], dtype=object)"
      ]
     },
     "execution_count": 13,
     "metadata": {},
     "output_type": "execute_result"
    }
   ],
   "source": [
    "# Firstly, Let's rename of each columns.\n",
    "df_demo.rename(\n",
    "    columns = {\n",
    "        'How frequently do you go on dates? ' : 'date',\n",
    "        'How often do you go out (not necessarily on dates)?' : 'go_out',\n",
    "        # about attrX_1 : \n",
    "        'Attractive1' : 'attr1_1',\n",
    "        'Sincere1' : 'sinc1_1',\n",
    "        'Intelligent1' : 'intel1_1',\n",
    "        'Fun1' : 'fun1_1',\n",
    "        'Ambitious1' : 'amb1_1',\n",
    "        'Shared1' : 'shar1_1',\n",
    "\n",
    "        # about attrX_3\n",
    "        'Attractive3' : 'attr3_1',\n",
    "        'Sincere3' : 'sinc3_1',\n",
    "        'Intelligent3' : 'intel3_1',\n",
    "        'Fun3' : 'fun3_1',\n",
    "        'Ambitious3' : 'amb3_1',\n",
    "\n",
    "        # about attrX_5\n",
    "        'Attractive5' : 'attr5_1',\n",
    "        'Sincere5' : 'sinc5_1',\n",
    "        'Intelligent5' : 'intel5_1',\n",
    "        'Fun5' : 'fun5_1',\n",
    "        'Ambitious5' : 'amb5_1'\n",
    "}, inplace=True, )\n",
    "\n",
    "df_demo = df_demo = \n",
    "df_male_demo = df_demo[df_demo['sex'] == '남자']\n",
    "df_female_demo = df_demo[df_demo['sex'] == '여자']"
   ]
  },
  {
   "cell_type": "code",
   "execution_count": 33,
   "metadata": {},
   "outputs": [
    {
     "name": "stdout",
     "output_type": "stream",
     "text": [
      "이수연\n",
      "Making ...\n",
      "\n",
      "success.\n",
      "\n",
      "(9, 12)\n"
     ]
    },
    {
     "data": {
      "text/html": [
       "<div>\n",
       "<style scoped>\n",
       "    .dataframe tbody tr th:only-of-type {\n",
       "        vertical-align: middle;\n",
       "    }\n",
       "\n",
       "    .dataframe tbody tr th {\n",
       "        vertical-align: top;\n",
       "    }\n",
       "\n",
       "    .dataframe thead th {\n",
       "        text-align: right;\n",
       "    }\n",
       "</style>\n",
       "<table border=\"1\" class=\"dataframe\">\n",
       "  <thead>\n",
       "    <tr style=\"text-align: right;\">\n",
       "      <th></th>\n",
       "      <th>attr3_1</th>\n",
       "      <th>sinc3_1</th>\n",
       "      <th>intel3_1</th>\n",
       "      <th>fun3_1</th>\n",
       "      <th>amb3_1</th>\n",
       "      <th>attr3_1_o</th>\n",
       "      <th>sinc3_1_o</th>\n",
       "      <th>fun3_1_o</th>\n",
       "      <th>intel3_1_o</th>\n",
       "      <th>amb3_1_o</th>\n",
       "      <th>age</th>\n",
       "      <th>age_o</th>\n",
       "    </tr>\n",
       "  </thead>\n",
       "  <tbody>\n",
       "    <tr>\n",
       "      <th>0</th>\n",
       "      <td>7</td>\n",
       "      <td>10</td>\n",
       "      <td>10</td>\n",
       "      <td>5</td>\n",
       "      <td>10</td>\n",
       "      <td>8</td>\n",
       "      <td>7</td>\n",
       "      <td>6</td>\n",
       "      <td>7</td>\n",
       "      <td>8</td>\n",
       "      <td>23</td>\n",
       "      <td>26</td>\n",
       "    </tr>\n",
       "    <tr>\n",
       "      <th>1</th>\n",
       "      <td>7</td>\n",
       "      <td>10</td>\n",
       "      <td>10</td>\n",
       "      <td>5</td>\n",
       "      <td>10</td>\n",
       "      <td>7</td>\n",
       "      <td>9</td>\n",
       "      <td>7</td>\n",
       "      <td>7</td>\n",
       "      <td>6</td>\n",
       "      <td>23</td>\n",
       "      <td>26</td>\n",
       "    </tr>\n",
       "    <tr>\n",
       "      <th>2</th>\n",
       "      <td>7</td>\n",
       "      <td>10</td>\n",
       "      <td>10</td>\n",
       "      <td>5</td>\n",
       "      <td>10</td>\n",
       "      <td>8</td>\n",
       "      <td>9</td>\n",
       "      <td>6</td>\n",
       "      <td>7</td>\n",
       "      <td>9</td>\n",
       "      <td>23</td>\n",
       "      <td>27</td>\n",
       "    </tr>\n",
       "    <tr>\n",
       "      <th>3</th>\n",
       "      <td>7</td>\n",
       "      <td>10</td>\n",
       "      <td>10</td>\n",
       "      <td>5</td>\n",
       "      <td>10</td>\n",
       "      <td>5</td>\n",
       "      <td>8</td>\n",
       "      <td>7</td>\n",
       "      <td>8</td>\n",
       "      <td>10</td>\n",
       "      <td>23</td>\n",
       "      <td>28</td>\n",
       "    </tr>\n",
       "    <tr>\n",
       "      <th>4</th>\n",
       "      <td>7</td>\n",
       "      <td>10</td>\n",
       "      <td>10</td>\n",
       "      <td>5</td>\n",
       "      <td>10</td>\n",
       "      <td>7</td>\n",
       "      <td>8</td>\n",
       "      <td>6</td>\n",
       "      <td>7</td>\n",
       "      <td>7</td>\n",
       "      <td>23</td>\n",
       "      <td>26</td>\n",
       "    </tr>\n",
       "  </tbody>\n",
       "</table>\n",
       "</div>"
      ],
      "text/plain": [
       "  attr3_1 sinc3_1 intel3_1 fun3_1 amb3_1 attr3_1_o sinc3_1_o fun3_1_o  \\\n",
       "0       7      10       10      5     10         8         7        6   \n",
       "1       7      10       10      5     10         7         9        7   \n",
       "2       7      10       10      5     10         8         9        6   \n",
       "3       7      10       10      5     10         5         8        7   \n",
       "4       7      10       10      5     10         7         8        6   \n",
       "\n",
       "  intel3_1_o amb3_1_o age age_o  \n",
       "0          7        8  23    26  \n",
       "1          7        6  23    26  \n",
       "2          7        9  23    27  \n",
       "3          8       10  23    28  \n",
       "4          7        7  23    26  "
      ]
     },
     "execution_count": 33,
     "metadata": {},
     "output_type": "execute_result"
    }
   ],
   "source": [
    "# Let's choose a participant who is iid is 0. She is a female participant.\n",
    "participant = df_female_demo.iloc[5]\n",
    "print( participant.loc['name'] )\n",
    "\n",
    "# Extract only features we need.\n",
    "cols = ['age', 'attr3_1', 'sinc3_1', 'fun3_1', 'intel3_1', 'amb3_1']\n",
    "participant = participant.loc[cols]\n",
    "participant_values = list( participant.values )\n",
    "\n",
    "# Let's make dataframe for the participant. (empty yet)\n",
    "df_input = pd.DataFrame( data = None, columns = cols + ['age_o', 'attr3_1_o', 'sinc3_1_o', 'fun3_1_o', 'intel3_1_o',  'amb3_1_o'] )\n",
    "index = 0\n",
    "\n",
    "# Let's fill each rows of dataframe.\n",
    "print(\"Making ...\")\n",
    "\n",
    "for m_index, m_row in df_male_demo.iterrows() :\n",
    "    values = participant_values + list(m_row.loc[cols].values)\n",
    "            \n",
    "    df_input.loc[index] = values\n",
    "    index += 1\n",
    "    \n",
    "    # Print current progress at each 100 row.\n",
    "    if index % 100 == 0 :\n",
    "        print(index, end = \" \")\n",
    "       \n",
    "print()\n",
    "print(\"success.\\n\")\n",
    "\n",
    "# We need to fix above dataframe for order of X.\n",
    "X = ['attr3_1', 'sinc3_1', 'intel3_1', 'fun3_1', 'amb3_1',\n",
    "   'attr3_1_o', 'sinc3_1_o', 'fun3_1_o', 'intel3_1_o',  'amb3_1_o',\n",
    "   'age','age_o'\n",
    "  ]\n",
    "df_input = df_input[X]\n",
    "\n",
    "print(df_input.shape)\n",
    "df_input.head()"
   ]
  },
  {
   "cell_type": "markdown",
   "metadata": {},
   "source": [
    "Next, Let's input above dataframe into our model."
   ]
  },
  {
   "cell_type": "code",
   "execution_count": 34,
   "metadata": {},
   "outputs": [
    {
     "data": {
      "text/html": [
       "<div>\n",
       "<style scoped>\n",
       "    .dataframe tbody tr th:only-of-type {\n",
       "        vertical-align: middle;\n",
       "    }\n",
       "\n",
       "    .dataframe tbody tr th {\n",
       "        vertical-align: top;\n",
       "    }\n",
       "\n",
       "    .dataframe thead th {\n",
       "        text-align: right;\n",
       "    }\n",
       "</style>\n",
       "<table border=\"1\" class=\"dataframe\">\n",
       "  <thead>\n",
       "    <tr style=\"text-align: right;\">\n",
       "      <th></th>\n",
       "      <th>name</th>\n",
       "      <th>attr3_1</th>\n",
       "      <th>sinc3_1</th>\n",
       "      <th>fun3_1</th>\n",
       "      <th>intel3_1</th>\n",
       "      <th>amb3_1</th>\n",
       "      <th>dec_prediction</th>\n",
       "    </tr>\n",
       "  </thead>\n",
       "  <tbody>\n",
       "    <tr>\n",
       "      <th>0</th>\n",
       "      <td>한규수</td>\n",
       "      <td>8</td>\n",
       "      <td>7</td>\n",
       "      <td>6</td>\n",
       "      <td>7</td>\n",
       "      <td>8</td>\n",
       "      <td>1.0</td>\n",
       "    </tr>\n",
       "    <tr>\n",
       "      <th>4</th>\n",
       "      <td>박승우</td>\n",
       "      <td>7</td>\n",
       "      <td>9</td>\n",
       "      <td>7</td>\n",
       "      <td>7</td>\n",
       "      <td>6</td>\n",
       "      <td>1.0</td>\n",
       "    </tr>\n",
       "    <tr>\n",
       "      <th>6</th>\n",
       "      <td>이겨레</td>\n",
       "      <td>8</td>\n",
       "      <td>9</td>\n",
       "      <td>6</td>\n",
       "      <td>7</td>\n",
       "      <td>9</td>\n",
       "      <td>1.0</td>\n",
       "    </tr>\n",
       "    <tr>\n",
       "      <th>8</th>\n",
       "      <td>박상영</td>\n",
       "      <td>7</td>\n",
       "      <td>8</td>\n",
       "      <td>6</td>\n",
       "      <td>7</td>\n",
       "      <td>7</td>\n",
       "      <td>1.0</td>\n",
       "    </tr>\n",
       "    <tr>\n",
       "      <th>10</th>\n",
       "      <td>전시흠</td>\n",
       "      <td>5</td>\n",
       "      <td>4</td>\n",
       "      <td>6</td>\n",
       "      <td>4</td>\n",
       "      <td>7</td>\n",
       "      <td>1.0</td>\n",
       "    </tr>\n",
       "    <tr>\n",
       "      <th>11</th>\n",
       "      <td>최종민</td>\n",
       "      <td>6</td>\n",
       "      <td>8</td>\n",
       "      <td>4</td>\n",
       "      <td>9</td>\n",
       "      <td>5</td>\n",
       "      <td>1.0</td>\n",
       "    </tr>\n",
       "    <tr>\n",
       "      <th>12</th>\n",
       "      <td>이태승</td>\n",
       "      <td>3</td>\n",
       "      <td>9</td>\n",
       "      <td>1</td>\n",
       "      <td>6</td>\n",
       "      <td>9</td>\n",
       "      <td>1.0</td>\n",
       "    </tr>\n",
       "    <tr>\n",
       "      <th>7</th>\n",
       "      <td>서강현</td>\n",
       "      <td>5</td>\n",
       "      <td>8</td>\n",
       "      <td>7</td>\n",
       "      <td>8</td>\n",
       "      <td>10</td>\n",
       "      <td>0.0</td>\n",
       "    </tr>\n",
       "    <tr>\n",
       "      <th>13</th>\n",
       "      <td>최건영</td>\n",
       "      <td>7</td>\n",
       "      <td>8</td>\n",
       "      <td>5</td>\n",
       "      <td>8</td>\n",
       "      <td>5</td>\n",
       "      <td>0.0</td>\n",
       "    </tr>\n",
       "  </tbody>\n",
       "</table>\n",
       "</div>"
      ],
      "text/plain": [
       "   name  attr3_1  sinc3_1  fun3_1  intel3_1  amb3_1  dec_prediction\n",
       "0   한규수        8        7       6         7       8             1.0\n",
       "4   박승우        7        9       7         7       6             1.0\n",
       "6   이겨레        8        9       6         7       9             1.0\n",
       "8   박상영        7        8       6         7       7             1.0\n",
       "10  전시흠        5        4       6         4       7             1.0\n",
       "11  최종민        6        8       4         9       5             1.0\n",
       "12  이태승        3        9       1         6       9             1.0\n",
       "7   서강현        5        8       7         8      10             0.0\n",
       "13  최건영        7        8       5         8       5             0.0"
      ]
     },
     "execution_count": 34,
     "metadata": {},
     "output_type": "execute_result"
    }
   ],
   "source": [
    "# Input dataframe into our model.\n",
    "prediction = clf.predict_proba(df_input)\n",
    "\n",
    "# Let's make result dataframe and add column including 'prediction'\n",
    "dec_prediciton = []\n",
    "for i in prediction :\n",
    "    dec_prediciton.append(i[0])\n",
    "cols = ['name', 'attr3_1', 'sinc3_1', 'fun3_1', 'intel3_1', 'amb3_1']\n",
    "df_result = df_male_demo.loc[:, cols]\n",
    "df_result['dec_prediction'] = dec_prediciton\n",
    "\n",
    "# Sort by prediction value.\n",
    "df_result.sort_values(by = ['dec_prediction'], inplace = True, ascending= False )\n",
    "df_result"
   ]
  },
  {
   "cell_type": "markdown",
   "metadata": {},
   "source": [
    "Above result show that males who will decide to meet the participant again.  \n",
    "Finally, Let's see the distribtion of dec_prediction."
   ]
  },
  {
   "cell_type": "code",
   "execution_count": 32,
   "metadata": {},
   "outputs": [
    {
     "data": {
      "image/png": "[encoded data removed]",
      "text/plain": [
       "<matplotlib.figure.Figure at 0x20414eadeb8>"
      ]
     },
     "metadata": {},
     "output_type": "display_data"
    }
   ],
   "source": [
    "flg = sns.distplot(df_result['dec_prediction'], hist=True, kde=False)\n",
    "# fig."
   ]
  },
  {
   "cell_type": "markdown",
   "metadata": {},
   "source": [
    "### Random Forest"
   ]
  },
  {
   "cell_type": "code",
   "execution_count": 69,
   "metadata": {},
   "outputs": [
    {
     "name": "stderr",
     "output_type": "stream",
     "text": [
      "C:\\Users\\Jeon\\Anaconda3\\lib\\site-packages\\ipykernel_launcher.py:4: DataConversionWarning: A column-vector y was passed when a 1d array was expected. Please change the shape of y to (n_samples,), for example using ravel().\n",
      "  after removing the cwd from sys.path.\n"
     ]
    },
    {
     "name": "stdout",
     "output_type": "stream",
     "text": [
      "The accuracy of the Random Forest is 0.9169960474308301\n",
      "AUC in ROC curve is :  0.8923114293559766\n"
     ]
    },
    {
     "data": {
      "image/png": "[encoded data removed]",
      "text/plain": [
       "<matplotlib.figure.Figure at 0x22d78034358>"
      ]
     },
     "metadata": {},
     "output_type": "display_data"
    }
   ],
   "source": [
    "from sklearn.ensemble import RandomForestClassifier\n",
    "\n",
    "clf = RandomForestClassifier()\n",
    "clf.fit(features_one, target)\n",
    "rf_prediction = clf.predict(test_X)\n",
    "\n",
    "accuracy = metrics.accuracy_score(rf_prediction, test_Y)\n",
    "print('The accuracy of the Random Forest is', accuracy)\n",
    "\n",
    "# print AUC\n",
    "auc = metrics.roc_auc_score(test_Y, rf_prediction)\n",
    "print(\"AUC in ROC curve is : \", auc)\n",
    "\n",
    "fig, axs = plt.subplots(ncols = 2)\n",
    "fig.set_size_inches(w = 20, h = 5)\n",
    "\n",
    "# # draw distribution graph\n",
    "axs[0].set_title(\"distribtion on dec_o\")\n",
    "sns.distplot(rf_prediction, kde = False, label=\"prediction\", color='red', ax=axs[0])\n",
    "sns.distplot(test_Y, kde = False, label=\"actual value\", color='blue', ax=axs[0],)\n",
    "axs[0].legend()\n",
    "\n",
    "# draw ROC curve\n",
    "fpr, tpr, threshold = metrics.roc_curve(test_Y, rf_prediction)\n",
    "plt.plot(fpr, tpr)\n",
    "plt.title(\"ROC curve\")\n",
    "plt.show() "
   ]
  },
  {
   "cell_type": "markdown",
   "metadata": {},
   "source": [
    "### SVM - linear"
   ]
  },
  {
   "cell_type": "code",
   "execution_count": 46,
   "metadata": {},
   "outputs": [
    {
     "name": "stderr",
     "output_type": "stream",
     "text": [
      "C:\\Users\\Jeon\\Anaconda3\\lib\\site-packages\\sklearn\\utils\\validation.py:578: DataConversionWarning: A column-vector y was passed when a 1d array was expected. Please change the shape of y to (n_samples, ), for example using ravel().\n",
      "  y = column_or_1d(y, warn=True)\n"
     ]
    },
    {
     "name": "stdout",
     "output_type": "stream",
     "text": [
      "The accuracy of the SVM_linear is 0.6373517786561265\n",
      "AUC in ROC curve is :  0.5\n"
     ]
    },
    {
     "data": {
      "image/png": "[encoded data removed]",
      "text/plain": [
       "<matplotlib.figure.Figure at 0x22d77e99fd0>"
      ]
     },
     "metadata": {},
     "output_type": "display_data"
    }
   ],
   "source": [
    "from sklearn import svm\n",
    "clf = svm.SVC(kernel='linear')\n",
    "clf.fit(features_one, target)\n",
    "\n",
    "accuracy = clf.score(test_X, test_Y)\n",
    "\n",
    "print('The accuracy of the SVM_linear is', accuracy)\n",
    "\n",
    "svm_prediction = clf.predict(test_X)\n",
    "\n",
    "# print AUC\n",
    "auc = metrics.roc_auc_score(test_Y, svm_prediction)\n",
    "print(\"AUC in ROC curve is : \", auc)\n",
    "\n",
    "fig, axs = plt.subplots(ncols = 2)\n",
    "fig.set_size_inches(w = 20, h = 5)\n",
    "\n",
    "# # draw distribution graph\n",
    "axs[0].set_title(\"distribtion on dec_o\")\n",
    "sns.distplot(svm_prediction, kde = False, label=\"prediction\", color='red', ax=axs[0])\n",
    "sns.distplot(test_Y, kde = False, label=\"actual value\", color='blue', ax=axs[0],)\n",
    "axs[0].legend()\n",
    "\n",
    "# draw ROC curve\n",
    "fpr, tpr, threshold = metrics.roc_curve(test_Y, svm_prediction)\n",
    "plt.plot(fpr, tpr)\n",
    "plt.title(\"ROC curve\")\n",
    "plt.show() "
   ]
  },
  {
   "cell_type": "markdown",
   "metadata": {},
   "source": [
    "### SVM - rbf"
   ]
  },
  {
   "cell_type": "code",
   "execution_count": 16,
   "metadata": {},
   "outputs": [
    {
     "name": "stderr",
     "output_type": "stream",
     "text": [
      "C:\\Users\\Jeon\\Anaconda3\\lib\\site-packages\\sklearn\\utils\\validation.py:578: DataConversionWarning: A column-vector y was passed when a 1d array was expected. Please change the shape of y to (n_samples, ), for example using ravel().\n",
      "  y = column_or_1d(y, warn=True)\n"
     ]
    },
    {
     "name": "stdout",
     "output_type": "stream",
     "text": [
      "The accuracy of the SVM_rbf is 0.7544466403162056\n",
      "AUC in ROC curve is :  0.6875747206556407\n"
     ]
    },
    {
     "data": {
      "image/png": "[encoded data removed]",
      "text/plain": [
       "<matplotlib.figure.Figure at 0x22d7865abe0>"
      ]
     },
     "metadata": {},
     "output_type": "display_data"
    }
   ],
   "source": [
    "from sklearn import svm\n",
    "clf = svm.SVC(kernel='rbf')\n",
    "clf.fit(features_one, target)\n",
    "\n",
    "accuracy = clf.score(test_X, test_Y)\n",
    "\n",
    "print('The accuracy of the SVM_rbf is', accuracy)\n",
    "\n",
    "svmrf_prediction = clf.predict(test_X)\n",
    "\n",
    "# print AUC\n",
    "auc = metrics.roc_auc_score(test_Y, svmrf_prediction)\n",
    "print(\"AUC in ROC curve is : \", auc)\n",
    "\n",
    "fig, axs = plt.subplots(ncols = 2)\n",
    "fig.set_size_inches(w = 20, h = 5)\n",
    "\n",
    "# # draw distribution graph\n",
    "axs[0].set_title(\"distribtion on dec_o\")\n",
    "sns.distplot(svmrf_prediction, kde = False, label=\"prediction\", color='red', ax=axs[0])\n",
    "sns.distplot(test_Y, kde = False, label=\"actual value\", color='blue', ax=axs[0],)\n",
    "axs[0].legend()\n",
    "\n",
    "# draw ROC curve\n",
    "fpr, tpr, threshold = metrics.roc_curve(test_Y, svmrf_prediction)\n",
    "plt.plot(fpr, tpr)\n",
    "plt.title(\"ROC curve\")\n",
    "plt.show() "
   ]
  },
  {
   "cell_type": "markdown",
   "metadata": {},
   "source": [
    "### KNN"
   ]
  },
  {
   "cell_type": "code",
   "execution_count": 48,
   "metadata": {},
   "outputs": [
    {
     "name": "stderr",
     "output_type": "stream",
     "text": [
      "C:\\Users\\Jeon\\Anaconda3\\lib\\site-packages\\ipykernel_launcher.py:4: DataConversionWarning: A column-vector y was passed when a 1d array was expected. Please change the shape of y to (n_samples, ), for example using ravel().\n",
      "  after removing the cwd from sys.path.\n"
     ]
    },
    {
     "name": "stdout",
     "output_type": "stream",
     "text": [
      "The accuracy of the KNN is 0.741600790513834\n",
      "AUC in ROC curve is :  0.6959941279597828\n"
     ]
    },
    {
     "data": {
      "image/png": "[encoded data removed]",
      "text/plain": [
       "<matplotlib.figure.Figure at 0x22d77bff978>"
      ]
     },
     "metadata": {},
     "output_type": "display_data"
    }
   ],
   "source": [
    "from sklearn import neighbors\n",
    "\n",
    "clf = neighbors.KNeighborsClassifier()\n",
    "clf.fit(train_X, train_Y)\n",
    "knn_prediction = clf.predict(test_X)\n",
    "\n",
    "accuracy = clf.score(test_X, test_Y)\n",
    "\n",
    "print('The accuracy of the KNN is', accuracy)\n",
    "\n",
    "# print AUC\n",
    "auc = metrics.roc_auc_score(test_Y, knn_prediction)\n",
    "print(\"AUC in ROC curve is : \", auc)\n",
    "\n",
    "fig, axs = plt.subplots(ncols = 2)\n",
    "fig.set_size_inches(w = 20, h = 5)\n",
    "\n",
    "# # draw distribution graph\n",
    "axs[0].set_title(\"distribtion on dec_o\")\n",
    "sns.distplot(knn_prediction, kde = False, label=\"prediction\", color='red', ax=axs[0])\n",
    "sns.distplot(test_Y, kde = False, label=\"actual value\", color='blue', ax=axs[0],)\n",
    "axs[0].legend()\n",
    "\n",
    "# draw ROC curve\n",
    "fpr, tpr, threshold = metrics.roc_curve(test_Y, knn_prediction)\n",
    "plt.plot(fpr, tpr)\n",
    "plt.title(\"ROC curve\")\n",
    "plt.show() "
   ]
  }
 ],
 "metadata": {
  "kernelspec": {
   "display_name": "Python 3",
   "language": "python",
   "name": "python3"
  },
  "language_info": {
   "codemirror_mode": {
    "name": "ipython",
    "version": 3
   },
   "file_extension": ".py",
   "mimetype": "text/x-python",
   "name": "python",
   "nbconvert_exporter": "python",
   "pygments_lexer": "ipython3",
   "version": "3.6.4"
  }
 },
 "nbformat": 4,
 "nbformat_minor": 2
}
