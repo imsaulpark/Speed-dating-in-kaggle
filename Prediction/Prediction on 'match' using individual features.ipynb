{
 "cells": [
  {
   "cell_type": "markdown",
   "metadata": {},
   "source": [
    "# Data Preprocessing"
   ]
  },
  {
   "cell_type": "code",
   "execution_count": 10,
   "metadata": {},
   "outputs": [
    {
     "data": {
      "text/plain": [
       "(8378, 195)"
      ]
     },
     "execution_count": 10,
     "metadata": {},
     "output_type": "execute_result"
    }
   ],
   "source": [
    "import pandas as pd\n",
    "import numpy as np\n",
    "import matplotlib.pyplot as plt\n",
    "import seaborn as sns\n",
    "\n",
    "df_data = pd.read_csv(\"data/Speed Dating Data.csv\")\n",
    "df_data.shape"
   ]
  },
  {
   "cell_type": "code",
   "execution_count": 11,
   "metadata": {
    "scrolled": true
   },
   "outputs": [
    {
     "data": {
      "text/html": [
       "<div>\n",
       "<style scoped>\n",
       "    .dataframe tbody tr th:only-of-type {\n",
       "        vertical-align: middle;\n",
       "    }\n",
       "\n",
       "    .dataframe tbody tr th {\n",
       "        vertical-align: top;\n",
       "    }\n",
       "\n",
       "    .dataframe thead th {\n",
       "        text-align: right;\n",
       "    }\n",
       "</style>\n",
       "<table border=\"1\" class=\"dataframe\">\n",
       "  <thead>\n",
       "    <tr style=\"text-align: right;\">\n",
       "      <th></th>\n",
       "      <th>iid</th>\n",
       "      <th>pid</th>\n",
       "      <th>match</th>\n",
       "      <th>gender</th>\n",
       "      <th>age</th>\n",
       "      <th>race</th>\n",
       "      <th>field_cd</th>\n",
       "      <th>date</th>\n",
       "      <th>go_out</th>\n",
       "      <th>age_o</th>\n",
       "      <th>race_o</th>\n",
       "      <th>field_cd_o</th>\n",
       "      <th>date_o</th>\n",
       "      <th>go_out_o</th>\n",
       "    </tr>\n",
       "  </thead>\n",
       "  <tbody>\n",
       "    <tr>\n",
       "      <th>0</th>\n",
       "      <td>11.0</td>\n",
       "      <td>1.0</td>\n",
       "      <td>0.0</td>\n",
       "      <td>1.0</td>\n",
       "      <td>27.0</td>\n",
       "      <td>2.0</td>\n",
       "      <td>8.0</td>\n",
       "      <td>5.0</td>\n",
       "      <td>4.0</td>\n",
       "      <td>21.0</td>\n",
       "      <td>4.0</td>\n",
       "      <td>1.0</td>\n",
       "      <td>7.0</td>\n",
       "      <td>1.0</td>\n",
       "    </tr>\n",
       "    <tr>\n",
       "      <th>1</th>\n",
       "      <td>11.0</td>\n",
       "      <td>2.0</td>\n",
       "      <td>0.0</td>\n",
       "      <td>1.0</td>\n",
       "      <td>27.0</td>\n",
       "      <td>2.0</td>\n",
       "      <td>8.0</td>\n",
       "      <td>5.0</td>\n",
       "      <td>4.0</td>\n",
       "      <td>24.0</td>\n",
       "      <td>2.0</td>\n",
       "      <td>1.0</td>\n",
       "      <td>5.0</td>\n",
       "      <td>1.0</td>\n",
       "    </tr>\n",
       "    <tr>\n",
       "      <th>2</th>\n",
       "      <td>11.0</td>\n",
       "      <td>3.0</td>\n",
       "      <td>0.0</td>\n",
       "      <td>1.0</td>\n",
       "      <td>27.0</td>\n",
       "      <td>2.0</td>\n",
       "      <td>8.0</td>\n",
       "      <td>5.0</td>\n",
       "      <td>4.0</td>\n",
       "      <td>25.0</td>\n",
       "      <td>2.0</td>\n",
       "      <td>2.0</td>\n",
       "      <td>3.0</td>\n",
       "      <td>1.0</td>\n",
       "    </tr>\n",
       "    <tr>\n",
       "      <th>3</th>\n",
       "      <td>11.0</td>\n",
       "      <td>4.0</td>\n",
       "      <td>0.0</td>\n",
       "      <td>1.0</td>\n",
       "      <td>27.0</td>\n",
       "      <td>2.0</td>\n",
       "      <td>8.0</td>\n",
       "      <td>5.0</td>\n",
       "      <td>4.0</td>\n",
       "      <td>23.0</td>\n",
       "      <td>2.0</td>\n",
       "      <td>1.0</td>\n",
       "      <td>5.0</td>\n",
       "      <td>1.0</td>\n",
       "    </tr>\n",
       "    <tr>\n",
       "      <th>4</th>\n",
       "      <td>11.0</td>\n",
       "      <td>5.0</td>\n",
       "      <td>0.0</td>\n",
       "      <td>1.0</td>\n",
       "      <td>27.0</td>\n",
       "      <td>2.0</td>\n",
       "      <td>8.0</td>\n",
       "      <td>5.0</td>\n",
       "      <td>4.0</td>\n",
       "      <td>21.0</td>\n",
       "      <td>2.0</td>\n",
       "      <td>1.0</td>\n",
       "      <td>4.0</td>\n",
       "      <td>1.0</td>\n",
       "    </tr>\n",
       "  </tbody>\n",
       "</table>\n",
       "</div>"
      ],
      "text/plain": [
       "    iid  pid  match  gender   age  race  field_cd  date  go_out  age_o  \\\n",
       "0  11.0  1.0    0.0     1.0  27.0   2.0       8.0   5.0     4.0   21.0   \n",
       "1  11.0  2.0    0.0     1.0  27.0   2.0       8.0   5.0     4.0   24.0   \n",
       "2  11.0  3.0    0.0     1.0  27.0   2.0       8.0   5.0     4.0   25.0   \n",
       "3  11.0  4.0    0.0     1.0  27.0   2.0       8.0   5.0     4.0   23.0   \n",
       "4  11.0  5.0    0.0     1.0  27.0   2.0       8.0   5.0     4.0   21.0   \n",
       "\n",
       "   race_o  field_cd_o  date_o  go_out_o  \n",
       "0     4.0         1.0     7.0       1.0  \n",
       "1     2.0         1.0     5.0       1.0  \n",
       "2     2.0         2.0     3.0       1.0  \n",
       "3     2.0         1.0     5.0       1.0  \n",
       "4     2.0         1.0     4.0       1.0  "
      ]
     },
     "execution_count": 11,
     "metadata": {},
     "output_type": "execute_result"
    }
   ],
   "source": [
    "cols = ['iid',  'pid', 'match','gender',\n",
    "        'age', 'race', 'field_cd', 'date', 'go_out', 'age_o', 'race_o']\n",
    "\n",
    "df_selected = df_data.loc[:, cols]\n",
    "\n",
    "# Separate dataframe into male and female.\n",
    "df_male = df_selected.loc[ df_selected['gender'] == 1 ]\n",
    "df_female = df_selected.loc[ df_selected['gender'] == 0 ]\n",
    "\n",
    "# Select columns we want from female's dataframe.\n",
    "attr3 = ['iid', 'field_cd', 'date', 'go_out']\n",
    "df_female = df_female.loc[:, attr3]\n",
    "\n",
    "# Drop duplicated Index from female's dataframe.\n",
    "df_female.drop_duplicates('iid', inplace=True)\n",
    "\n",
    "# Let's make dataframe for matching. (empty yet)\n",
    "df_match = pd.DataFrame( data = None, columns = cols + ['field_cd_o', 'date_o', 'go_out_o'] )\n",
    "index = 0\n",
    "\n",
    "# Let's fill each rows of dataframe for matching.\n",
    "for m_index, m_row in df_male.iterrows() :\n",
    "    pid = m_row['pid']\n",
    "    \n",
    "#     Find partner id in female group corresponding to each row.\n",
    "    for f_index, f_row in df_female.iterrows() :\n",
    "        if pid == f_row['iid'] :\n",
    "            \n",
    "#           Extract values from each row of dataframes.\n",
    "            values = list(m_row.values) + list(f_row.values[1:])\n",
    "    \n",
    "#           Fill a row of match dataframe\n",
    "            df_match.loc[index] = values\n",
    "            index += 1\n",
    "            \n",
    "            break\n",
    "    \n",
    "df_match.head()"
   ]
  },
  {
   "cell_type": "code",
   "execution_count": 12,
   "metadata": {},
   "outputs": [],
   "source": [
    "from sklearn.utils import shuffle\n",
    "\n",
    "cols = ['iid',  'pid', 'match','gender',\n",
    "        'age', 'race', 'field_cd', 'date', 'go_out', 'age_o', 'race_o', 'field_cd_o', 'date_o', 'go_out_o']\n",
    "\n",
    "new_data=df_match.dropna(subset=cols)\n",
    "new_data = shuffle(new_data)"
   ]
  },
  {
   "cell_type": "markdown",
   "metadata": {},
   "source": [
    "# Data Separation\n",
    "we are using K-fold."
   ]
  },
  {
   "cell_type": "code",
   "execution_count": 13,
   "metadata": {},
   "outputs": [],
   "source": [
    "from sklearn.model_selection import KFold\n",
    "from sklearn.model_selection import cross_val_score\n",
    "from sklearn.model_selection import train_test_split\n",
    "\n",
    "X = ['age', 'race', 'field_cd', 'date', 'go_out', 'age_o', 'race_o', 'field_cd_o', 'date_o', 'go_out_o']\n",
    "Y = ['match']\n",
    "\n",
    "train_1, test_1 = train_test_split(new_data, test_size=0.2,random_state=0)\n",
    "\n",
    "data_X = train_1[X]\n",
    "data_Y = train_1[Y]\n",
    "    \n",
    "test_X = test_1[X]\n",
    "test_Y = test_1[Y]\n",
    "\n",
    "kf = KFold(n_splits=4, random_state=1)"
   ]
  },
  {
   "cell_type": "markdown",
   "metadata": {},
   "source": [
    "# Learning"
   ]
  },
  {
   "cell_type": "markdown",
   "metadata": {},
   "source": [
    "### Decsion Tree"
   ]
  },
  {
   "cell_type": "code",
   "execution_count": 14,
   "metadata": {},
   "outputs": [
    {
     "name": "stdout",
     "output_type": "stream",
     "text": [
      "0.7116336633663366\n"
     ]
    },
    {
     "data": {
      "text/plain": [
       "<matplotlib.axes._subplots.AxesSubplot at 0x27e8009f198>"
      ]
     },
     "execution_count": 14,
     "metadata": {},
     "output_type": "execute_result"
    },
    {
     "data": {
      "image/png": "[encoded data removed]",
      "text/plain": [
       "<matplotlib.figure.Figure at 0x27e800e1438>"
      ]
     },
     "metadata": {},
     "output_type": "display_data"
    }
   ],
   "source": [
    "from sklearn.tree import DecisionTreeClassifier\n",
    "from sklearn import metrics\n",
    "\n",
    "model=DecisionTreeClassifier()\n",
    "\n",
    "for i, (train, test) in enumerate(kf.split(train_1)):\n",
    "    #print(test)\n",
    "    train_data_X = np.array(data_X)[train]\n",
    "    #print(train_data_X)\n",
    "    train_data_Y = np.array(data_Y)[train]\n",
    "    test_data_X = np.array(data_X)[test]\n",
    "    test_data_Y = np.array(data_Y)[test]\n",
    "    model.fit(train_data_X, train_data_Y)\n",
    "    \n",
    "prediction = model.predict(test_X)\n",
    "print(metrics.accuracy_score(prediction, test_Y))\n",
    "\n",
    "# comparison visualzaition\n",
    "sns.distplot(prediction, hist = True, kde = False, label=\"prediction\", color='red')\n",
    "sns.distplot(test_Y, hist = True, kde = False, label=\"actual value\", color='blue')"
   ]
  },
  {
   "cell_type": "markdown",
   "metadata": {},
   "source": [
    "### SVM - linear"
   ]
  },
  {
   "cell_type": "code",
   "execution_count": 22,
   "metadata": {},
   "outputs": [
    {
     "name": "stdout",
     "output_type": "stream",
     "text": [
      "0.8502475247524752\n"
     ]
    },
    {
     "data": {
      "text/plain": [
       "<matplotlib.axes._subplots.AxesSubplot at 0x27e819a3208>"
      ]
     },
     "execution_count": 22,
     "metadata": {},
     "output_type": "execute_result"
    },
    {
     "data": {
      "image/png": "[encoded data removed]",
      "text/plain": [
       "<matplotlib.figure.Figure at 0x27e819c22e8>"
      ]
     },
     "metadata": {},
     "output_type": "display_data"
    }
   ],
   "source": [
    "from sklearn import svm\n",
    "svc_l = svm.SVC(kernel='linear')\n",
    "\n",
    "for i, (train, test) in enumerate(kf.split(train_1)):\n",
    "    #print(test)\n",
    "    train_data_X = np.array(data_X)[train]\n",
    "    #print(train_data_X)\n",
    "    train_data_Y = np.array(data_Y)[train].ravel()\n",
    "    test_data_X = np.array(data_X)[test]\n",
    "    test_data_Y = np.array(data_Y)[test].ravel()\n",
    "    svc_l.fit(train_data_X, train_data_Y)\n",
    "\n",
    "accuracy = svc_r.score(test_X, test_Y)\n",
    "print(accuracy)\n",
    "\n",
    "prediction = svc_l.predict(test_X)\n",
    "\n",
    "# comparison visualzaition\n",
    "sns.distplot(prediction, hist = True, kde = False, label=\"prediction\", color='red')\n",
    "sns.distplot(test_Y, hist = True, kde = False, label=\"actual value\", color='blue')"
   ]
  },
  {
   "cell_type": "markdown",
   "metadata": {},
   "source": [
    "### SVM - rbf"
   ]
  },
  {
   "cell_type": "code",
   "execution_count": 20,
   "metadata": {},
   "outputs": [
    {
     "name": "stdout",
     "output_type": "stream",
     "text": [
      "0.8502475247524752\n"
     ]
    },
    {
     "data": {
      "text/plain": [
       "<matplotlib.axes._subplots.AxesSubplot at 0x27e819e7898>"
      ]
     },
     "execution_count": 20,
     "metadata": {},
     "output_type": "execute_result"
    },
    {
     "data": {
      "image/png": "[encoded data removed]",
      "text/plain": [
       "<matplotlib.figure.Figure at 0x27e81565470>"
      ]
     },
     "metadata": {},
     "output_type": "display_data"
    }
   ],
   "source": [
    "from sklearn import svm\n",
    "svc_r = svm.SVC(kernel='rbf')\n",
    "\n",
    "for i, (train, test) in enumerate(kf.split(train_1)):\n",
    "    #print(test)\n",
    "    train_data_X = np.array(data_X)[train]\n",
    "    #print(train_data_X)\n",
    "    train_data_Y = np.array(data_Y)[train].ravel()\n",
    "    test_data_X = np.array(data_X)[test]\n",
    "    test_data_Y = np.array(data_Y)[test].ravel()\n",
    "    svc_r.fit(train_data_X, train_data_Y)\n",
    "\n",
    "accuracy = svc_r.score(test_X, test_Y)\n",
    "print(accuracy)\n",
    "\n",
    "prediction = svc_r.predict(test_X)\n",
    "\n",
    "# comparison visualzaition\n",
    "sns.distplot(prediction, hist = True, kde = False, label=\"prediction\", color='red')\n",
    "sns.distplot(test_Y, hist = True, kde = False, label=\"actual value\", color='blue')"
   ]
  },
  {
   "cell_type": "markdown",
   "metadata": {},
   "source": [
    "### KNN"
   ]
  },
  {
   "cell_type": "code",
   "execution_count": 23,
   "metadata": {},
   "outputs": [
    {
     "name": "stdout",
     "output_type": "stream",
     "text": [
      "0.8316831683168316\n"
     ]
    },
    {
     "data": {
      "text/plain": [
       "<matplotlib.axes._subplots.AxesSubplot at 0x27e81caf518>"
      ]
     },
     "execution_count": 23,
     "metadata": {},
     "output_type": "execute_result"
    },
    {
     "data": {
      "image/png": "[encoded data removed]",
      "text/plain": [
       "<matplotlib.figure.Figure at 0x27efd1f9fd0>"
      ]
     },
     "metadata": {},
     "output_type": "display_data"
    }
   ],
   "source": [
    "from sklearn import neighbors\n",
    "\n",
    "model = neighbors.KNeighborsClassifier()\n",
    "\n",
    "for i, (train, test) in enumerate(kf.split(train_1)):\n",
    "    #print(test)\n",
    "    train_data_X = np.array(data_X)[train]\n",
    "    #print(train_data_X)\n",
    "    train_data_Y = np.array(data_Y)[train].ravel()\n",
    "    test_data_X = np.array(data_X)[test]\n",
    "    test_data_Y = np.array(data_Y)[test].ravel()\n",
    "    model.fit(train_data_X, train_data_Y)\n",
    "    \n",
    "accuracy = model.score(test_X, test_Y)\n",
    "print(accuracy)\n",
    "\n",
    "prediction = model.predict(test_X)\n",
    "\n",
    "# comparison visualzaition\n",
    "sns.distplot(prediction, hist = True, kde = False, label=\"prediction\", color='red')\n",
    "sns.distplot(test_Y, hist = True, kde = False, label=\"actual value\", color='blue')"
   ]
  },
  {
   "cell_type": "markdown",
   "metadata": {},
   "source": [
    "# Categorical values processing\n",
    "from now on, we are using dummy value for categroical values."
   ]
  },
  {
   "cell_type": "code",
   "execution_count": 25,
   "metadata": {},
   "outputs": [
    {
     "name": "stdout",
     "output_type": "stream",
     "text": [
      "['iid' 'pid' 'match' 'gender' 'age' 'race' 'field_cd' 'date' 'go_out'\n",
      " 'age_o' 'race_o' 'field_cd_o' 'date_o' 'go_out_o' 'field_1' 'field_2'\n",
      " 'field_3' 'field_4' 'field_5' 'field_6' 'field_7' 'field_8' 'field_9'\n",
      " 'field_10' 'field_11' 'field_12' 'field_13' 'field_14' 'field_15'\n",
      " 'field_16' 'field_17' 'field_18' 'field_1_o' 'field_2_o' 'field_3_o'\n",
      " 'field_4_o' 'field_5_o' 'field_6_o' 'field_7_o' 'field_8_o' 'field_9_o'\n",
      " 'field_10_o' 'field_11_o' 'field_13_o' 'field_14_o' 'field_15_o'\n",
      " 'field_16_o' 'field_18_o' 'race_1' 'race_2' 'race_3' 'race_4' 'race_5'\n",
      " 'race_1_o' 'race_2_o' 'race_3_o' 'race_4_o' 'race_5_o']\n"
     ]
    }
   ],
   "source": [
    "df_match_1=df_match.copy()\n",
    "\n",
    "field_hot=pd.get_dummies(df_match['field_cd'])\n",
    "#df_match_1=df_match_1.drop('field_cd',axis=1)\n",
    "df_match_1=df_match_1.join(field_hot)\n",
    "df_match_1.rename(columns={1.0:\"field_1\", 2.0:\"field_2\", 3.0:\"field_3\", 4.0:\"field_4\",\n",
    "                          5.0:\"field_5\", 6.0:\"field_6\", 7.0:\"field_7\", 8.0:\"field_8\", \n",
    "                          9.0:\"field_9\", 10.0:\"field_10\", 11.0:\"field_11\", 12.0:\"field_12\", \n",
    "                          13.0:\"field_13\", 14.0:\"field_14\", 15.0:\"field_15\", 16.0:\"field_16\",\n",
    "                          17.0:\"field_17\", 18.0:\"field_18\", }, inplace=True)\n",
    "\n",
    "field_o_hot=pd.get_dummies(df_match_1['field_cd_o'])\n",
    "#df_match_1=df_match.drop('field_cd_o',axis=1)\n",
    "df_match_1=df_match_1.join(field_o_hot)\n",
    "df_match_1.rename(columns={1.0:\"field_1_o\", 2.0:\"field_2_o\", 3.0:\"field_3_o\", 4.0:\"field_4_o\",\n",
    "                          5.0:\"field_5_o\", 6.0:\"field_6_o\", 7.0:\"field_7_o\", 8.0:\"field_8_o\", \n",
    "                          9.0:\"field_9_o\", 10.0:\"field_10_o\", 11.0:\"field_11_o\", 12.0:\"field_12_o\", \n",
    "                          13.0:\"field_13_o\", 14.0:\"field_14_o\", 15.0:\"field_15_o\", 16.0:\"field_16_o\",\n",
    "                          17.0:\"field_17_o\", 18.0:\"field_18_o\", }, inplace=True)\n",
    "\n",
    "race_hot = pd.get_dummies(df_match_1['race'])\n",
    "#df_match_1 = df_match_1.drop('race', axis=1)\n",
    "df_match_1 = df_match_1.join(race_hot)\n",
    "df_match_1.rename(columns={1.0:\"race_1\", 2.0:\"race_2\", 3.0:\"race_3\", 4.0:\"race_4\", 6.0:\"race_5\", }, inplace=True)\n",
    "\n",
    "race_o_hot = pd.get_dummies(df_match_1['race_o'])\n",
    "#df_match_1 = df_match_1.drop('race_o', axis=1)\n",
    "df_match_1 = df_match_1.join(race_hot)\n",
    "df_match_1.rename(columns={1.0:\"race_1_o\", 2.0:\"race_2_o\", 3.0:\"race_3_o\", 4.0:\"race_4_o\", 6.0:\"race_5_o\", }, inplace=True)\n",
    "\n",
    "print(df_match_1.columns.values)\n",
    "#print (one_hot)"
   ]
  },
  {
   "cell_type": "code",
   "execution_count": 26,
   "metadata": {},
   "outputs": [],
   "source": [
    "cols = ['age', 'date', 'go_out', 'age_o',\n",
    " 'date_o', 'go_out_o', 'field_1', 'field_2',\n",
    " 'field_3', 'field_4', 'field_5', 'field_6', 'field_7', 'field_8', 'field_9',\n",
    " 'field_10', 'field_11', 'field_12', 'field_13', 'field_14', 'field_15',\n",
    " 'field_16', 'field_17', 'field_18', 'field_1_o', 'field_2_o', 'field_3_o', 'field_4_o',\n",
    " 'field_5_o', 'field_6_o', 'field_7_o', 'field_8_o', 'field_9_o', 'field_10_o',\n",
    " 'field_11_o', 'field_13_o', 'field_14_o', 'field_15_o', 'field_16_o',\n",
    " 'field_18_o', 'race_1', 'race_2', 'race_3', 'race_4', 'race_5', 'race_1_o',\n",
    " 'race_2_o', 'race_3_o', 'race_4_o', 'race_5_o']\n",
    "\n",
    "new_data=df_match_1.dropna(subset=cols)\n",
    "new_data = shuffle(new_data)"
   ]
  },
  {
   "cell_type": "code",
   "execution_count": 28,
   "metadata": {},
   "outputs": [],
   "source": [
    "X=['age', 'date', 'go_out', 'age_o',\n",
    " 'date_o', 'go_out_o', 'field_1', 'field_2',\n",
    " 'field_3', 'field_4', 'field_5', 'field_6', 'field_7', 'field_8', 'field_9',\n",
    " 'field_10', 'field_11', 'field_12', 'field_13', 'field_14', 'field_15',\n",
    " 'field_16', 'field_17', 'field_18', 'field_1_o', 'field_2_o', 'field_3_o', 'field_4_o',\n",
    " 'field_5_o', 'field_6_o', 'field_7_o', 'field_8_o', 'field_9_o', 'field_10_o',\n",
    " 'field_11_o', 'field_13_o', 'field_14_o', 'field_15_o', 'field_16_o',\n",
    " 'field_18_o', 'race_1', 'race_2', 'race_3', 'race_4', 'race_5', 'race_1_o',\n",
    " 'race_2_o', 'race_3_o', 'race_4_o', 'race_5_o']\n",
    "Y=['match']\n",
    "\n",
    "train_1,  test_1 = train_test_split(new_data, test_size=0.2,random_state=0)\n",
    "\n",
    "data_X=train_1[X]\n",
    "data_Y=train_1[Y]\n",
    "    \n",
    "test_X=test_1[X]\n",
    "test_Y=test_1[Y]\n",
    "\n",
    "kf = KFold(n_splits=4, random_state=1)\n",
    "#new_data.head()"
   ]
  },
  {
   "cell_type": "markdown",
   "metadata": {},
   "source": [
    "### Decision Tree"
   ]
  },
  {
   "cell_type": "code",
   "execution_count": 29,
   "metadata": {},
   "outputs": [
    {
     "name": "stdout",
     "output_type": "stream",
     "text": [
      "0.7068965517241379\n"
     ]
    }
   ],
   "source": [
    "from sklearn.tree import DecisionTreeClassifier\n",
    "from sklearn import metrics\n",
    "\n",
    "model=DecisionTreeClassifier()\n",
    "\n",
    "for i, (train, test) in enumerate(kf.split(train_1)):\n",
    "    train_data_X = np.array(data_X)[train]\n",
    "    train_data_Y = np.array(data_Y)[train]\n",
    "    test_data_X = np.array(data_X)[test]\n",
    "    test_data_Y = np.array(data_Y)[test]\n",
    "    model.fit(train_data_X, train_data_Y)\n",
    "    \n",
    "prediction = model.predict(test_X)\n",
    "print(metrics.accuracy_score(prediction, test_Y))"
   ]
  },
  {
   "cell_type": "markdown",
   "metadata": {},
   "source": [
    "### SVM - linear"
   ]
  },
  {
   "cell_type": "code",
   "execution_count": 30,
   "metadata": {},
   "outputs": [
    {
     "name": "stdout",
     "output_type": "stream",
     "text": [
      "0.8263546798029556\n"
     ]
    }
   ],
   "source": [
    "from sklearn import svm\n",
    "svc_r = svm.SVC(kernel='linear')\n",
    "\n",
    "for i, (train, test) in enumerate(kf.split(train_1)):\n",
    "    train_data_X = np.array(data_X)[train]\n",
    "    train_data_Y = np.array(data_Y)[train].ravel()\n",
    "    test_data_X = np.array(data_X)[test]\n",
    "    test_data_Y = np.array(data_Y)[test].ravel()\n",
    "    svc_r.fit(train_data_X, train_data_Y)\n",
    "\n",
    "accuracy = svc_r.score(test_X, test_Y)\n",
    "print(accuracy)"
   ]
  },
  {
   "cell_type": "markdown",
   "metadata": {},
   "source": [
    "### KNN"
   ]
  },
  {
   "cell_type": "code",
   "execution_count": 31,
   "metadata": {},
   "outputs": [
    {
     "name": "stdout",
     "output_type": "stream",
     "text": [
      "0.7992610837438424\n"
     ]
    }
   ],
   "source": [
    "from sklearn import neighbors\n",
    "\n",
    "model = neighbors.KNeighborsClassifier()\n",
    "\n",
    "for i, (train, test) in enumerate(kf.split(train_1)):\n",
    "    train_data_X = np.array(data_X)[train]\n",
    "    train_data_Y = np.array(data_Y)[train].ravel()\n",
    "    test_data_X = np.array(data_X)[test]\n",
    "    test_data_Y = np.array(data_Y)[test].ravel()\n",
    "    model.fit(train_data_X, train_data_Y)\n",
    "    \n",
    "accuracy = model.score(test_X, test_Y)\n",
    "print(accuracy)"
   ]
  },
  {
   "cell_type": "markdown",
   "metadata": {},
   "source": [
    "### SVM"
   ]
  },
  {
   "cell_type": "code",
   "execution_count": 32,
   "metadata": {},
   "outputs": [
    {
     "name": "stdout",
     "output_type": "stream",
     "text": [
      "0.8263546798029556\n"
     ]
    }
   ],
   "source": [
    "from sklearn import svm\n",
    "svc_r = svm.SVC(kernel='rbf')\n",
    "\n",
    "for i, (train, test) in enumerate(kf.split(train_1)):\n",
    "    train_data_X = np.array(data_X)[train]\n",
    "    train_data_Y = np.array(data_Y)[train].ravel()\n",
    "    test_data_X = np.array(data_X)[test]\n",
    "    test_data_Y = np.array(data_Y)[test].ravel()\n",
    "    svc_r.fit(train_data_X, train_data_Y)\n",
    "\n",
    "accuracy = svc_r.score(test_X, test_Y)\n",
    "print(accuracy)"
   ]
  }
 ],
 "metadata": {
  "kernelspec": {
   "display_name": "Python 3",
   "language": "python",
   "name": "python3"
  },
  "language_info": {
   "codemirror_mode": {
    "name": "ipython",
    "version": 3
   },
   "file_extension": ".py",
   "mimetype": "text/x-python",
   "name": "python",
   "nbconvert_exporter": "python",
   "pygments_lexer": "ipython3",
   "version": "3.6.4"
  }
 },
 "nbformat": 4,
 "nbformat_minor": 2
}
