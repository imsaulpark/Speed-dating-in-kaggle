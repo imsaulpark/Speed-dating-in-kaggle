{
 "cells": [
  {
   "cell_type": "markdown",
   "metadata": {},
   "source": [
    "# Intro\n",
    "This notebook is for **prediction on 'decision' in dataset**, using question1 and 3 ( = attr1_1, attr3_1 )  \n",
    "we will use some machine learning models.  \n",
    "next we'll look over the features of the selected model."
   ]
  },
  {
   "cell_type": "markdown",
   "metadata": {},
   "source": [
    "# Data import"
   ]
  },
  {
   "cell_type": "code",
   "execution_count": 17,
   "metadata": {},
   "outputs": [
    {
     "data": {
      "text/plain": [
       "(8378, 195)"
      ]
     },
     "execution_count": 17,
     "metadata": {},
     "output_type": "execute_result"
    }
   ],
   "source": [
    "import pandas as pd\n",
    "import numpy as np\n",
    "import matplotlib.pyplot as plt\n",
    "import seaborn as sns\n",
    "\n",
    "df_data = pd.read_csv(\"../data/Speed Dating Data.csv\")\n",
    "df_data.shape"
   ]
  },
  {
   "cell_type": "markdown",
   "metadata": {},
   "source": [
    "# Data prerprocessing"
   ]
  },
  {
   "cell_type": "code",
   "execution_count": 19,
   "metadata": {},
   "outputs": [
    {
     "name": "stdout",
     "output_type": "stream",
     "text": [
      "missing rate : 0.0185008355216042\n"
     ]
    }
   ],
   "source": [
    "# select features\n",
    "cols = ['iid', 'pid', 'match','gender','dec', 'age',\n",
    "        'attr1_1', 'sinc1_1', 'fun1_1', 'intel1_1', 'amb1_1',\n",
    "        'attr3_1', 'sinc3_1', 'fun3_1', 'intel3_1', 'amb3_1']\n",
    "\n",
    "# drop missing values.\n",
    "row_full = df_data.shape[0]\n",
    "df_selected = df_data.loc[:, cols]\n",
    "df_selected.dropna(inplace=True)\n",
    "row_drop = df_selected.shape[0]\n",
    "\n",
    "miss_rate = (row_full - row_drop) / row_full\n",
    "print(\"missing rate :\", miss_rate)"
   ]
  },
  {
   "cell_type": "code",
   "execution_count": 3,
   "metadata": {
    "scrolled": true
   },
   "outputs": [
    {
     "name": "stdout",
     "output_type": "stream",
     "text": [
      "dataframe is been making...\n",
      "100 200 300 400 500 600 700 800 900 1000 1100 1200 1300 1400 1500 1600 1700 1800 1900 2000 2100 2200 2300 2400 2500 2600 2700 2800 2900 3000 3100 3200 3300 3400 3500 3600 3700 3800 3900 4000 4100 4200 4300 4400 4500 4600 4700 4800 4900 5000 5100 5200 5300 5400 5500 5600 5700 5800 5900 6000 6100 6200 6300 6400 6500 6600 6700 6800 6900 7000 7100 7200 7300 7400 7500 7600 7700 7800 7900 8000 \n",
      "making success.\n",
      "\n",
      "df_match shape :  (8078, 28)\n"
     ]
    },
    {
     "data": {
      "text/html": [
       "<div>\n",
       "<style scoped>\n",
       "    .dataframe tbody tr th:only-of-type {\n",
       "        vertical-align: middle;\n",
       "    }\n",
       "\n",
       "    .dataframe tbody tr th {\n",
       "        vertical-align: top;\n",
       "    }\n",
       "\n",
       "    .dataframe thead th {\n",
       "        text-align: right;\n",
       "    }\n",
       "</style>\n",
       "<table border=\"1\" class=\"dataframe\">\n",
       "  <thead>\n",
       "    <tr style=\"text-align: right;\">\n",
       "      <th></th>\n",
       "      <th>iid</th>\n",
       "      <th>pid</th>\n",
       "      <th>match</th>\n",
       "      <th>gender</th>\n",
       "      <th>dec</th>\n",
       "      <th>age</th>\n",
       "      <th>attr1_1</th>\n",
       "      <th>sinc1_1</th>\n",
       "      <th>fun1_1</th>\n",
       "      <th>intel1_1</th>\n",
       "      <th>...</th>\n",
       "      <th>attr1_1_o</th>\n",
       "      <th>sinc1_1_o</th>\n",
       "      <th>fun1_1_o</th>\n",
       "      <th>intel1_1_o</th>\n",
       "      <th>amb1_1_o</th>\n",
       "      <th>attr3_1_o</th>\n",
       "      <th>sinc3_1_o</th>\n",
       "      <th>fun3_1_o</th>\n",
       "      <th>intel3_1_o</th>\n",
       "      <th>amb3_1_o</th>\n",
       "    </tr>\n",
       "  </thead>\n",
       "  <tbody>\n",
       "    <tr>\n",
       "      <th>0</th>\n",
       "      <td>11.0</td>\n",
       "      <td>1.0</td>\n",
       "      <td>0.0</td>\n",
       "      <td>1.0</td>\n",
       "      <td>0.0</td>\n",
       "      <td>27.0</td>\n",
       "      <td>35.0</td>\n",
       "      <td>20.0</td>\n",
       "      <td>20.0</td>\n",
       "      <td>20.0</td>\n",
       "      <td>...</td>\n",
       "      <td>15.0</td>\n",
       "      <td>20.0</td>\n",
       "      <td>15.0</td>\n",
       "      <td>20.0</td>\n",
       "      <td>15.0</td>\n",
       "      <td>6.0</td>\n",
       "      <td>8.0</td>\n",
       "      <td>8.0</td>\n",
       "      <td>8.0</td>\n",
       "      <td>7.0</td>\n",
       "    </tr>\n",
       "    <tr>\n",
       "      <th>1</th>\n",
       "      <td>11.0</td>\n",
       "      <td>2.0</td>\n",
       "      <td>0.0</td>\n",
       "      <td>1.0</td>\n",
       "      <td>0.0</td>\n",
       "      <td>27.0</td>\n",
       "      <td>35.0</td>\n",
       "      <td>20.0</td>\n",
       "      <td>20.0</td>\n",
       "      <td>20.0</td>\n",
       "      <td>...</td>\n",
       "      <td>45.0</td>\n",
       "      <td>5.0</td>\n",
       "      <td>20.0</td>\n",
       "      <td>25.0</td>\n",
       "      <td>0.0</td>\n",
       "      <td>7.0</td>\n",
       "      <td>5.0</td>\n",
       "      <td>10.0</td>\n",
       "      <td>8.0</td>\n",
       "      <td>3.0</td>\n",
       "    </tr>\n",
       "    <tr>\n",
       "      <th>2</th>\n",
       "      <td>11.0</td>\n",
       "      <td>3.0</td>\n",
       "      <td>0.0</td>\n",
       "      <td>1.0</td>\n",
       "      <td>0.0</td>\n",
       "      <td>27.0</td>\n",
       "      <td>35.0</td>\n",
       "      <td>20.0</td>\n",
       "      <td>20.0</td>\n",
       "      <td>20.0</td>\n",
       "      <td>...</td>\n",
       "      <td>35.0</td>\n",
       "      <td>10.0</td>\n",
       "      <td>10.0</td>\n",
       "      <td>35.0</td>\n",
       "      <td>10.0</td>\n",
       "      <td>8.0</td>\n",
       "      <td>9.0</td>\n",
       "      <td>8.0</td>\n",
       "      <td>9.0</td>\n",
       "      <td>8.0</td>\n",
       "    </tr>\n",
       "    <tr>\n",
       "      <th>3</th>\n",
       "      <td>11.0</td>\n",
       "      <td>4.0</td>\n",
       "      <td>0.0</td>\n",
       "      <td>1.0</td>\n",
       "      <td>0.0</td>\n",
       "      <td>27.0</td>\n",
       "      <td>35.0</td>\n",
       "      <td>20.0</td>\n",
       "      <td>20.0</td>\n",
       "      <td>20.0</td>\n",
       "      <td>...</td>\n",
       "      <td>20.0</td>\n",
       "      <td>20.0</td>\n",
       "      <td>20.0</td>\n",
       "      <td>20.0</td>\n",
       "      <td>10.0</td>\n",
       "      <td>7.0</td>\n",
       "      <td>8.0</td>\n",
       "      <td>9.0</td>\n",
       "      <td>7.0</td>\n",
       "      <td>8.0</td>\n",
       "    </tr>\n",
       "    <tr>\n",
       "      <th>4</th>\n",
       "      <td>11.0</td>\n",
       "      <td>5.0</td>\n",
       "      <td>0.0</td>\n",
       "      <td>1.0</td>\n",
       "      <td>0.0</td>\n",
       "      <td>27.0</td>\n",
       "      <td>35.0</td>\n",
       "      <td>20.0</td>\n",
       "      <td>20.0</td>\n",
       "      <td>20.0</td>\n",
       "      <td>...</td>\n",
       "      <td>20.0</td>\n",
       "      <td>5.0</td>\n",
       "      <td>25.0</td>\n",
       "      <td>25.0</td>\n",
       "      <td>10.0</td>\n",
       "      <td>6.0</td>\n",
       "      <td>3.0</td>\n",
       "      <td>6.0</td>\n",
       "      <td>10.0</td>\n",
       "      <td>8.0</td>\n",
       "    </tr>\n",
       "  </tbody>\n",
       "</table>\n",
       "<p>5 rows × 28 columns</p>\n",
       "</div>"
      ],
      "text/plain": [
       "    iid  pid  match  gender  dec   age  attr1_1  sinc1_1  fun1_1  intel1_1  \\\n",
       "0  11.0  1.0    0.0     1.0  0.0  27.0     35.0     20.0    20.0      20.0   \n",
       "1  11.0  2.0    0.0     1.0  0.0  27.0     35.0     20.0    20.0      20.0   \n",
       "2  11.0  3.0    0.0     1.0  0.0  27.0     35.0     20.0    20.0      20.0   \n",
       "3  11.0  4.0    0.0     1.0  0.0  27.0     35.0     20.0    20.0      20.0   \n",
       "4  11.0  5.0    0.0     1.0  0.0  27.0     35.0     20.0    20.0      20.0   \n",
       "\n",
       "     ...     attr1_1_o  sinc1_1_o  fun1_1_o  intel1_1_o  amb1_1_o  attr3_1_o  \\\n",
       "0    ...          15.0       20.0      15.0        20.0      15.0        6.0   \n",
       "1    ...          45.0        5.0      20.0        25.0       0.0        7.0   \n",
       "2    ...          35.0       10.0      10.0        35.0      10.0        8.0   \n",
       "3    ...          20.0       20.0      20.0        20.0      10.0        7.0   \n",
       "4    ...          20.0        5.0      25.0        25.0      10.0        6.0   \n",
       "\n",
       "   sinc3_1_o  fun3_1_o  intel3_1_o  amb3_1_o  \n",
       "0        8.0       8.0         8.0       7.0  \n",
       "1        5.0      10.0         8.0       3.0  \n",
       "2        9.0       8.0         9.0       8.0  \n",
       "3        8.0       9.0         7.0       8.0  \n",
       "4        3.0       6.0        10.0       8.0  \n",
       "\n",
       "[5 rows x 28 columns]"
      ]
     },
     "execution_count": 3,
     "metadata": {},
     "output_type": "execute_result"
    }
   ],
   "source": [
    "# Separate dataframe into male and female.\n",
    "df_male = df_selected.loc[ df_selected['gender'] == 1 ]\n",
    "df_female = df_selected.loc[ df_selected['gender'] == 0 ]\n",
    "\n",
    "# Then, Let's make dropped duplicates dataframe of male.\n",
    "df_male_drop = df_male.drop_duplicates(subset=['iid'])\n",
    "df_female_drop = df_female.drop_duplicates(subset=['iid'])\n",
    "\n",
    "# Let's make dataframe for matching. (empty yet)\n",
    "df_match = pd.DataFrame( data = None, columns = cols + \n",
    "                        ['dec_o', 'age_o', \n",
    "                         'attr1_1_o', 'sinc1_1_o', 'fun1_1_o', 'intel1_1_o',  'amb1_1_o', \n",
    "                         'attr3_1_o','sinc3_1_o','fun3_1_o', 'intel3_1_o','amb3_1_o'] )\n",
    "index = 0\n",
    "\n",
    "print(\"dataframe is been making...\")\n",
    "# Let's fill each rows of dataframe for matching.\n",
    "for m_index, m_row in df_male.iterrows() :\n",
    "    \n",
    "    # Find pid row in female_drop dataframe.\n",
    "    pid = m_row['pid']\n",
    "    f_row = df_female_drop.loc[ df_female_drop['iid'] == pid ]\n",
    "    \n",
    "    if f_row.empty :\n",
    "        continue\n",
    "    \n",
    "    f_row = f_row.iloc[0]\n",
    "    \n",
    "    # Extract values from each row of dataframe.\n",
    "    values = list(m_row.values) + list(f_row['dec':'amb3_1'].values)\n",
    "    \n",
    "    # Fill a row of match dataframe\n",
    "    df_match.loc[index] = values\n",
    "    index += 1\n",
    "    \n",
    "    # Print current progress at each 100 row.\n",
    "    if index % 100 == 0 :\n",
    "        print(index, end = \" \")\n",
    "\n",
    "# Let's fill each rows of dataframe for matching.\n",
    "for fm_index, fm_row in df_female.iterrows() :\n",
    "    \n",
    "    # Find pid row in male_drop dataframe.\n",
    "    pid = fm_row['pid']\n",
    "    m_row = df_male_drop.loc[ df_male_drop['iid'] == pid ]\n",
    "    \n",
    "    if m_row.empty :\n",
    "        continue\n",
    "    \n",
    "    m_row = m_row.iloc[0]\n",
    "    \n",
    "    # Extract values from each row of dataframes.\n",
    "    values = list(fm_row.values) + list(m_row['dec':'amb3_1'].values)\n",
    "    \n",
    "    \n",
    "    # Fill a row of match dataframe\n",
    "    df_match.loc[index] = values\n",
    "    index += 1\n",
    "    \n",
    "    # Print current progress at each 100 row.\n",
    "    if index % 100 == 0 :\n",
    "        print(index, end = \" \")\n",
    "\n",
    "print() \n",
    "print(\"making success.\\n\")            \n",
    "print(\"df_match shape : \", df_match.shape)\n",
    "df_match.head()"
   ]
  },
  {
   "cell_type": "markdown",
   "metadata": {},
   "source": [
    "# Select Features for model\n",
    "we will use 12 features for input. and 1 feature for output(label)"
   ]
  },
  {
   "cell_type": "code",
   "execution_count": 4,
   "metadata": {},
   "outputs": [],
   "source": [
    "X = ['attr3_1', 'sinc3_1', 'intel3_1', 'fun3_1', 'amb3_1',\n",
    "   'attr1_1_o', 'sinc1_1_o', 'fun1_1_o', 'intel1_1_o',  'amb1_1_o',\n",
    "   'age','age_o'\n",
    "  ]\n",
    "Y = ['dec_o']"
   ]
  },
  {
   "cell_type": "code",
   "execution_count": 21,
   "metadata": {},
   "outputs": [
    {
     "name": "stdout",
     "output_type": "stream",
     "text": [
      "train shape :  (6058, 12)\n",
      "test shape :  (2020, 12)\n"
     ]
    }
   ],
   "source": [
    "from sklearn.model_selection import train_test_split\n",
    "from sklearn import metrics\n",
    "from sklearn.metrics import confusion_matrix\n",
    "\n",
    "train, test = train_test_split(df_match, test_size = 0.25, random_state = 0)\n",
    "\n",
    "train_X = train[X]\n",
    "train_Y = train[Y]\n",
    "\n",
    "test_X = test[X]\n",
    "test_Y = test[Y]\n",
    " \n",
    "features_one = train_X.values\n",
    "target = train_Y.values\n",
    "\n",
    "print(\"train shape : \", train_X.shape)\n",
    "print(\"test shape : \", test_X.shape)"
   ]
  },
  {
   "cell_type": "markdown",
   "metadata": {},
   "source": [
    "# Learning model (Random Forest)\n",
    "\n",
    "We used some models such as SVM-linear, SVM-rbf, KNN and etc before. (refer to notebook 'Prediction on \"decision_o\".ipynb')  \n",
    "Finally, we found that **Random Forest is most fitted model for us.**  \n",
    "So, from now on, we deal with this model more deeply."
   ]
  },
  {
   "cell_type": "markdown",
   "metadata": {},
   "source": [
    "## 1. Performance"
   ]
  },
  {
   "cell_type": "code",
   "execution_count": 10,
   "metadata": {},
   "outputs": [
    {
     "name": "stderr",
     "output_type": "stream",
     "text": [
      "C:\\Users\\Jeon\\Anaconda3\\lib\\site-packages\\ipykernel_launcher.py:4: DataConversionWarning: A column-vector y was passed when a 1d array was expected. Please change the shape of y to (n_samples,), for example using ravel().\n",
      "  after removing the cwd from sys.path.\n"
     ]
    },
    {
     "name": "stdout",
     "output_type": "stream",
     "text": [
      "The accuracy of the Decision Tree is 0.9579207920792079\n",
      "AUC in ROC curve is 0.9471548556430447\n"
     ]
    },
    {
     "data": {
      "image/png": "[encoded data removed]",
      "text/plain": [
       "<matplotlib.figure.Figure at 0x1a7af924a58>"
      ]
     },
     "metadata": {},
     "output_type": "display_data"
    },
    {
     "name": "stderr",
     "output_type": "stream",
     "text": [
      "C:\\Users\\Jeon\\Anaconda3\\lib\\site-packages\\ipykernel_launcher.py:28: DataConversionWarning: A column-vector y was passed when a 1d array was expected. Please change the shape of y to (n_samples,), for example using ravel().\n"
     ]
    }
   ],
   "source": [
    "from sklearn.ensemble import RandomForestClassifier\n",
    "\n",
    "clf = RandomForestClassifier()\n",
    "clf.fit(features_one, target)\n",
    "dt_prediction = clf.predict(test_X)\n",
    "\n",
    "accuracy = metrics.accuracy_score(dt_prediction, test_Y)\n",
    "print('The accuracy of the Decision Tree is', accuracy)\n",
    "\n",
    "# print AUC\n",
    "auc = metrics.roc_auc_score(test_Y, dt_prediction)\n",
    "print(\"AUC in ROC curve is\", auc)\n",
    "\n",
    "fig, axs = plt.subplots(ncols = 2)\n",
    "fig.set_size_inches(w = 20, h = 5)\n",
    "\n",
    "# # draw distribution graph\n",
    "axs[0].set_title(\"distribtion on dec_o\")\n",
    "sns.distplot(dt_prediction, kde = False, label=\"prediction\", color='red', ax=axs[0])\n",
    "sns.distplot(test_Y, kde = False, label=\"actual value\", color='blue', ax=axs[0],)\n",
    "axs[0].legend()\n",
    "\n",
    "# draw ROC curve\n",
    "fpr, tpr, threshold = metrics.roc_curve(test_Y, dt_prediction)\n",
    "plt.plot(fpr, tpr)\n",
    "plt.title(\"ROC curve\")\n",
    "plt.show()\n",
    "clf.fit(features_one, target)\n",
    "dt_prediction = clf.predict(test_X)"
   ]
  },
  {
   "cell_type": "markdown",
   "metadata": {},
   "source": [
    "## 2. Feature analysis"
   ]
  },
  {
   "cell_type": "markdown",
   "metadata": {},
   "source": [
    "### Importance of features"
   ]
  },
  {
   "cell_type": "code",
   "execution_count": 24,
   "metadata": {},
   "outputs": [
    {
     "data": {
      "text/plain": [
       "Text(0.5,1,'importance of features')"
      ]
     },
     "execution_count": 24,
     "metadata": {},
     "output_type": "execute_result"
    },
    {
     "data": {
      "image/png": "[encoded data removed]",
      "text/plain": [
       "<matplotlib.figure.Figure at 0x1a7af7e4cf8>"
      ]
     },
     "metadata": {},
     "output_type": "display_data"
    }
   ],
   "source": [
    "ft_importance = clf.feature_importances_\n",
    "df_ft = pd.DataFrame(index = X, data = ft_importance, columns=['importance'])\n",
    "df_ft.sort_values(by = ['importance'], inplace = True, ascending=False)\n",
    "df_ft = df_ft.T\n",
    "\n",
    "plt.figure(figsize=(20,5))\n",
    "\n",
    "fig = sns.barplot(data = df_ft)\n",
    "fig.set_title(\"importance of features\")"
   ]
  },
  {
   "cell_type": "markdown",
   "metadata": {},
   "source": [
    "### Correlation of features"
   ]
  },
  {
   "cell_type": "markdown",
   "metadata": {},
   "source": [
    "# Test"
   ]
  },
  {
   "cell_type": "markdown",
   "metadata": {},
   "source": [
    "Then, who is the person who will want to meet a participant again probabilistically?  \n",
    "Let's consider only a person whose iid is 0, and think about 3 most probabilistacally high partners."
   ]
  },
  {
   "cell_type": "markdown",
   "metadata": {},
   "source": [
    "### Make a dataframe for a participant\n",
    "\n",
    "this dataframe will contain a participant's answer for question 3, other participant's answer for question 1, and ages.  \n",
    "this dataframe mean input features of above model to predict who will want to meet the participant again."
   ]
  },
  {
   "cell_type": "code",
   "execution_count": 26,
   "metadata": {},
   "outputs": [
    {
     "name": "stdout",
     "output_type": "stream",
     "text": [
      "dataframe is been making ...\n",
      "100 200 \n",
      "success.\n",
      "\n",
      "(272, 12)\n"
     ]
    },
    {
     "data": {
      "text/html": [
       "<div>\n",
       "<style scoped>\n",
       "    .dataframe tbody tr th:only-of-type {\n",
       "        vertical-align: middle;\n",
       "    }\n",
       "\n",
       "    .dataframe tbody tr th {\n",
       "        vertical-align: top;\n",
       "    }\n",
       "\n",
       "    .dataframe thead th {\n",
       "        text-align: right;\n",
       "    }\n",
       "</style>\n",
       "<table border=\"1\" class=\"dataframe\">\n",
       "  <thead>\n",
       "    <tr style=\"text-align: right;\">\n",
       "      <th></th>\n",
       "      <th>attr3_1</th>\n",
       "      <th>sinc3_1</th>\n",
       "      <th>intel3_1</th>\n",
       "      <th>fun3_1</th>\n",
       "      <th>amb3_1</th>\n",
       "      <th>attr1_1_o</th>\n",
       "      <th>sinc1_1_o</th>\n",
       "      <th>fun1_1_o</th>\n",
       "      <th>intel1_1_o</th>\n",
       "      <th>amb1_1_o</th>\n",
       "      <th>age</th>\n",
       "      <th>age_o</th>\n",
       "    </tr>\n",
       "  </thead>\n",
       "  <tbody>\n",
       "    <tr>\n",
       "      <th>0</th>\n",
       "      <td>6.0</td>\n",
       "      <td>8.0</td>\n",
       "      <td>8.0</td>\n",
       "      <td>8.0</td>\n",
       "      <td>7.0</td>\n",
       "      <td>35.0</td>\n",
       "      <td>20.0</td>\n",
       "      <td>20.0</td>\n",
       "      <td>20.0</td>\n",
       "      <td>0.0</td>\n",
       "      <td>21.0</td>\n",
       "      <td>27.0</td>\n",
       "    </tr>\n",
       "    <tr>\n",
       "      <th>1</th>\n",
       "      <td>6.0</td>\n",
       "      <td>8.0</td>\n",
       "      <td>8.0</td>\n",
       "      <td>8.0</td>\n",
       "      <td>7.0</td>\n",
       "      <td>60.0</td>\n",
       "      <td>0.0</td>\n",
       "      <td>40.0</td>\n",
       "      <td>0.0</td>\n",
       "      <td>0.0</td>\n",
       "      <td>21.0</td>\n",
       "      <td>22.0</td>\n",
       "    </tr>\n",
       "    <tr>\n",
       "      <th>2</th>\n",
       "      <td>6.0</td>\n",
       "      <td>8.0</td>\n",
       "      <td>8.0</td>\n",
       "      <td>8.0</td>\n",
       "      <td>7.0</td>\n",
       "      <td>19.0</td>\n",
       "      <td>18.0</td>\n",
       "      <td>18.0</td>\n",
       "      <td>19.0</td>\n",
       "      <td>14.0</td>\n",
       "      <td>21.0</td>\n",
       "      <td>22.0</td>\n",
       "    </tr>\n",
       "    <tr>\n",
       "      <th>3</th>\n",
       "      <td>6.0</td>\n",
       "      <td>8.0</td>\n",
       "      <td>8.0</td>\n",
       "      <td>8.0</td>\n",
       "      <td>7.0</td>\n",
       "      <td>30.0</td>\n",
       "      <td>5.0</td>\n",
       "      <td>40.0</td>\n",
       "      <td>15.0</td>\n",
       "      <td>5.0</td>\n",
       "      <td>21.0</td>\n",
       "      <td>23.0</td>\n",
       "    </tr>\n",
       "    <tr>\n",
       "      <th>4</th>\n",
       "      <td>6.0</td>\n",
       "      <td>8.0</td>\n",
       "      <td>8.0</td>\n",
       "      <td>8.0</td>\n",
       "      <td>7.0</td>\n",
       "      <td>30.0</td>\n",
       "      <td>10.0</td>\n",
       "      <td>10.0</td>\n",
       "      <td>20.0</td>\n",
       "      <td>10.0</td>\n",
       "      <td>21.0</td>\n",
       "      <td>24.0</td>\n",
       "    </tr>\n",
       "  </tbody>\n",
       "</table>\n",
       "</div>"
      ],
      "text/plain": [
       "   attr3_1  sinc3_1  intel3_1  fun3_1  amb3_1  attr1_1_o  sinc1_1_o  fun1_1_o  \\\n",
       "0      6.0      8.0       8.0     8.0     7.0       35.0       20.0      20.0   \n",
       "1      6.0      8.0       8.0     8.0     7.0       60.0        0.0      40.0   \n",
       "2      6.0      8.0       8.0     8.0     7.0       19.0       18.0      18.0   \n",
       "3      6.0      8.0       8.0     8.0     7.0       30.0        5.0      40.0   \n",
       "4      6.0      8.0       8.0     8.0     7.0       30.0       10.0      10.0   \n",
       "\n",
       "   intel1_1_o  amb1_1_o   age  age_o  \n",
       "0        20.0       0.0  21.0   27.0  \n",
       "1         0.0       0.0  21.0   22.0  \n",
       "2        19.0      14.0  21.0   22.0  \n",
       "3        15.0       5.0  21.0   23.0  \n",
       "4        20.0      10.0  21.0   24.0  "
      ]
     },
     "execution_count": 26,
     "metadata": {},
     "output_type": "execute_result"
    }
   ],
   "source": [
    "# Let's choose a participant who is iid is 0. She is a female participant.\n",
    "participant = df_female.iloc[0]\n",
    "\n",
    "# Extract only features we need.\n",
    "cols = ['age', 'attr3_1', 'sinc3_1', 'fun3_1', 'intel3_1',  'amb3_1']\n",
    "participant = participant.loc[cols]\n",
    "participant_values = list( participant.values )\n",
    "\n",
    "# Let's make dataframe for the participant. (empty yet)\n",
    "df_input = pd.DataFrame( data = None, columns = cols + ['age_o', 'attr1_1_o', 'sinc1_1_o', 'fun1_1_o', 'intel1_1_o',  'amb1_1_o'] )\n",
    "index = 0\n",
    "\n",
    "print(\"dataframe is been making ...\")\n",
    "\n",
    "# Let's fill each rows of dataframe.\n",
    "for m_index, m_row in df_male_drop.iterrows() :\n",
    "    values = participant_values + list(m_row['age':'amb1_1'].values)\n",
    "            \n",
    "    df_input.loc[index] = values\n",
    "    index += 1\n",
    "    \n",
    "    # Print current progress at each 100 row.\n",
    "    if index % 100 == 0 :\n",
    "        print(index, end = \" \")\n",
    "print()\n",
    "print(\"success.\\n\")\n",
    "\n",
    "# We need to fix above dataframe for order of X.\n",
    "X = ['attr3_1', 'sinc3_1', 'intel3_1', 'fun3_1', 'amb3_1',\n",
    "   'attr1_1_o', 'sinc1_1_o', 'fun1_1_o', 'intel1_1_o',  'amb1_1_o',\n",
    "   'age','age_o'\n",
    "  ]\n",
    "df_input = df_input[X]\n",
    "\n",
    "print(df_input.shape)\n",
    "df_input.head()"
   ]
  },
  {
   "cell_type": "markdown",
   "metadata": {},
   "source": [
    "### Prediction"
   ]
  },
  {
   "cell_type": "code",
   "execution_count": 28,
   "metadata": {},
   "outputs": [
    {
     "data": {
      "text/html": [
       "<div>\n",
       "<style scoped>\n",
       "    .dataframe tbody tr th:only-of-type {\n",
       "        vertical-align: middle;\n",
       "    }\n",
       "\n",
       "    .dataframe tbody tr th {\n",
       "        vertical-align: top;\n",
       "    }\n",
       "\n",
       "    .dataframe thead th {\n",
       "        text-align: right;\n",
       "    }\n",
       "</style>\n",
       "<table border=\"1\" class=\"dataframe\">\n",
       "  <thead>\n",
       "    <tr style=\"text-align: right;\">\n",
       "      <th></th>\n",
       "      <th>iid</th>\n",
       "      <th>attr3_1</th>\n",
       "      <th>sinc3_1</th>\n",
       "      <th>fun3_1</th>\n",
       "      <th>intel3_1</th>\n",
       "      <th>amb3_1</th>\n",
       "      <th>dec_prediction</th>\n",
       "    </tr>\n",
       "  </thead>\n",
       "  <tbody>\n",
       "    <tr>\n",
       "      <th>100</th>\n",
       "      <td>11</td>\n",
       "      <td>8.0</td>\n",
       "      <td>9.0</td>\n",
       "      <td>7.0</td>\n",
       "      <td>8.0</td>\n",
       "      <td>5.0</td>\n",
       "      <td>1.0</td>\n",
       "    </tr>\n",
       "    <tr>\n",
       "      <th>3561</th>\n",
       "      <td>251</td>\n",
       "      <td>8.0</td>\n",
       "      <td>10.0</td>\n",
       "      <td>9.0</td>\n",
       "      <td>10.0</td>\n",
       "      <td>9.0</td>\n",
       "      <td>1.0</td>\n",
       "    </tr>\n",
       "    <tr>\n",
       "      <th>3516</th>\n",
       "      <td>246</td>\n",
       "      <td>7.0</td>\n",
       "      <td>8.0</td>\n",
       "      <td>6.0</td>\n",
       "      <td>7.0</td>\n",
       "      <td>6.0</td>\n",
       "      <td>1.0</td>\n",
       "    </tr>\n",
       "    <tr>\n",
       "      <th>6338</th>\n",
       "      <td>411</td>\n",
       "      <td>8.0</td>\n",
       "      <td>6.0</td>\n",
       "      <td>9.0</td>\n",
       "      <td>7.0</td>\n",
       "      <td>5.0</td>\n",
       "      <td>1.0</td>\n",
       "    </tr>\n",
       "    <tr>\n",
       "      <th>3368</th>\n",
       "      <td>232</td>\n",
       "      <td>8.0</td>\n",
       "      <td>8.0</td>\n",
       "      <td>8.0</td>\n",
       "      <td>8.0</td>\n",
       "      <td>6.0</td>\n",
       "      <td>1.0</td>\n",
       "    </tr>\n",
       "  </tbody>\n",
       "</table>\n",
       "</div>"
      ],
      "text/plain": [
       "      iid  attr3_1  sinc3_1  fun3_1  intel3_1  amb3_1  dec_prediction\n",
       "100    11      8.0      9.0     7.0       8.0     5.0             1.0\n",
       "3561  251      8.0     10.0     9.0      10.0     9.0             1.0\n",
       "3516  246      7.0      8.0     6.0       7.0     6.0             1.0\n",
       "6338  411      8.0      6.0     9.0       7.0     5.0             1.0\n",
       "3368  232      8.0      8.0     8.0       8.0     6.0             1.0"
      ]
     },
     "execution_count": 28,
     "metadata": {},
     "output_type": "execute_result"
    }
   ],
   "source": [
    "# Input dataframe into our model.\n",
    "prediction = clf.predict_proba(df_input)\n",
    "\n",
    "# Let's make result dataframe and add column including 'prediction'\n",
    "dec_prediciton = []\n",
    "for i in prediction :\n",
    "    dec_prediciton.append(i[0])\n",
    "cols = ['iid', 'attr3_1', 'sinc3_1', 'fun3_1', 'intel3_1', 'amb3_1']\n",
    "df_result = df_male_drop.loc[:, cols]\n",
    "df_result['dec_prediction'] = dec_prediciton\n",
    "\n",
    "# Sort by prediction value.\n",
    "df_result.sort_values(by = ['dec_prediction'], inplace = True, ascending= False )\n",
    "df_result.head()"
   ]
  },
  {
   "cell_type": "markdown",
   "metadata": {},
   "source": [
    "above dataframe mean other participants who want to meet a participant (who we selected at first) again.  \n",
    "It is sorted by desc-order.  \n",
    "It predicted that participant whose iid are 11, 251, 246, 411, 232 want to meet her again."
   ]
  },
  {
   "cell_type": "markdown",
   "metadata": {},
   "source": [
    "### Distribution of dec_o"
   ]
  },
  {
   "cell_type": "code",
   "execution_count": 30,
   "metadata": {},
   "outputs": [
    {
     "data": {
      "text/plain": [
       "Text(0.5,1,'distribution of dec_o')"
      ]
     },
     "execution_count": 30,
     "metadata": {},
     "output_type": "execute_result"
    },
    {
     "data": {
      "image/png": "[encoded data removed]",
      "text/plain": [
       "<matplotlib.figure.Figure at 0x1a7afa86240>"
      ]
     },
     "metadata": {},
     "output_type": "display_data"
    }
   ],
   "source": [
    "fig = sns.distplot(df_result['dec_prediction'], hist=True, kde=False)\n",
    "fig.set_title(\"distribution of dec_o\")"
   ]
  }
 ],
 "metadata": {
  "kernelspec": {
   "display_name": "Python 3",
   "language": "python",
   "name": "python3"
  },
  "language_info": {
   "codemirror_mode": {
    "name": "ipython",
    "version": 3
   },
   "file_extension": ".py",
   "mimetype": "text/x-python",
   "name": "python",
   "nbconvert_exporter": "python",
   "pygments_lexer": "ipython3",
   "version": "3.6.4"
  }
 },
 "nbformat": 4,
 "nbformat_minor": 2
}
