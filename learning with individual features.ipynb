{
 "cells": [
  {
   "cell_type": "markdown",
   "metadata": {},
   "source": [
    "# Data Preprocessing"
   ]
  },
  {
   "cell_type": "code",
   "execution_count": 2,
   "metadata": {},
   "outputs": [
    {
     "data": {
      "text/plain": [
       "(8378, 195)"
      ]
     },
     "execution_count": 2,
     "metadata": {},
     "output_type": "execute_result"
    }
   ],
   "source": [
    "import pandas as pd\n",
    "import numpy as np\n",
    "import matplotlib.pyplot as plt\n",
    "import seaborn as sns\n",
    "\n",
    "df_data = pd.read_csv(\"data/Speed Dating Data.csv\")\n",
    "df_data.shape"
   ]
  },
  {
   "cell_type": "code",
   "execution_count": 4,
   "metadata": {},
   "outputs": [
    {
     "data": {
      "text/html": [
       "<div>\n",
       "<style scoped>\n",
       "    .dataframe tbody tr th:only-of-type {\n",
       "        vertical-align: middle;\n",
       "    }\n",
       "\n",
       "    .dataframe tbody tr th {\n",
       "        vertical-align: top;\n",
       "    }\n",
       "\n",
       "    .dataframe thead th {\n",
       "        text-align: right;\n",
       "    }\n",
       "</style>\n",
       "<table border=\"1\" class=\"dataframe\">\n",
       "  <thead>\n",
       "    <tr style=\"text-align: right;\">\n",
       "      <th></th>\n",
       "      <th>iid</th>\n",
       "      <th>pid</th>\n",
       "      <th>match</th>\n",
       "      <th>gender</th>\n",
       "      <th>age</th>\n",
       "      <th>race</th>\n",
       "      <th>field_cd</th>\n",
       "      <th>date</th>\n",
       "      <th>go_out</th>\n",
       "      <th>age_o</th>\n",
       "      <th>race_o</th>\n",
       "      <th>field_cd_o</th>\n",
       "      <th>date_o</th>\n",
       "      <th>go_out_o</th>\n",
       "    </tr>\n",
       "  </thead>\n",
       "  <tbody>\n",
       "    <tr>\n",
       "      <th>0</th>\n",
       "      <td>1.0</td>\n",
       "      <td>11.0</td>\n",
       "      <td>0.0</td>\n",
       "      <td>0.0</td>\n",
       "      <td>21.0</td>\n",
       "      <td>4.0</td>\n",
       "      <td>1.0</td>\n",
       "      <td>7.0</td>\n",
       "      <td>1.0</td>\n",
       "      <td>27.0</td>\n",
       "      <td>2.0</td>\n",
       "      <td>8.0</td>\n",
       "      <td>5.0</td>\n",
       "      <td>4.0</td>\n",
       "    </tr>\n",
       "    <tr>\n",
       "      <th>1</th>\n",
       "      <td>1.0</td>\n",
       "      <td>12.0</td>\n",
       "      <td>0.0</td>\n",
       "      <td>0.0</td>\n",
       "      <td>21.0</td>\n",
       "      <td>4.0</td>\n",
       "      <td>1.0</td>\n",
       "      <td>7.0</td>\n",
       "      <td>1.0</td>\n",
       "      <td>22.0</td>\n",
       "      <td>2.0</td>\n",
       "      <td>1.0</td>\n",
       "      <td>1.0</td>\n",
       "      <td>1.0</td>\n",
       "    </tr>\n",
       "    <tr>\n",
       "      <th>2</th>\n",
       "      <td>1.0</td>\n",
       "      <td>13.0</td>\n",
       "      <td>1.0</td>\n",
       "      <td>0.0</td>\n",
       "      <td>21.0</td>\n",
       "      <td>4.0</td>\n",
       "      <td>1.0</td>\n",
       "      <td>7.0</td>\n",
       "      <td>1.0</td>\n",
       "      <td>22.0</td>\n",
       "      <td>4.0</td>\n",
       "      <td>1.0</td>\n",
       "      <td>7.0</td>\n",
       "      <td>1.0</td>\n",
       "    </tr>\n",
       "    <tr>\n",
       "      <th>3</th>\n",
       "      <td>1.0</td>\n",
       "      <td>14.0</td>\n",
       "      <td>1.0</td>\n",
       "      <td>0.0</td>\n",
       "      <td>21.0</td>\n",
       "      <td>4.0</td>\n",
       "      <td>1.0</td>\n",
       "      <td>7.0</td>\n",
       "      <td>1.0</td>\n",
       "      <td>23.0</td>\n",
       "      <td>2.0</td>\n",
       "      <td>1.0</td>\n",
       "      <td>4.0</td>\n",
       "      <td>1.0</td>\n",
       "    </tr>\n",
       "    <tr>\n",
       "      <th>4</th>\n",
       "      <td>1.0</td>\n",
       "      <td>15.0</td>\n",
       "      <td>1.0</td>\n",
       "      <td>0.0</td>\n",
       "      <td>21.0</td>\n",
       "      <td>4.0</td>\n",
       "      <td>1.0</td>\n",
       "      <td>7.0</td>\n",
       "      <td>1.0</td>\n",
       "      <td>24.0</td>\n",
       "      <td>3.0</td>\n",
       "      <td>1.0</td>\n",
       "      <td>4.0</td>\n",
       "      <td>1.0</td>\n",
       "    </tr>\n",
       "  </tbody>\n",
       "</table>\n",
       "</div>"
      ],
      "text/plain": [
       "   iid   pid  match  gender   age  race  field_cd  date  go_out  age_o  \\\n",
       "0  1.0  11.0    0.0     0.0  21.0   4.0       1.0   7.0     1.0   27.0   \n",
       "1  1.0  12.0    0.0     0.0  21.0   4.0       1.0   7.0     1.0   22.0   \n",
       "2  1.0  13.0    1.0     0.0  21.0   4.0       1.0   7.0     1.0   22.0   \n",
       "3  1.0  14.0    1.0     0.0  21.0   4.0       1.0   7.0     1.0   23.0   \n",
       "4  1.0  15.0    1.0     0.0  21.0   4.0       1.0   7.0     1.0   24.0   \n",
       "\n",
       "   race_o  field_cd_o  date_o  go_out_o  \n",
       "0     2.0         8.0     5.0       4.0  \n",
       "1     2.0         1.0     1.0       1.0  \n",
       "2     4.0         1.0     7.0       1.0  \n",
       "3     2.0         1.0     4.0       1.0  \n",
       "4     3.0         1.0     4.0       1.0  "
      ]
     },
     "execution_count": 4,
     "metadata": {},
     "output_type": "execute_result"
    }
   ],
   "source": [
    "cols = ['iid',  'pid', 'match','gender',\n",
    "        'age', 'race', 'field_cd', 'date', 'go_out', 'age_o', 'race_o']\n",
    "\n",
    "df_selected = df_data.loc[:, cols]\n",
    "\n",
    "# Separate dataframe into male and female.\n",
    "df_male = df_selected.loc[ df_selected['gender'] == 0 ]\n",
    "df_female = df_selected.loc[ df_selected['gender'] == 1 ]\n",
    "\n",
    "# Select columns we want from female's dataframe.\n",
    "attr3 = ['iid', 'field_cd', 'date', 'go_out']\n",
    "df_female = df_female.loc[:, attr3]\n",
    "\n",
    "# Drop duplicated Index from female's dataframe.\n",
    "df_female.drop_duplicates('iid', inplace=True)\n",
    "\n",
    "# Let's make dataframe for matching. (empty yet)\n",
    "df_match = pd.DataFrame( data = None, columns = cols + ['field_cd_o', 'date_o', 'go_out_o'] )\n",
    "index = 0\n",
    "\n",
    "# Let's fill each rows of dataframe for matching.\n",
    "for m_index, m_row in df_male.iterrows() :\n",
    "    pid = m_row['pid']\n",
    "    \n",
    "#     Find partner id in female group corresponding to each row.\n",
    "    for f_index, f_row in df_female.iterrows() :\n",
    "        if pid == f_row['iid'] :\n",
    "            \n",
    "#           Extract values from each row of dataframes.\n",
    "            values = list(m_row.values) + list(f_row.values[1:])\n",
    "    \n",
    "#           Fill a row of match dataframe\n",
    "            df_match.loc[index] = values\n",
    "            index += 1\n",
    "#             print(index)\n",
    "            \n",
    "            break\n",
    "#     if index ==  :\n",
    "#         break\n",
    "    \n",
    "df_match.head()"
   ]
  },
  {
   "cell_type": "code",
   "execution_count": 6,
   "metadata": {},
   "outputs": [],
   "source": [
    "from sklearn.utils import shuffle\n",
    "\n",
    "cols = ['iid',  'pid', 'match','gender',\n",
    "        'age', 'race', 'field_cd', 'date', 'go_out', 'age_o', 'race_o', 'field_cd_o', 'date_o', 'go_out_o']\n",
    "\n",
    "new_data=df_match.dropna(subset=cols)\n",
    "new_data = shuffle(new_data)\n"
   ]
  },
  {
   "cell_type": "markdown",
   "metadata": {},
   "source": [
    "# Data Separation"
   ]
  },
  {
   "cell_type": "code",
   "execution_count": 10,
   "metadata": {},
   "outputs": [],
   "source": [
    "from sklearn.model_selection import KFold\n",
    "from sklearn.model_selection import cross_val_score\n",
    "from sklearn.model_selection import train_test_split\n",
    "\n",
    "X=['age', 'race', 'field_cd', 'date', 'go_out', 'age_o', 'race_o', 'field_cd_o', 'date_o', 'go_out_o']\n",
    "Y=['match']\n",
    "\n",
    "train_1,  test_1 = train_test_split(new_data, test_size=0.2,random_state=0)\n",
    "\n",
    "data_X=train_1[X]\n",
    "data_Y=train_1[Y]\n",
    "    \n",
    "test_X=test_1[X]\n",
    "test_Y=test_1[Y]\n",
    "\n",
    "kf = KFold(n_splits=4, random_state=1)\n",
    "#new_data.head()"
   ]
  },
  {
   "cell_type": "code",
   "execution_count": 11,
   "metadata": {},
   "outputs": [
    {
     "name": "stdout",
     "output_type": "stream",
     "text": [
      "0.7438118811881188\n"
     ]
    }
   ],
   "source": [
    "from sklearn.tree import DecisionTreeClassifier\n",
    "from sklearn import metrics\n",
    "\n",
    "model=DecisionTreeClassifier()\n",
    "\n",
    "for i, (train, test) in enumerate(kf.split(train_1)):\n",
    "    #print(test)\n",
    "    train_data_X = np.array(data_X)[train]\n",
    "    #print(train_data_X)\n",
    "    train_data_Y = np.array(data_Y)[train]\n",
    "    test_data_X = np.array(data_X)[test]\n",
    "    test_data_Y = np.array(data_Y)[test]\n",
    "    model.fit(train_data_X, train_data_Y)\n",
    "    \n",
    "prediction = model.predict(test_X)\n",
    "print(metrics.accuracy_score(prediction, test_Y))"
   ]
  },
  {
   "cell_type": "code",
   "execution_count": 12,
   "metadata": {},
   "outputs": [
    {
     "name": "stdout",
     "output_type": "stream",
     "text": [
      "0.8465346534653465\n"
     ]
    }
   ],
   "source": [
    "from sklearn import svm\n",
    "svc_r = svm.SVC(kernel='linear')\n",
    "\n",
    "for i, (train, test) in enumerate(kf.split(train_1)):\n",
    "    #print(test)\n",
    "    train_data_X = np.array(data_X)[train]\n",
    "    #print(train_data_X)\n",
    "    train_data_Y = np.array(data_Y)[train].ravel()\n",
    "    test_data_X = np.array(data_X)[test]\n",
    "    test_data_Y = np.array(data_Y)[test].ravel()\n",
    "    svc_r.fit(train_data_X, train_data_Y)\n",
    "\n",
    "accuracy = svc_r.score(test_X, test_Y)\n",
    "print(accuracy)"
   ]
  },
  {
   "cell_type": "code",
   "execution_count": 15,
   "metadata": {},
   "outputs": [
    {
     "name": "stdout",
     "output_type": "stream",
     "text": [
      "0.8254950495049505\n"
     ]
    }
   ],
   "source": [
    "from sklearn import neighbors\n",
    "\n",
    "model = neighbors.KNeighborsClassifier()\n",
    "\n",
    "for i, (train, test) in enumerate(kf.split(train_1)):\n",
    "    #print(test)\n",
    "    train_data_X = np.array(data_X)[train]\n",
    "    #print(train_data_X)\n",
    "    train_data_Y = np.array(data_Y)[train].ravel()\n",
    "    test_data_X = np.array(data_X)[test]\n",
    "    test_data_Y = np.array(data_Y)[test].ravel()\n",
    "    model.fit(train_data_X, train_data_Y)\n",
    "    \n",
    "accuracy = model.score(test_X, test_Y)\n",
    "print(accuracy)"
   ]
  },
  {
   "cell_type": "code",
   "execution_count": 16,
   "metadata": {},
   "outputs": [
    {
     "name": "stdout",
     "output_type": "stream",
     "text": [
      "0.8477722772277227\n"
     ]
    }
   ],
   "source": [
    "from sklearn import svm\n",
    "svc_r = svm.SVC(kernel='rbf')\n",
    "\n",
    "for i, (train, test) in enumerate(kf.split(train_1)):\n",
    "    #print(test)\n",
    "    train_data_X = np.array(data_X)[train]\n",
    "    #print(train_data_X)\n",
    "    train_data_Y = np.array(data_Y)[train].ravel()\n",
    "    test_data_X = np.array(data_X)[test]\n",
    "    test_data_Y = np.array(data_Y)[test].ravel()\n",
    "    svc_r.fit(train_data_X, train_data_Y)\n",
    "\n",
    "accuracy = svc_r.score(test_X, test_Y)\n",
    "print(accuracy)"
   ]
  },
  {
   "cell_type": "code",
   "execution_count": null,
   "metadata": {},
   "outputs": [],
   "source": []
  },
  {
   "cell_type": "code",
   "execution_count": null,
   "metadata": {},
   "outputs": [],
   "source": []
  }
 ],
 "metadata": {
  "kernelspec": {
   "display_name": "Python 3",
   "language": "python",
   "name": "python3"
  },
  "language_info": {
   "codemirror_mode": {
    "name": "ipython",
    "version": 3
   },
   "file_extension": ".py",
   "mimetype": "text/x-python",
   "name": "python",
   "nbconvert_exporter": "python",
   "pygments_lexer": "ipython3",
   "version": "3.6.5"
  }
 },
 "nbformat": 4,
 "nbformat_minor": 2
}
