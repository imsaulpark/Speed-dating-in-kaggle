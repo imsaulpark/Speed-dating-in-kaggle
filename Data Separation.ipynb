{
 "cells": [
  {
   "cell_type": "markdown",
   "metadata": {},
   "source": [
    "# Read Data"
   ]
  },
  {
   "cell_type": "code",
   "execution_count": 1,
   "metadata": {
    "scrolled": true
   },
   "outputs": [
    {
     "data": {
      "text/plain": [
       "(8378, 195)"
      ]
     },
     "execution_count": 1,
     "metadata": {},
     "output_type": "execute_result"
    }
   ],
   "source": [
    "import numpy as np\n",
    "import pandas as pd\n",
    "\n",
    "data=pd.read_csv('data/Speed Dating Data.csv')\n",
    "data.shape"
   ]
  },
  {
   "cell_type": "markdown",
   "metadata": {},
   "source": [
    "# Preprocessing"
   ]
  },
  {
   "cell_type": "code",
   "execution_count": 2,
   "metadata": {
    "scrolled": true
   },
   "outputs": [],
   "source": [
    "new_data=data.dropna(subset=['attr', 'sinc', 'intel', 'fun', 'amb', 'shar', 'dec'])\n",
    "new_data\n",
    "\n",
    "X=['attr', 'sinc', 'intel', 'fun', 'amb', 'shar']\n",
    "Y=['dec']"
   ]
  },
  {
   "cell_type": "markdown",
   "metadata": {},
   "source": [
    "# No.2"
   ]
  },
  {
   "cell_type": "code",
   "execution_count": 17,
   "metadata": {},
   "outputs": [
    {
     "name": "stdout",
     "output_type": "stream",
     "text": [
      "0.6829545454545455\n",
      "0.6801136363636363\n",
      "0.6613636363636364\n",
      "0.6579545454545455\n",
      "0.6522727272727272\n",
      "0.6670454545454545\n",
      "0.6642045454545454\n",
      "0.6556818181818181\n",
      "0.678409090909091\n",
      "0.6659090909090909\n",
      "The accuracy of the Decision Tree is 0.5147727272727273\n"
     ]
    }
   ],
   "source": [
    "from sklearn.tree import DecisionTreeClassifier\n",
    "from sklearn.model_selection import train_test_split\n",
    "from sklearn import metrics\n",
    "\n",
    "tree_model = DecisionTreeClassifier()\n",
    "\n",
    "for i in range(0,100) :\n",
    "\n",
    "    new_data = shuffle(new_data)\n",
    "    train, test = train_test_split(new_data, test_size=0.25,random_state=1)\n",
    "\n",
    "    #print(train)\n",
    "    #print(test)\n",
    "\n",
    "    train_X=train[X]\n",
    "    train_Y=train[Y]\n",
    "\n",
    "    test_X=test[X]\n",
    "    test_Y=test[Y]\n",
    "\n",
    "    features_one = train_X.values\n",
    "    target = train_Y.values\n",
    "\n",
    "    tree_model.fit(features_one, target)\n",
    "    if i % 10 ==0:\n",
    "        dt_prediction = tree_model.predict(test_X)\n",
    "        print(metrics.accuracy_score(dt_prediction, test_Y))\n",
    "\n",
    "print('The accuracy of the Decision Tree is',metrics.accuracy_score(dt_prediction, test_Y))\n"
   ]
  },
  {
   "cell_type": "markdown",
   "metadata": {},
   "source": [
    "# No.3"
   ]
  },
  {
   "cell_type": "code",
   "execution_count": 5,
   "metadata": {
    "scrolled": true
   },
   "outputs": [
    {
     "name": "stdout",
     "output_type": "stream",
     "text": [
      "KFold(n_splits=10, random_state=1, shuffle=False)\n"
     ]
    },
    {
     "data": {
      "text/plain": [
       "array([0.68181818, 0.66761364, 0.66761364, 0.70880682, 0.671875  ,\n",
       "       0.69034091, 0.67897727, 0.65056818, 0.65482955, 0.65767045])"
      ]
     },
     "execution_count": 5,
     "metadata": {},
     "output_type": "execute_result"
    }
   ],
   "source": [
    "from sklearn.model_selection import KFold\n",
    "from sklearn.model_selection import cross_val_score\n",
    "from sklearn.utils import shuffle\n",
    "\n",
    "kf = KFold(n_splits=10, random_state=1)\n",
    "#kf.get_n_splits(new_data)\n",
    "\n",
    "print(kf)\n",
    "#print(new_data)\n",
    "new_data = shuffle(new_data)\n",
    "\n",
    "model=DecisionTreeClassifier()\n",
    "\n",
    "data_X=new_data[X]\n",
    "data_Y=new_data[Y]\n",
    "\n",
    "for i, (train, test) in enumerate(kf.split(new_data)):\n",
    "    #print(np.array(new_data)[test])\n",
    "    train_data_X = np.array(data_X)[train]\n",
    "    train_data_Y = np.array(data_Y)[train]\n",
    "    test_data_X = np.array(data_X)[test]\n",
    "    test_data_Y = np.array(data_Y)[test]\n",
    "    model.fit(train_data_X, train_data_Y)\n",
    "    prediction=model.predict(test_data_X)\n",
    "\n",
    "cross_val_score(model,data_X,data_Y,cv=kf)"
   ]
  },
  {
   "cell_type": "markdown",
   "metadata": {},
   "source": [
    "# No.4"
   ]
  },
  {
   "cell_type": "code",
   "execution_count": 42,
   "metadata": {},
   "outputs": [
    {
     "name": "stdout",
     "output_type": "stream",
     "text": [
      "0.6548295454545454\n",
      "0.6470170454545454\n",
      "0.6505681818181818\n",
      "0.6548295454545454\n",
      "0.6498579545454546\n",
      "0.6491477272727273\n",
      "0.6470170454545454\n",
      "0.6498579545454546\n",
      "0.6526988636363636\n",
      "0.6498579545454546\n",
      "0.6505681818181818\n",
      "0.6455965909090909\n",
      "0.6512784090909091\n",
      "0.6498579545454546\n",
      "0.6512784090909091\n",
      "0.6512784090909091\n",
      "0.6534090909090909\n",
      "0.6505681818181818\n",
      "0.6498579545454546\n",
      "0.6519886363636364\n",
      "0.6484375\n",
      "0.6477272727272727\n",
      "0.6505681818181818\n",
      "0.6505681818181818\n",
      "0.6470170454545454\n",
      "0.6555397727272727\n",
      "0.6512784090909091\n",
      "0.6505681818181818\n",
      "0.6470170454545454\n",
      "0.6519886363636364\n",
      "0.6470170454545454\n",
      "0.6541193181818182\n",
      "0.6427556818181818\n",
      "0.6519886363636364\n",
      "0.6420454545454546\n",
      "0.6448863636363636\n",
      "0.65625\n",
      "0.6512784090909091\n",
      "0.6498579545454546\n",
      "0.6519886363636364\n",
      "0.6498579545454546\n",
      "0.6455965909090909\n",
      "0.6498579545454546\n",
      "0.6526988636363636\n",
      "0.6526988636363636\n",
      "0.6427556818181818\n",
      "0.6455965909090909\n",
      "0.6470170454545454\n",
      "0.6555397727272727\n",
      "0.6526988636363636\n",
      "0.6512784090909091\n",
      "0.6498579545454546\n",
      "0.6505681818181818\n",
      "0.6512784090909091\n",
      "0.6491477272727273\n",
      "0.6463068181818182\n",
      "0.6505681818181818\n",
      "0.6512784090909091\n",
      "0.6448863636363636\n",
      "0.6583806818181818\n",
      "0.6470170454545454\n",
      "0.6541193181818182\n",
      "0.6463068181818182\n",
      "0.6477272727272727\n",
      "0.6505681818181818\n",
      "0.6484375\n",
      "0.6598011363636364\n",
      "0.6498579545454546\n",
      "0.6470170454545454\n",
      "0.6505681818181818\n",
      "0.6512784090909091\n",
      "0.6534090909090909\n",
      "0.6427556818181818\n",
      "0.6441761363636364\n",
      "0.6505681818181818\n",
      "0.6477272727272727\n",
      "0.6470170454545454\n",
      "0.6434659090909091\n",
      "0.6470170454545454\n",
      "0.6505681818181818\n",
      "0.6512784090909091\n",
      "0.6470170454545454\n",
      "0.6526988636363636\n",
      "0.6455965909090909\n",
      "0.6512784090909091\n",
      "0.6555397727272727\n",
      "0.6512784090909091\n",
      "0.6512784090909091\n",
      "0.6463068181818182\n",
      "0.6526988636363636\n",
      "0.6463068181818182\n",
      "0.6512784090909091\n",
      "0.6505681818181818\n",
      "0.6463068181818182\n",
      "0.6448863636363636\n",
      "0.6420454545454546\n",
      "0.6448863636363636\n",
      "0.6541193181818182\n",
      "0.6519886363636364\n",
      "0.6519886363636364\n"
     ]
    }
   ],
   "source": [
    "kf = KFold(n_splits=4, random_state=1)\n",
    "\n",
    "model=DecisionTreeClassifier()\n",
    "\n",
    "    \n",
    "train_1, test_1 = train_test_split(new_data, test_size=0.2,random_state=0)\n",
    "\n",
    "data_X=train_1[X]\n",
    "data_Y=train_1[Y]\n",
    "    \n",
    "test_X=test_1[X]\n",
    "test_Y=test_1[Y]\n",
    "\n",
    "for i, (train, test) in enumerate(kf.split(train_1)):\n",
    "    #print(test)\n",
    "    train_data_X = np.array(data_X)[train]\n",
    "    #print(train_data_X)\n",
    "    train_data_Y = np.array(data_Y)[train]\n",
    "    test_data_X = np.array(data_X)[test]\n",
    "    test_data_Y = np.array(data_Y)[test]\n",
    "    model.fit(train_data_X, train_data_Y)\n",
    "    \n",
    "prediction = model.predict(test_X)\n",
    "print(metrics.accuracy_score(prediction, test_Y))\n",
    "\n",
    "#print(cross_val_score(model,data_X,data_Y,cv=kf))\n",
    "#print(metrics.accuracy_score(prediction, test_Y))"
   ]
  }
 ],
 "metadata": {
  "kernelspec": {
   "display_name": "Python 3",
   "language": "python",
   "name": "python3"
  },
  "language_info": {
   "codemirror_mode": {
    "name": "ipython",
    "version": 3
   },
   "file_extension": ".py",
   "mimetype": "text/x-python",
   "name": "python",
   "nbconvert_exporter": "python",
   "pygments_lexer": "ipython3",
   "version": "3.6.5"
  }
 },
 "nbformat": 4,
 "nbformat_minor": 2
}
